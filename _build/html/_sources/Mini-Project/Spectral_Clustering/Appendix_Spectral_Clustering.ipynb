{
 "cells": [
  {
   "cell_type": "markdown",
   "metadata": {},
   "source": [
    "# Appendix Spectral Clustering\n",
    "\n",
    "This notebook should be regarded as an appendix. It was used to create different plots and dataframes which are shown in our explanation of the spectral clustering algorithm."
   ]
  },
  {
   "cell_type": "markdown",
   "metadata": {},
   "source": [
    "## Part 1: Affinity and Laplacian Matrix\n",
    "### Stylized Datapoints for Affinity and Laplacian Matrix"
   ]
  },
  {
   "cell_type": "code",
   "execution_count": 219,
   "metadata": {},
   "outputs": [
    {
     "data": {
      "image/png": "[encoded data removed]",
      "text/plain": [
       "<Figure size 576x360 with 1 Axes>"
      ]
     },
     "metadata": {
      "needs_background": "light"
     },
     "output_type": "display_data"
    }
   ],
   "source": [
    "from sklearn.cluster import SpectralClustering\n",
    "from sklearn.neighbors import kneighbors_graph\n",
    "from scipy.sparse.csgraph import laplacian as csgraph_laplacian\n",
    "from scipy.sparse.linalg import eigsh\n",
    "from sklearn import datasets\n",
    "import numpy as np\n",
    "import matplotlib.pyplot as plt\n",
    "import pandas as pd\n",
    "import math\n",
    "# Initialize Data Set\n",
    "X = np.array([[1, 1], [1, 3], [2, 4], [4, 3]])\n",
    "\n",
    "# Plot Data Set\n",
    "plt.figure(figsize=(8,5))\n",
    "plt.xlim(0, 5)\n",
    "plt.ylim(0, 5)\n",
    "plt.text(0.8, 1, '0')\n",
    "plt.text(0.8, 3, '1')\n",
    "plt.text(1.8, 4, '2')\n",
    "plt.text(3.8, 3, '3')\n",
    "plt.scatter(X[:, 0], X[:, 1])\n",
    "plt.savefig('dataset1.jpg', dpi=300, bbox_inches='tight', pad_inches=0)"
   ]
  },
  {
   "cell_type": "markdown",
   "metadata": {},
   "source": [
    "### Affinity Matrix\n",
    "#### Affinity Matrix using `nearest_neighbors`\n",
    "Initially, the affinity matrix is displayed, which is outputted by clustering.affinity_matrix_. To gain a better understanding about the calculations, it was in a second step \"manually\" implemented without using sklearn.cluster.SpectralClustering."
   ]
  },
  {
   "cell_type": "code",
   "execution_count": 220,
   "metadata": {},
   "outputs": [
    {
     "data": {
      "text/html": [
       "<div>\n",
       "<style scoped>\n",
       "    .dataframe tbody tr th:only-of-type {\n",
       "        vertical-align: middle;\n",
       "    }\n",
       "\n",
       "    .dataframe tbody tr th {\n",
       "        vertical-align: top;\n",
       "    }\n",
       "\n",
       "    .dataframe thead th {\n",
       "        text-align: right;\n",
       "    }\n",
       "</style>\n",
       "<table border=\"1\" class=\"dataframe\">\n",
       "  <thead>\n",
       "    <tr style=\"text-align: right;\">\n",
       "      <th></th>\n",
       "      <th>0</th>\n",
       "      <th>1</th>\n",
       "      <th>2</th>\n",
       "      <th>3</th>\n",
       "    </tr>\n",
       "  </thead>\n",
       "  <tbody>\n",
       "    <tr>\n",
       "      <th>0</th>\n",
       "      <td>1.0</td>\n",
       "      <td>0.5</td>\n",
       "      <td>0.0</td>\n",
       "      <td>0.0</td>\n",
       "    </tr>\n",
       "    <tr>\n",
       "      <th>1</th>\n",
       "      <td>0.5</td>\n",
       "      <td>1.0</td>\n",
       "      <td>1.0</td>\n",
       "      <td>0.0</td>\n",
       "    </tr>\n",
       "    <tr>\n",
       "      <th>2</th>\n",
       "      <td>0.0</td>\n",
       "      <td>1.0</td>\n",
       "      <td>1.0</td>\n",
       "      <td>0.5</td>\n",
       "    </tr>\n",
       "    <tr>\n",
       "      <th>3</th>\n",
       "      <td>0.0</td>\n",
       "      <td>0.0</td>\n",
       "      <td>0.5</td>\n",
       "      <td>1.0</td>\n",
       "    </tr>\n",
       "  </tbody>\n",
       "</table>\n",
       "</div>"
      ],
      "text/plain": [
       "     0    1    2    3\n",
       "0  1.0  0.5  0.0  0.0\n",
       "1  0.5  1.0  1.0  0.0\n",
       "2  0.0  1.0  1.0  0.5\n",
       "3  0.0  0.0  0.5  1.0"
      ]
     },
     "execution_count": 220,
     "metadata": {},
     "output_type": "execute_result"
    }
   ],
   "source": [
    "# 1: Using sklearn.cluster.SpectralClustering and clustering.affinity_matrix_\n",
    "# Perform Clustering\n",
    "clustering = SpectralClustering(n_clusters=2,\n",
    "                                affinity='nearest_neighbors',\n",
    "                                n_neighbors=2,\n",
    "                                random_state=0).fit(X)\n",
    "\n",
    "# Show the Affinity Matrix using the implementation of sklearn\n",
    "index = list(range(0, len(X)))\n",
    "columns = list(range(0, len(X)))\n",
    "# Construct DataFrame\n",
    "df_affinity_kn = pd.DataFrame(clustering.affinity_matrix_.toarray(), index = index, columns = columns)\n",
    "# Output Affinity Matrix as DataFrame\n",
    "df_affinity_kn"
   ]
  },
  {
   "cell_type": "code",
   "execution_count": 221,
   "metadata": {},
   "outputs": [
    {
     "data": {
      "text/html": [
       "<div>\n",
       "<style scoped>\n",
       "    .dataframe tbody tr th:only-of-type {\n",
       "        vertical-align: middle;\n",
       "    }\n",
       "\n",
       "    .dataframe tbody tr th {\n",
       "        vertical-align: top;\n",
       "    }\n",
       "\n",
       "    .dataframe thead th {\n",
       "        text-align: right;\n",
       "    }\n",
       "</style>\n",
       "<table border=\"1\" class=\"dataframe\">\n",
       "  <thead>\n",
       "    <tr style=\"text-align: right;\">\n",
       "      <th></th>\n",
       "      <th>0</th>\n",
       "      <th>1</th>\n",
       "      <th>2</th>\n",
       "      <th>3</th>\n",
       "    </tr>\n",
       "  </thead>\n",
       "  <tbody>\n",
       "    <tr>\n",
       "      <th>0</th>\n",
       "      <td>1.0</td>\n",
       "      <td>1.0</td>\n",
       "      <td>0.0</td>\n",
       "      <td>0.0</td>\n",
       "    </tr>\n",
       "    <tr>\n",
       "      <th>1</th>\n",
       "      <td>0.0</td>\n",
       "      <td>1.0</td>\n",
       "      <td>1.0</td>\n",
       "      <td>0.0</td>\n",
       "    </tr>\n",
       "    <tr>\n",
       "      <th>2</th>\n",
       "      <td>0.0</td>\n",
       "      <td>1.0</td>\n",
       "      <td>1.0</td>\n",
       "      <td>0.0</td>\n",
       "    </tr>\n",
       "    <tr>\n",
       "      <th>3</th>\n",
       "      <td>0.0</td>\n",
       "      <td>0.0</td>\n",
       "      <td>1.0</td>\n",
       "      <td>1.0</td>\n",
       "    </tr>\n",
       "  </tbody>\n",
       "</table>\n",
       "</div>"
      ],
      "text/plain": [
       "     0    1    2    3\n",
       "0  1.0  1.0  0.0  0.0\n",
       "1  0.0  1.0  1.0  0.0\n",
       "2  0.0  1.0  1.0  0.0\n",
       "3  0.0  0.0  1.0  1.0"
      ]
     },
     "execution_count": 221,
     "metadata": {},
     "output_type": "execute_result"
    }
   ],
   "source": [
    "# 2: Manuell implementation without using sklearn.cluster.SpectralClustering and clustering.affinity_matrix_\n",
    "# Construct Connectivity Matrix\n",
    "connectivity = kneighbors_graph(X, n_neighbors=2, include_self=True)\n",
    "# Construct DataFrame for Connectivity Matrix\n",
    "df_connectivity = pd.DataFrame(connectivity.toarray(), index = index, columns = columns)\n",
    "# Output Connectivity Matrix as DataFrame\n",
    "df_connectivity"
   ]
  },
  {
   "cell_type": "code",
   "execution_count": 33,
   "metadata": {},
   "outputs": [
    {
     "data": {
      "text/html": [
       "<div>\n",
       "<style scoped>\n",
       "    .dataframe tbody tr th:only-of-type {\n",
       "        vertical-align: middle;\n",
       "    }\n",
       "\n",
       "    .dataframe tbody tr th {\n",
       "        vertical-align: top;\n",
       "    }\n",
       "\n",
       "    .dataframe thead th {\n",
       "        text-align: right;\n",
       "    }\n",
       "</style>\n",
       "<table border=\"1\" class=\"dataframe\">\n",
       "  <thead>\n",
       "    <tr style=\"text-align: right;\">\n",
       "      <th></th>\n",
       "      <th>0</th>\n",
       "      <th>1</th>\n",
       "      <th>2</th>\n",
       "      <th>3</th>\n",
       "    </tr>\n",
       "  </thead>\n",
       "  <tbody>\n",
       "    <tr>\n",
       "      <th>0</th>\n",
       "      <td>1.0</td>\n",
       "      <td>0.5</td>\n",
       "      <td>0.0</td>\n",
       "      <td>0.0</td>\n",
       "    </tr>\n",
       "    <tr>\n",
       "      <th>1</th>\n",
       "      <td>0.5</td>\n",
       "      <td>1.0</td>\n",
       "      <td>1.0</td>\n",
       "      <td>0.0</td>\n",
       "    </tr>\n",
       "    <tr>\n",
       "      <th>2</th>\n",
       "      <td>0.0</td>\n",
       "      <td>1.0</td>\n",
       "      <td>1.0</td>\n",
       "      <td>0.5</td>\n",
       "    </tr>\n",
       "    <tr>\n",
       "      <th>3</th>\n",
       "      <td>0.0</td>\n",
       "      <td>0.0</td>\n",
       "      <td>0.5</td>\n",
       "      <td>1.0</td>\n",
       "    </tr>\n",
       "  </tbody>\n",
       "</table>\n",
       "</div>"
      ],
      "text/plain": [
       "     0    1    2    3\n",
       "0  1.0  0.5  0.0  0.0\n",
       "1  0.5  1.0  1.0  0.0\n",
       "2  0.0  1.0  1.0  0.5\n",
       "3  0.0  0.0  0.5  1.0"
      ]
     },
     "execution_count": 33,
     "metadata": {},
     "output_type": "execute_result"
    }
   ],
   "source": [
    "# Construct Affinity Matrix\n",
    "affinity_matrix_kn = 0.5 * (connectivity + connectivity.T)\n",
    "\n",
    "# Construct DataFrame\n",
    "df_affinity_kn_manuell = pd.DataFrame(affinity_matrix_kn.toarray(), index = index, columns = columns)\n",
    "# Output Affinitx Matrix as DataFrame\n",
    "df_affinity_kn_manuell"
   ]
  },
  {
   "cell_type": "code",
   "execution_count": 36,
   "metadata": {},
   "outputs": [
    {
     "data": {
      "text/html": [
       "<div>\n",
       "<style scoped>\n",
       "    .dataframe tbody tr th:only-of-type {\n",
       "        vertical-align: middle;\n",
       "    }\n",
       "\n",
       "    .dataframe tbody tr th {\n",
       "        vertical-align: top;\n",
       "    }\n",
       "\n",
       "    .dataframe thead th {\n",
       "        text-align: right;\n",
       "    }\n",
       "</style>\n",
       "<table border=\"1\" class=\"dataframe\">\n",
       "  <thead>\n",
       "    <tr style=\"text-align: right;\">\n",
       "      <th></th>\n",
       "      <th>0</th>\n",
       "      <th>1</th>\n",
       "      <th>2</th>\n",
       "      <th>3</th>\n",
       "    </tr>\n",
       "  </thead>\n",
       "  <tbody>\n",
       "    <tr>\n",
       "      <th>0</th>\n",
       "      <td>True</td>\n",
       "      <td>True</td>\n",
       "      <td>True</td>\n",
       "      <td>True</td>\n",
       "    </tr>\n",
       "    <tr>\n",
       "      <th>1</th>\n",
       "      <td>True</td>\n",
       "      <td>True</td>\n",
       "      <td>True</td>\n",
       "      <td>True</td>\n",
       "    </tr>\n",
       "    <tr>\n",
       "      <th>2</th>\n",
       "      <td>True</td>\n",
       "      <td>True</td>\n",
       "      <td>True</td>\n",
       "      <td>True</td>\n",
       "    </tr>\n",
       "    <tr>\n",
       "      <th>3</th>\n",
       "      <td>True</td>\n",
       "      <td>True</td>\n",
       "      <td>True</td>\n",
       "      <td>True</td>\n",
       "    </tr>\n",
       "  </tbody>\n",
       "</table>\n",
       "</div>"
      ],
      "text/plain": [
       "      0     1     2     3\n",
       "0  True  True  True  True\n",
       "1  True  True  True  True\n",
       "2  True  True  True  True\n",
       "3  True  True  True  True"
      ]
     },
     "execution_count": 36,
     "metadata": {},
     "output_type": "execute_result"
    }
   ],
   "source": [
    "# Check of Calculation\n",
    "df_affinity_kn == df_affinity_kn_manuell"
   ]
  },
  {
   "cell_type": "markdown",
   "metadata": {},
   "source": [
    "#### Affinity Matrix using `rbf`\n",
    "Initially, the affinity matrix is displayed, which is outputted by `clustering.affinity_matrix_`. To gain a better understanding about the calculations, it was in a second step \"manually\" implemented without using `sklearn.cluster.SpectralClustering`. "
   ]
  },
  {
   "cell_type": "code",
   "execution_count": 37,
   "metadata": {},
   "outputs": [
    {
     "data": {
      "text/html": [
       "<div>\n",
       "<style scoped>\n",
       "    .dataframe tbody tr th:only-of-type {\n",
       "        vertical-align: middle;\n",
       "    }\n",
       "\n",
       "    .dataframe tbody tr th {\n",
       "        vertical-align: top;\n",
       "    }\n",
       "\n",
       "    .dataframe thead th {\n",
       "        text-align: right;\n",
       "    }\n",
       "</style>\n",
       "<table border=\"1\" class=\"dataframe\">\n",
       "  <thead>\n",
       "    <tr style=\"text-align: right;\">\n",
       "      <th></th>\n",
       "      <th>0</th>\n",
       "      <th>1</th>\n",
       "      <th>2</th>\n",
       "      <th>3</th>\n",
       "    </tr>\n",
       "  </thead>\n",
       "  <tbody>\n",
       "    <tr>\n",
       "      <th>0</th>\n",
       "      <td>1.000000</td>\n",
       "      <td>0.018316</td>\n",
       "      <td>0.000045</td>\n",
       "      <td>0.000002</td>\n",
       "    </tr>\n",
       "    <tr>\n",
       "      <th>1</th>\n",
       "      <td>0.018316</td>\n",
       "      <td>1.000000</td>\n",
       "      <td>0.135335</td>\n",
       "      <td>0.000123</td>\n",
       "    </tr>\n",
       "    <tr>\n",
       "      <th>2</th>\n",
       "      <td>0.000045</td>\n",
       "      <td>0.135335</td>\n",
       "      <td>1.000000</td>\n",
       "      <td>0.006738</td>\n",
       "    </tr>\n",
       "    <tr>\n",
       "      <th>3</th>\n",
       "      <td>0.000002</td>\n",
       "      <td>0.000123</td>\n",
       "      <td>0.006738</td>\n",
       "      <td>1.000000</td>\n",
       "    </tr>\n",
       "  </tbody>\n",
       "</table>\n",
       "</div>"
      ],
      "text/plain": [
       "          0         1         2         3\n",
       "0  1.000000  0.018316  0.000045  0.000002\n",
       "1  0.018316  1.000000  0.135335  0.000123\n",
       "2  0.000045  0.135335  1.000000  0.006738\n",
       "3  0.000002  0.000123  0.006738  1.000000"
      ]
     },
     "execution_count": 37,
     "metadata": {},
     "output_type": "execute_result"
    }
   ],
   "source": [
    "# 1: Using sklearn.cluster.SpectralClustering and clustering.affinity_matrix_\n",
    "# Perform Clustering\n",
    "clustering = SpectralClustering(n_clusters=2,\n",
    "                                affinity = 'rbf',\n",
    "                                random_state=0).fit(X)\n",
    "\n",
    "# Construct DataFrame\n",
    "df_affinity_rbf = pd.DataFrame(clustering.affinity_matrix_, index = index, columns = columns)\n",
    "# Output Affinity Matrix as DataFrame\n",
    "df_affinity_rbf"
   ]
  },
  {
   "cell_type": "code",
   "execution_count": 38,
   "metadata": {},
   "outputs": [
    {
     "data": {
      "text/html": [
       "<div>\n",
       "<style scoped>\n",
       "    .dataframe tbody tr th:only-of-type {\n",
       "        vertical-align: middle;\n",
       "    }\n",
       "\n",
       "    .dataframe tbody tr th {\n",
       "        vertical-align: top;\n",
       "    }\n",
       "\n",
       "    .dataframe thead th {\n",
       "        text-align: right;\n",
       "    }\n",
       "</style>\n",
       "<table border=\"1\" class=\"dataframe\">\n",
       "  <thead>\n",
       "    <tr style=\"text-align: right;\">\n",
       "      <th></th>\n",
       "      <th>0</th>\n",
       "      <th>1</th>\n",
       "      <th>2</th>\n",
       "      <th>3</th>\n",
       "    </tr>\n",
       "  </thead>\n",
       "  <tbody>\n",
       "    <tr>\n",
       "      <th>0</th>\n",
       "      <td>1.000000</td>\n",
       "      <td>0.018316</td>\n",
       "      <td>0.000045</td>\n",
       "      <td>0.000002</td>\n",
       "    </tr>\n",
       "    <tr>\n",
       "      <th>1</th>\n",
       "      <td>0.018316</td>\n",
       "      <td>1.000000</td>\n",
       "      <td>0.135335</td>\n",
       "      <td>0.000123</td>\n",
       "    </tr>\n",
       "    <tr>\n",
       "      <th>2</th>\n",
       "      <td>0.000045</td>\n",
       "      <td>0.135335</td>\n",
       "      <td>1.000000</td>\n",
       "      <td>0.006738</td>\n",
       "    </tr>\n",
       "    <tr>\n",
       "      <th>3</th>\n",
       "      <td>0.000002</td>\n",
       "      <td>0.000123</td>\n",
       "      <td>0.006738</td>\n",
       "      <td>1.000000</td>\n",
       "    </tr>\n",
       "  </tbody>\n",
       "</table>\n",
       "</div>"
      ],
      "text/plain": [
       "          0         1         2         3\n",
       "0  1.000000  0.018316  0.000045  0.000002\n",
       "1  0.018316  1.000000  0.135335  0.000123\n",
       "2  0.000045  0.135335  1.000000  0.006738\n",
       "3  0.000002  0.000123  0.006738  1.000000"
      ]
     },
     "execution_count": 38,
     "metadata": {},
     "output_type": "execute_result"
    }
   ],
   "source": [
    "# 2: Manuell implementation without using sklearn.cluster.SpectralClustering and clustering.affinity_matrix_\n",
    "# Specific a function to Calculate Euclidean Distance\n",
    "def euclidean_distance(vector1, vector2):\n",
    "    distance = math.sqrt(((vector1[0]-vector2[0])**2) + ((vector1[1]-vector2[1])**2))\n",
    "    return distance\n",
    "\n",
    "# Calculate the entries for the Affinity Matrix\n",
    "gamma = 1 # default-value\n",
    "# Determine Shape of Affinity Matrix\n",
    "shape = (np.shape(X)[0], np.shape(X)[0])\n",
    "# Construct Empty Affinity Matrix\n",
    "affinity_matrix_rbf = np.zeros(shape)\n",
    "# Update entries of affinity matrix\n",
    "i = 0\n",
    "j = 0\n",
    "for i in range (0, shape[0]):\n",
    "    for j in range (0, shape[0]):\n",
    "        # Calculate Distance\n",
    "        distance = euclidean_distance(X[i], X[j])\n",
    "        # Calculate Entry for Affinity Matrix\n",
    "        entry = np.exp(-gamma * distance ** 2)\n",
    "        # Update Affinity Matrix\n",
    "        affinity_matrix_rbf[i][j] = entry\n",
    "\n",
    "# Construct DataFrame\n",
    "df_affinity_rbf_manuell = pd.DataFrame(affinity_matrix_rbf, index = index, columns = columns)\n",
    "# Output Affinity Martrix as DataFrame\n",
    "df_affinity_rbf_manuell"
   ]
  },
  {
   "cell_type": "code",
   "execution_count": 39,
   "metadata": {},
   "outputs": [
    {
     "data": {
      "text/html": [
       "<div>\n",
       "<style scoped>\n",
       "    .dataframe tbody tr th:only-of-type {\n",
       "        vertical-align: middle;\n",
       "    }\n",
       "\n",
       "    .dataframe tbody tr th {\n",
       "        vertical-align: top;\n",
       "    }\n",
       "\n",
       "    .dataframe thead th {\n",
       "        text-align: right;\n",
       "    }\n",
       "</style>\n",
       "<table border=\"1\" class=\"dataframe\">\n",
       "  <thead>\n",
       "    <tr style=\"text-align: right;\">\n",
       "      <th></th>\n",
       "      <th>0</th>\n",
       "      <th>1</th>\n",
       "      <th>2</th>\n",
       "      <th>3</th>\n",
       "    </tr>\n",
       "  </thead>\n",
       "  <tbody>\n",
       "    <tr>\n",
       "      <th>0</th>\n",
       "      <td>True</td>\n",
       "      <td>True</td>\n",
       "      <td>True</td>\n",
       "      <td>True</td>\n",
       "    </tr>\n",
       "    <tr>\n",
       "      <th>1</th>\n",
       "      <td>True</td>\n",
       "      <td>True</td>\n",
       "      <td>True</td>\n",
       "      <td>True</td>\n",
       "    </tr>\n",
       "    <tr>\n",
       "      <th>2</th>\n",
       "      <td>True</td>\n",
       "      <td>True</td>\n",
       "      <td>True</td>\n",
       "      <td>True</td>\n",
       "    </tr>\n",
       "    <tr>\n",
       "      <th>3</th>\n",
       "      <td>True</td>\n",
       "      <td>True</td>\n",
       "      <td>True</td>\n",
       "      <td>True</td>\n",
       "    </tr>\n",
       "  </tbody>\n",
       "</table>\n",
       "</div>"
      ],
      "text/plain": [
       "      0     1     2     3\n",
       "0  True  True  True  True\n",
       "1  True  True  True  True\n",
       "2  True  True  True  True\n",
       "3  True  True  True  True"
      ]
     },
     "execution_count": 39,
     "metadata": {},
     "output_type": "execute_result"
    }
   ],
   "source": [
    "# Check of Calculation\n",
    "np.round(df_affinity_rbf, 10) == np.round(df_affinity_rbf_manuell, 10)"
   ]
  },
  {
   "cell_type": "markdown",
   "metadata": {},
   "source": [
    "### Degree Matrix `rbf`\n",
    "In the following, the Degree Matrix is calculated by taking the sum of each row in the Affinity Matrix."
   ]
  },
  {
   "cell_type": "code",
   "execution_count": 60,
   "metadata": {},
   "outputs": [
    {
     "data": {
      "text/html": [
       "<div>\n",
       "<style scoped>\n",
       "    .dataframe tbody tr th:only-of-type {\n",
       "        vertical-align: middle;\n",
       "    }\n",
       "\n",
       "    .dataframe tbody tr th {\n",
       "        vertical-align: top;\n",
       "    }\n",
       "\n",
       "    .dataframe thead th {\n",
       "        text-align: right;\n",
       "    }\n",
       "</style>\n",
       "<table border=\"1\" class=\"dataframe\">\n",
       "  <thead>\n",
       "    <tr style=\"text-align: right;\">\n",
       "      <th></th>\n",
       "      <th>0</th>\n",
       "      <th>1</th>\n",
       "      <th>2</th>\n",
       "      <th>3</th>\n",
       "    </tr>\n",
       "  </thead>\n",
       "  <tbody>\n",
       "    <tr>\n",
       "      <th>0</th>\n",
       "      <td>1.018363</td>\n",
       "      <td>0.000000</td>\n",
       "      <td>0.000000</td>\n",
       "      <td>0.000000</td>\n",
       "    </tr>\n",
       "    <tr>\n",
       "      <th>1</th>\n",
       "      <td>0.000000</td>\n",
       "      <td>1.153774</td>\n",
       "      <td>0.000000</td>\n",
       "      <td>0.000000</td>\n",
       "    </tr>\n",
       "    <tr>\n",
       "      <th>2</th>\n",
       "      <td>0.000000</td>\n",
       "      <td>0.000000</td>\n",
       "      <td>1.142119</td>\n",
       "      <td>0.000000</td>\n",
       "    </tr>\n",
       "    <tr>\n",
       "      <th>3</th>\n",
       "      <td>0.000000</td>\n",
       "      <td>0.000000</td>\n",
       "      <td>0.000000</td>\n",
       "      <td>1.006864</td>\n",
       "    </tr>\n",
       "  </tbody>\n",
       "</table>\n",
       "</div>"
      ],
      "text/plain": [
       "          0         1         2         3\n",
       "0  1.018363  0.000000  0.000000  0.000000\n",
       "1  0.000000  1.153774  0.000000  0.000000\n",
       "2  0.000000  0.000000  1.142119  0.000000\n",
       "3  0.000000  0.000000  0.000000  1.006864"
      ]
     },
     "execution_count": 60,
     "metadata": {},
     "output_type": "execute_result"
    }
   ],
   "source": [
    "# Construct Empty Degree Matrix\n",
    "degree_matrix_rbf = np.zeros(shape)\n",
    "# Update entries of Degree matrix\n",
    "i = 0\n",
    "for i in range (0, shape[0]):\n",
    "    sum_row = affinity_matrix_rbf[i, :].sum()\n",
    "    # Update Degree Matrix\n",
    "    degree_matrix_rbf[i][i] = sum_row\n",
    "    \n",
    "# Transform Degree Matrix into DataFrame\n",
    "df_degree_rbf = pd.DataFrame(degree_matrix_rbf, index = index, columns = columns)\n",
    "# Output Degree Matrix as DataFrame\n",
    "df_degree_rbf"
   ]
  },
  {
   "cell_type": "markdown",
   "metadata": {},
   "source": [
    "### Laplacian Matrix `rbf`\n",
    "In the following, the (unnormalized) Laplacian Matrix is calculated by subtracting the Affinity Matrix from the Degree Matrix. "
   ]
  },
  {
   "cell_type": "code",
   "execution_count": 45,
   "metadata": {},
   "outputs": [
    {
     "data": {
      "text/html": [
       "<div>\n",
       "<style scoped>\n",
       "    .dataframe tbody tr th:only-of-type {\n",
       "        vertical-align: middle;\n",
       "    }\n",
       "\n",
       "    .dataframe tbody tr th {\n",
       "        vertical-align: top;\n",
       "    }\n",
       "\n",
       "    .dataframe thead th {\n",
       "        text-align: right;\n",
       "    }\n",
       "</style>\n",
       "<table border=\"1\" class=\"dataframe\">\n",
       "  <thead>\n",
       "    <tr style=\"text-align: right;\">\n",
       "      <th></th>\n",
       "      <th>0</th>\n",
       "      <th>1</th>\n",
       "      <th>2</th>\n",
       "      <th>3</th>\n",
       "    </tr>\n",
       "  </thead>\n",
       "  <tbody>\n",
       "    <tr>\n",
       "      <th>0</th>\n",
       "      <td>0.018363</td>\n",
       "      <td>-0.018316</td>\n",
       "      <td>-0.000045</td>\n",
       "      <td>-0.000002</td>\n",
       "    </tr>\n",
       "    <tr>\n",
       "      <th>1</th>\n",
       "      <td>-0.018316</td>\n",
       "      <td>0.153774</td>\n",
       "      <td>-0.135335</td>\n",
       "      <td>-0.000123</td>\n",
       "    </tr>\n",
       "    <tr>\n",
       "      <th>2</th>\n",
       "      <td>-0.000045</td>\n",
       "      <td>-0.135335</td>\n",
       "      <td>0.142119</td>\n",
       "      <td>-0.006738</td>\n",
       "    </tr>\n",
       "    <tr>\n",
       "      <th>3</th>\n",
       "      <td>-0.000002</td>\n",
       "      <td>-0.000123</td>\n",
       "      <td>-0.006738</td>\n",
       "      <td>0.006864</td>\n",
       "    </tr>\n",
       "  </tbody>\n",
       "</table>\n",
       "</div>"
      ],
      "text/plain": [
       "          0         1         2         3\n",
       "0  0.018363 -0.018316 -0.000045 -0.000002\n",
       "1 -0.018316  0.153774 -0.135335 -0.000123\n",
       "2 -0.000045 -0.135335  0.142119 -0.006738\n",
       "3 -0.000002 -0.000123 -0.006738  0.006864"
      ]
     },
     "execution_count": 45,
     "metadata": {},
     "output_type": "execute_result"
    }
   ],
   "source": [
    "# 1: Using sklearn csgraph_laplacian\n",
    "# Calculate Laplacian Matrix\n",
    "laplacian, diagonal = csgraph_laplacian(affinity_matrix_rbf, return_diag=True)\n",
    "\n",
    "# Transform Laplacian Matrix into DataFrame\n",
    "df_laplacian_rbf = pd.DataFrame(laplacian, index = index, columns = columns)\n",
    "# Output Laplacian Matrix as DataFrame\n",
    "df_laplacian_rbf"
   ]
  },
  {
   "cell_type": "code",
   "execution_count": 46,
   "metadata": {},
   "outputs": [
    {
     "data": {
      "text/html": [
       "<div>\n",
       "<style scoped>\n",
       "    .dataframe tbody tr th:only-of-type {\n",
       "        vertical-align: middle;\n",
       "    }\n",
       "\n",
       "    .dataframe tbody tr th {\n",
       "        vertical-align: top;\n",
       "    }\n",
       "\n",
       "    .dataframe thead th {\n",
       "        text-align: right;\n",
       "    }\n",
       "</style>\n",
       "<table border=\"1\" class=\"dataframe\">\n",
       "  <thead>\n",
       "    <tr style=\"text-align: right;\">\n",
       "      <th></th>\n",
       "      <th>0</th>\n",
       "      <th>1</th>\n",
       "      <th>2</th>\n",
       "      <th>3</th>\n",
       "    </tr>\n",
       "  </thead>\n",
       "  <tbody>\n",
       "    <tr>\n",
       "      <th>0</th>\n",
       "      <td>0.018363</td>\n",
       "      <td>-0.018316</td>\n",
       "      <td>-0.000045</td>\n",
       "      <td>-0.000002</td>\n",
       "    </tr>\n",
       "    <tr>\n",
       "      <th>1</th>\n",
       "      <td>-0.018316</td>\n",
       "      <td>0.153774</td>\n",
       "      <td>-0.135335</td>\n",
       "      <td>-0.000123</td>\n",
       "    </tr>\n",
       "    <tr>\n",
       "      <th>2</th>\n",
       "      <td>-0.000045</td>\n",
       "      <td>-0.135335</td>\n",
       "      <td>0.142119</td>\n",
       "      <td>-0.006738</td>\n",
       "    </tr>\n",
       "    <tr>\n",
       "      <th>3</th>\n",
       "      <td>-0.000002</td>\n",
       "      <td>-0.000123</td>\n",
       "      <td>-0.006738</td>\n",
       "      <td>0.006864</td>\n",
       "    </tr>\n",
       "  </tbody>\n",
       "</table>\n",
       "</div>"
      ],
      "text/plain": [
       "          0         1         2         3\n",
       "0  0.018363 -0.018316 -0.000045 -0.000002\n",
       "1 -0.018316  0.153774 -0.135335 -0.000123\n",
       "2 -0.000045 -0.135335  0.142119 -0.006738\n",
       "3 -0.000002 -0.000123 -0.006738  0.006864"
      ]
     },
     "execution_count": 46,
     "metadata": {},
     "output_type": "execute_result"
    }
   ],
   "source": [
    "# 2: Manuell calculaiton of Laplacian Matrix\n",
    "laplacian_rbf_manuell = degree_matrix_rbf - affinity_matrix_rbf\n",
    "# Transform Laplacian Matrix into DataFrame\n",
    "df_laplacian_rbf_manuell = pd.DataFrame(laplacian_rbf_manuell, index = index, columns = columns)\n",
    "# Output Laplacian Matrix as DataFrame\n",
    "df_laplacian_rbf_manuell"
   ]
  },
  {
   "cell_type": "code",
   "execution_count": 48,
   "metadata": {},
   "outputs": [
    {
     "data": {
      "text/html": [
       "<div>\n",
       "<style scoped>\n",
       "    .dataframe tbody tr th:only-of-type {\n",
       "        vertical-align: middle;\n",
       "    }\n",
       "\n",
       "    .dataframe tbody tr th {\n",
       "        vertical-align: top;\n",
       "    }\n",
       "\n",
       "    .dataframe thead th {\n",
       "        text-align: right;\n",
       "    }\n",
       "</style>\n",
       "<table border=\"1\" class=\"dataframe\">\n",
       "  <thead>\n",
       "    <tr style=\"text-align: right;\">\n",
       "      <th></th>\n",
       "      <th>0</th>\n",
       "      <th>1</th>\n",
       "      <th>2</th>\n",
       "      <th>3</th>\n",
       "    </tr>\n",
       "  </thead>\n",
       "  <tbody>\n",
       "    <tr>\n",
       "      <th>0</th>\n",
       "      <td>True</td>\n",
       "      <td>True</td>\n",
       "      <td>True</td>\n",
       "      <td>True</td>\n",
       "    </tr>\n",
       "    <tr>\n",
       "      <th>1</th>\n",
       "      <td>True</td>\n",
       "      <td>True</td>\n",
       "      <td>True</td>\n",
       "      <td>True</td>\n",
       "    </tr>\n",
       "    <tr>\n",
       "      <th>2</th>\n",
       "      <td>True</td>\n",
       "      <td>True</td>\n",
       "      <td>True</td>\n",
       "      <td>True</td>\n",
       "    </tr>\n",
       "    <tr>\n",
       "      <th>3</th>\n",
       "      <td>True</td>\n",
       "      <td>True</td>\n",
       "      <td>True</td>\n",
       "      <td>True</td>\n",
       "    </tr>\n",
       "  </tbody>\n",
       "</table>\n",
       "</div>"
      ],
      "text/plain": [
       "      0     1     2     3\n",
       "0  True  True  True  True\n",
       "1  True  True  True  True\n",
       "2  True  True  True  True\n",
       "3  True  True  True  True"
      ]
     },
     "execution_count": 48,
     "metadata": {},
     "output_type": "execute_result"
    }
   ],
   "source": [
    "# Check Calculation\n",
    "round(df_laplacian_rbf_manuell, 10) == round(df_laplacian_rbf, 10)"
   ]
  },
  {
   "cell_type": "markdown",
   "metadata": {},
   "source": [
    "## Part 2: Eigendecomposition"
   ]
  },
  {
   "cell_type": "code",
   "execution_count": 201,
   "metadata": {},
   "outputs": [],
   "source": [
    "def plot_eigenvalues (data):\n",
    "    # Perform Clustering\n",
    "    clustering = SpectralClustering(n_clusters=2,\n",
    "                                    affinity = 'rbf',\n",
    "                                    random_state=0).fit(data)\n",
    "\n",
    "    # Construct Affinity Matrix\n",
    "    index = list(range(0, len(data)))\n",
    "    columns = list(range(0, len(data)))\n",
    "    affinity_matrix_rbf = clustering.affinity_matrix_\n",
    "    \n",
    "    # Construct Degree Matrix\n",
    "    shape = (np.shape(data)[0], np.shape(data)[0])\n",
    "    # Construct Empty Degree Matrix\n",
    "    degree_matrix_rbf = np.zeros(shape)\n",
    "    # Update entries of Degree matrix\n",
    "    i = 0\n",
    "    for i in range (0, shape[0]):\n",
    "        sum_row = affinity_matrix_rbf[i, :].sum()\n",
    "        # Update Degree Matrix\n",
    "        degree_matrix_rbf[i][i] = sum_row\n",
    "    # Transform Degree Matrix into DataFrame\n",
    "    df_degree_rbf = pd.DataFrame(degree_matrix_rbf, index = index, columns = columns)\n",
    "    \n",
    "    # Construct Laplacian Matrix\n",
    "    laplacian_rbf_manuell = degree_matrix_rbf - affinity_matrix_rbf\n",
    "    # Transform Laplacian Matrix into DataFrame\n",
    "    df_laplacian_rbf_manuell = pd.DataFrame(laplacian_rbf_manuell, index = index, columns = columns)\n",
    "    \n",
    "    # Eigendecomposition\n",
    "    # Determine number of components\n",
    "    n_components = len(data) \n",
    "    # Calculate Eigenvalues and Eigenvectors\n",
    "    #‘LM’: Largest (in magnitude) eigenvalues\n",
    "    # Sigma=1.0 also used in spectral_clustering\n",
    "    eigenvalues_rbf, eigenvectors_rbf = eigsh(laplacian_rbf_manuell, k=n_components, sigma=1.0, which='LM')\n",
    "    \n",
    "    # Plotting Eigenvalues\n",
    "    x_axis = list(range(1, len(eigenvalues_rbf[:6])+1))\n",
    "    y_axis = eigenvalues_rbf[:6]\n",
    "    plt.scatter(x_axis, y_axis)\n",
    "    plt.title('First Six Eigenvalues of Laplacian')"
   ]
  },
  {
   "cell_type": "code",
   "execution_count": 222,
   "metadata": {},
   "outputs": [
    {
     "data": {
      "image/png": "[encoded data removed]",
      "text/plain": [
       "<Figure size 432x288 with 1 Axes>"
      ]
     },
     "metadata": {
      "needs_background": "light"
     },
     "output_type": "display_data"
    }
   ],
   "source": [
    "# Dataset 1\n",
    "# Initialize Dataset\n",
    "X_1 = datasets.make_blobs(n_samples=1000, random_state=8, centers=2)\n",
    "\n",
    "# Plotting\n",
    "plt.scatter(X_1[0][:, 0], X_1[0][:, 1])\n",
    "plt.title('Example - Two Clusters')\n",
    "plt.savefig('dataset2_2_clusters.jpg', dpi=300, bbox_inches='tight', pad_inches=0)"
   ]
  },
  {
   "cell_type": "code",
   "execution_count": 223,
   "metadata": {},
   "outputs": [
    {
     "name": "stderr",
     "output_type": "stream",
     "text": [
      "/opt/anaconda3/lib/python3.8/site-packages/scipy/sparse/linalg/eigen/arpack/arpack.py:1590: RuntimeWarning: k >= N for N * N square matrix. Attempting to use scipy.linalg.eigh instead.\n",
      "  warnings.warn(\"k >= N for N * N square matrix. \"\n"
     ]
    },
    {
     "data": {
      "image/png": "[encoded data removed]",
      "text/plain": [
       "<Figure size 432x288 with 1 Axes>"
      ]
     },
     "metadata": {
      "needs_background": "light"
     },
     "output_type": "display_data"
    }
   ],
   "source": [
    "# Plot Eigenvalues\n",
    "plot_eigenvalues(X_1[0])\n",
    "plt.savefig('dataset2_eigenvalues.jpg', dpi=300, bbox_inches='tight', pad_inches=0)"
   ]
  },
  {
   "cell_type": "code",
   "execution_count": 224,
   "metadata": {},
   "outputs": [
    {
     "data": {
      "image/png": "[encoded data removed]",
      "text/plain": [
       "<Figure size 432x288 with 1 Axes>"
      ]
     },
     "metadata": {
      "needs_background": "light"
     },
     "output_type": "display_data"
    }
   ],
   "source": [
    "# Dataset 2\n",
    "# Initialize Dataset\n",
    "X_2 = datasets.make_blobs(n_samples=1000, random_state=8, centers=4)\n",
    "\n",
    "# Plotting\n",
    "plt.scatter(X_2[0][:, 0], X_2[0][:, 1])\n",
    "plt.title('Example - Four Clusters')\n",
    "plt.savefig('dataset3_four_clusters.jpg', dpi=300, bbox_inches='tight', pad_inches=0)"
   ]
  },
  {
   "cell_type": "code",
   "execution_count": 225,
   "metadata": {},
   "outputs": [
    {
     "name": "stderr",
     "output_type": "stream",
     "text": [
      "/opt/anaconda3/lib/python3.8/site-packages/scipy/sparse/linalg/eigen/arpack/arpack.py:1590: RuntimeWarning: k >= N for N * N square matrix. Attempting to use scipy.linalg.eigh instead.\n",
      "  warnings.warn(\"k >= N for N * N square matrix. \"\n"
     ]
    },
    {
     "data": {
      "image/png": "[encoded data removed]",
      "text/plain": [
       "<Figure size 432x288 with 1 Axes>"
      ]
     },
     "metadata": {
      "needs_background": "light"
     },
     "output_type": "display_data"
    }
   ],
   "source": [
    "# Plot Eigenvalues\n",
    "plot_eigenvalues(X_2[0])\n",
    "plt.savefig('dataset3_eigenvalues.jpg', dpi=300, bbox_inches='tight', pad_inches=0)"
   ]
  }
 ],
 "metadata": {
  "kernelspec": {
   "display_name": "Python 3",
   "language": "python",
   "name": "python3"
  },
  "language_info": {
   "codemirror_mode": {
    "name": "ipython",
    "version": 3
   },
   "file_extension": ".py",
   "mimetype": "text/x-python",
   "name": "python",
   "nbconvert_exporter": "python",
   "pygments_lexer": "ipython3",
   "version": "3.8.3"
  }
 },
 "nbformat": 4,
 "nbformat_minor": 4
}
