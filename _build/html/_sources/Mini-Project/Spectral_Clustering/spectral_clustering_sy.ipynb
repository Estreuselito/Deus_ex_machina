{
 "cells": [
  {
   "cell_type": "markdown",
   "metadata": {},
   "source": [
    "## Spectral Clustering\n",
    "### General Description & Application\n",
    "\n",
    "The idea of spectral clustering is rooted in graph theory. The spectral clustering algorithm aims to identify communities of nodes in a graph based on connections between them. It can be understood as aiming to maximize the number of within-cluster connections and to minimize the number of between-cluster connections. The spectral clustering algorithm also allows for clustering of non graph data. Thus, points that are (immediately) next to each other, i.e. closely connected, are identified in dataset.\n",
    "\n",
    "The spectral clustering algorithm utilizes information from the eigenvalues and eigenvectors of the Laplacian Matrix. A standard clustering algorithm, such as KMeans, is applied on relevant eigenvectors of the Laplacian matrix to cluster the different data points. \n",
    "\n",
    "### Steps\n",
    "The generall process of the spectral clustering algorithm can be illustrated by the following steps, which will be outlined in more detail later on: \n",
    "1. Construct the Affinity Matrix based on the datapoints\n",
    "2. Create the Degree Matrix based on the Affinity Matrix\n",
    "3. Construct the Laplacian Matrix by subtracting the Affinity matrix from the Degree Matrix\n",
    "4. Eigendecomposition of Laplacian Matrix\n",
    "5. Apply a standard clustering algorithm, e.g. KMeans, on the relevant eigenvectors of the Laplacian Matrix\n",
    "\n",
    "The previously outlined steps will now be described in more detail: \n",
    "\n",
    "#### Step 1: Affinity Matrix\n",
    "**EDIT: PROPERTIES OF AFFINITY MATRIX**  \n",
    "The entries of an affinity matrix show how similar points are to each other. If pairs of points are very dissimilar then the affinity should be 0. If the points are identical, then the affinity should equal 1. The Affinity Matrix can be constructed in different ways. Therefore, Scikit-Learn's [implementation](https://scikit-learn.org/stable/modules/generated/sklearn.cluster.SpectralClustering.html#sklearn.cluster.SpectralClustering)  includes the hyperparameter *affinity*, which defines how to construct the affinity matrix. Four options are available: `nearest_neighbors`, `rbf`, `precomputed`and `precomputed_nearest_neighbors`.\n",
    "- `nearest_neighbors` constructs the affinity matrix by computing a graph of nearest neighbors. If chosen, the hyperparameter `n_neighbors` also needs to be set as this determines the number of neighbors to use when constructing the affinity matrix.\n",
    "- `rbf` constructs the affinity matrix using a radial basis function (RBF) kernel\n",
    "- `precomputed` interprets X as a precomputed affinity matrix, where larger values indicate greater similarity between instances\n",
    "- `precomputed_nearest_neighbors` interprets X as a sparse graph of precomputed distances, and construct a binary affinity matrix from the n_neighbors nearest neighbors of each instance\n",
    "\n",
    "It will now be detailed, how the Affinity Matrix is constructed using `nearest_neighbors` and `rbf`, i.e. in those cases where no precomputed Affinity Matrix is provided:\n",
    "\n",
    "**nearest_neighbors:**  \n",
    "Setting the parameter *affinity* to `nearest_neighbors`, the affinity matrix is calculated using k-nearest neighbors method. Thus, the number of neighbors to use when constructing the affinity matrix needs to be specified using the parameter `n_neighbors`. Let's call the matrix, which stores the relationships of k-nearest neighbours, *connectivity*. If another datapoint belongs to the k-nearest neighbors, the matrix will indicate it with an entry of 1. If it does not belong to the k-nearest neighbors, it will be indicated with a 0. The affinity matrix is calculated using the following formula:\n",
    "\n",
    "$$\n",
    "{Affinity\\ Matrix} = 0.5 * (connectivity + connectivity^T)\n",
    "$$ \n",
    "\n",
    "Thus, each entry in the affinity matrix can only take up one of three possible entries: 1.0, 0.5 or 0.0. \n",
    "- `1.0` indicates that when calculating the closest k-nearest neighbours, both datapoints were amongst the respective nearest k-datapoints \n",
    "- `0.5` indicates that this was only true for one datapoint, i.e. only in one direction\n",
    "- `0.0` indicates forh both datapoints, the other respective datapoint was not among the k-nearest\n",
    "\n",
    "Let's assume the following example:\n",
    "![](Affinity_Matrix_nearest_neighbor.png \"Title\")\n",
    "\n",
    "For data point 0, the two-nearest neighbors (including itself) are data point 0 and data point 1. For data point 1, only data point 1 and data point 2 are the two-nearest neighbors. In turn, the affinity matrix shows 0.5 at the entry row 0, column 1.\n",
    "\n",
    "**rbf:**  \n",
    "Setting the parameter *affinity* to `rbf`, i.e. also its default setting, the Affinity Matrix is constructed using a kernel function with Euclidean distance d(X, X): \n",
    "\n",
    "`np.exp(-gamma * d(X,X) ** 2)`\n",
    "\n",
    "The default for `gamma` is 1.0 as can be inferred from Scikit Learn's [documentation](https://scikit-learn.org/stable/modules/generated/sklearn.cluster.SpectralClustering.html). Here, the entries of the affinity matrix can take any value between 0.0 and 1.0, where values close to 0.0 indicate dissimilarity and values close to 1.0 indicate similarity.\n",
    "\n",
    "![](Affinity_Matrix_rbf.png \"Title\")\n",
    "\n",
    "#### Step 2: Degree Matrix \n",
    "The Degree Matrix is a diagonal matrix, which is obtained by taking the sum of each row in the affinity matrix. The entries on the diagonal are called *degree*.\n",
    "\n",
    "#### Step 3: Laplacian Matrix\n",
    "The (unnormalized) Laplacian Matrix is calculated by subtracting the Affinity Matrix from the Degree Matrix.\n",
    "\n",
    "$$\n",
    "L = D - A\n",
    "$$\n",
    "\n",
    "In the following, the Affinity Matrix, Degree Matrix and Laplacian Matrix are illustrated for the example using the `rbf`for the parameter *affinity*.\n",
    "\n",
    "![](Laplacian_Matrix_rbf.png \"Title\")\n",
    "\n",
    "#### Step 4: Eigendecomposition of Laplacian Matrix\n",
    "In the next step, the eigenvalues and eigenvectors of the Laplacian Matrix are calculated. The eigenvalues contain information about the number of clusters within the given dataset. In general, we search for the first large gap between the eigenvalues. The number of eigenvalues before this gap generally corresponds to the number of clusters in our dataset. As can be seen by the following stylized examples, we can identify a gap between eigenvalues number 2 and 3 as well as between number 3 and 4, which in turn help to determine the respective number of clusters.   \n",
    "\n",
    "![](Eigenvalues_Laplacian.png \"Title\")\n",
    "\n",
    "#### Step 5: Application of standard clustering algorithm \n",
    "The eigenvectors associated with the smallest eigenvalues are used for the partitioning of the dataset, except for the eigenvector corresponding to the first eigenvalue, i.e. the so called *spectral gap*. This eigenvalue will have a value of zero. A standard clustering algorithm is applied on the set of eigenvectors. The default clustering algorithm herefore is KMeans.\n",
    "\n",
    "### Select Parameters (Scikit Learn Implementation)\n",
    "**n_cluster:** The parameter *n_clusters* defines the dimension of the projection subspace, i.e. the number of clusters.\n",
    "\n",
    "**eigen_solver:**\n",
    "This parameter determines which eigenvalue decomposition strategy to use.\n",
    "\n",
    "**affinity:** \n",
    "This parameter defines how to construct the affinity matrix. Four options are available: `nearest_neighbors`, `rbf`, `precomputed`and `precomputed_nearest_neighbors` (see above).\n",
    "\n",
    "**n_init:**  \n",
    "Number of time the k-means algorithm will be run with different centroid seeds. The final results will be the best output of n_init consecutive runs in terms of inertia. Only used if assign_labels='kmeans'.\n",
    "\n",
    "**assign_labels:**  \n",
    "The strategy for assigning labels in the embedding space, i.e. the clustering algorithm. There are two ways to assign labels after the Laplacian embedding: `kmeans` and `discretize`. k-means is a popular choice, but it can be sensitive to initialization. Discretization is another approach which is less sensitive to random initialization`\n",
    "\n",
    "**Note**: Parameter names and descriptions were obtained from the official Scikit Learn [documentation](https://scikit-learn.org/stable/modules/generated/sklearn.cluster.SpectralClustering.html#sklearn.cluster.SpectralClustering).\n",
    "\n",
    "**EDIT: FINAL REMARKS**  \n",
    "Lastly, we will briefly outline some advantages and disadvantages of the spectral clustering algorithm. **XXX**\n",
    "Nevertheless, the spectral clustering algorithm still requires us to specify the number of clusters beforehand as indicated by the hyperparamter `n_cluster`. In that sense, it has the same disadvantage as KMeans. "
   ]
  },
  {
   "cell_type": "code",
   "execution_count": null,
   "metadata": {},
   "outputs": [],
   "source": []
  },
  {
   "cell_type": "markdown",
   "metadata": {},
   "source": [
    "# Spectral Clustering"
   ]
  },
  {
   "cell_type": "markdown",
   "metadata": {},
   "source": [
    "## Theoretical Introduction\n",
    "\n",
    "## Assumed Strengths and Weaknesses\n",
    "- That means that the key for spectral clustering is the transformation of the space. Presuming we can better respect the manifold we’ll get a better clustering – we need worry less about K-Means globular clusters as they are merely globular on the transformed space and not the original space.\n",
    "- we still partition the data instead of clustering it\n",
    "- we have the hard to guess ‘number of clusters’ parameter\n",
    "- we have stability issues inherited from K-Means\n",
    "- if we operate on the dense graph of the distance matrix we have a very expensive initial step and sacrifice performance.\n",
    "- In practice Spectral Clustering is very useful when the structure of the individual clusters is highly non-convex, or more generally when a measure of the center and spread of the cluster is not a suitable description of the complete cluster, such as when clusters are nested circles on the 2D plane."
   ]
  },
  {
   "cell_type": "markdown",
   "metadata": {},
   "source": [
    "**Sources:**  \n",
    "- Hands-On Machine Learning with Scikit-Learn, Keras & TensorFlow by Aurelien Geron (2020)\n",
    "- https://hdbscan.readthedocs.io/en/latest/comparing_clustering_algorithms.html  \n",
    "- https://scikit-learn.org/stable/modules/clustering.html#spectral-clustering\n",
    "- https://towardsdatascience.com/spectral-clustering-aba2640c0d5b\n",
    "- https://scikit-learn.org/stable/modules/generated/sklearn.cluster.SpectralClustering.html#sklearn.cluster.SpectralClustering\n",
    "- https://www.mygreatlearning.com/blog/introduction-to-spectral-clustering/\n",
    "\n",
    "**Source Code:**\n",
    "- https://github.com/scikit-learn/scikit-learn/blob/aa898de885ed4861a03e4f79b28f92f70914643d/sklearn/cluster/_spectral.py#L159\n",
    "- https://github.com/scikit-learn/scikit-learn/blob/aa898de885ed4861a03e4f79b28f92f70914643d/sklearn/manifold/_spectral_embedding.py#L143"
   ]
  },
  {
   "cell_type": "markdown",
   "metadata": {},
   "source": [
    "## Application"
   ]
  },
  {
   "cell_type": "code",
   "execution_count": 270,
   "metadata": {},
   "outputs": [
    {
     "data": {
      "text/plain": [
       "<matplotlib.collections.PathCollection at 0x7fe718d835b0>"
      ]
     },
     "execution_count": 270,
     "metadata": {},
     "output_type": "execute_result"
    },
    {
     "data": {
      "image/png": "[encoded data removed]",
      "text/plain": [
       "<Figure size 432x288 with 1 Axes>"
      ]
     },
     "metadata": {
      "needs_background": "light"
     },
     "output_type": "display_data"
    }
   ],
   "source": [
    "from sklearn.cluster import SpectralClustering\n",
    "import numpy as np\n",
    "import matplotlib.pyplot as plt\n",
    "import pandas as pd\n",
    "# Initialize Data Set\n",
    "X = np.array([[1, 1], [1, 3], [2, 4], [4, 3]])\n",
    "\n",
    "# Plot Data Set\n",
    "plt.xlim(0, 5)\n",
    "plt.ylim(0, 5)\n",
    "plt.text(0.8, 1, '0')\n",
    "plt.text(0.8, 3, '1')\n",
    "plt.text(1.8, 4, '2')\n",
    "plt.text(3.8, 3, '3')\n",
    "plt.scatter(X[:, 0], X[:, 1])"
   ]
  },
  {
   "cell_type": "markdown",
   "metadata": {},
   "source": [
    "### Step 1 - Affinity Matrix"
   ]
  },
  {
   "cell_type": "markdown",
   "metadata": {},
   "source": [
    "#### Affinity Matrix using `rbf`"
   ]
  },
  {
   "cell_type": "code",
   "execution_count": 274,
   "metadata": {},
   "outputs": [
    {
     "name": "stdout",
     "output_type": "stream",
     "text": [
      "The Affinity Matrix is:\n",
      "         0       1       2       3\n",
      "0  1.0000  0.0183  0.0000  0.0000\n",
      "1  0.0183  1.0000  0.1353  0.0001\n",
      "2  0.0000  0.1353  1.0000  0.0067\n",
      "3  0.0000  0.0001  0.0067  1.0000\n"
     ]
    }
   ],
   "source": [
    "# Perform Clustering\n",
    "clustering = SpectralClustering(n_clusters=2,\n",
    "                                affinity = 'rbf',\n",
    "                                assign_labels='discretize',\n",
    "                                random_state=0).fit(X)\n",
    "\n",
    "# Show the Affinity Matrix\n",
    "index = list(range(0, len(X)))\n",
    "columns = list(range(0, len(X)))\n",
    "clustering.affinity_matrix_\n",
    "df_affinity = pd.DataFrame(clustering.affinity_matrix_, index = index, columns = columns)\n",
    "print('The Affinity Matrix is:\\n', round(df_affinity, 4))"
   ]
  },
  {
   "cell_type": "markdown",
   "metadata": {},
   "source": [
    "When calling fit, an affinity matrix is constructed using either a kernel function such the Gaussian (aka RBF) kernel with Euclidean distance d(X, X): `np.exp(-gamma * d(X,X) ** 2)` or a k-nearest neighbors connectivity matrix. The default for `gamma`is 1.0 as can be inferred from scikit-learns [documentation](https://scikit-learn.org/stable/modules/generated/sklearn.cluster.SpectralClustering.html). The Euclidean Distance is equal to:\n",
    "\n",
    "$$\n",
    "d(p,q) = \\|q-p\\|_2 =\n",
    "\\sqrt{(q_1 - p_1)^2 + \\cdots + (q_n - p_n)^2} = \\sqrt{\\sum_{i=1}^n (q_i-p_i)^2}\n",
    "$$ \n",
    "\n",
    "As such, the Affinity Matrix is calculated as such:"
   ]
  },
  {
   "cell_type": "code",
   "execution_count": 285,
   "metadata": {},
   "outputs": [
    {
     "name": "stdout",
     "output_type": "stream",
     "text": [
      "The Affinity Matrix is:\n",
      "         0       1       2       3\n",
      "0  1.0000  0.0183  0.0000  0.0000\n",
      "1  0.0183  1.0000  0.1353  0.0001\n",
      "2  0.0000  0.1353  1.0000  0.0067\n",
      "3  0.0000  0.0001  0.0067  1.0000\n"
     ]
    }
   ],
   "source": [
    "import math\n",
    "# Function to Calculate Euclidean Distance\n",
    "def euclidean_distance(vector1, vector2):\n",
    "    distance = math.sqrt(((vector1[0]-vector2[0])**2) + ((vector1[1]-vector2[1])**2))\n",
    "    return distance\n",
    "\n",
    "# Calculate Entry for Affinity Matrix\n",
    "gamma = 1 # default-value\n",
    "# Determine Shape of Affinity Matrix\n",
    "shape = (np.shape(X)[0], np.shape(X)[0])\n",
    "# Construct Empty Affinity Matrix\n",
    "affinity_matrix_rbf = np.zeros(shape)\n",
    "# Update entries of affinity matrix\n",
    "i = 0\n",
    "j = 0\n",
    "for i in range (0, shape[0]):\n",
    "    for j in range (0, shape[0]):\n",
    "        # Calculate Distance\n",
    "        distance = euclidean_distance(X[i], X[j])\n",
    "        # Calculate Entry for Affinity Matrix\n",
    "        entry = np.exp(-gamma * distance ** 2)\n",
    "        # Update Affinity Matrix\n",
    "        affinity_matrix_rbf[i][j] = entry\n",
    "\n",
    "df_affinity_rbf = pd.DataFrame(affinity_matrix_rbf, index = index, columns = columns)\n",
    "print('The Affinity Matrix is:\\n', round(df_affinity_rbf, 4))"
   ]
  },
  {
   "cell_type": "code",
   "execution_count": 286,
   "metadata": {},
   "outputs": [
    {
     "data": {
      "text/html": [
       "<div>\n",
       "<style scoped>\n",
       "    .dataframe tbody tr th:only-of-type {\n",
       "        vertical-align: middle;\n",
       "    }\n",
       "\n",
       "    .dataframe tbody tr th {\n",
       "        vertical-align: top;\n",
       "    }\n",
       "\n",
       "    .dataframe thead th {\n",
       "        text-align: right;\n",
       "    }\n",
       "</style>\n",
       "<table border=\"1\" class=\"dataframe\">\n",
       "  <thead>\n",
       "    <tr style=\"text-align: right;\">\n",
       "      <th></th>\n",
       "      <th>0</th>\n",
       "      <th>1</th>\n",
       "      <th>2</th>\n",
       "      <th>3</th>\n",
       "    </tr>\n",
       "  </thead>\n",
       "  <tbody>\n",
       "    <tr>\n",
       "      <th>0</th>\n",
       "      <td>1.000000</td>\n",
       "      <td>0.018316</td>\n",
       "      <td>0.000045</td>\n",
       "      <td>0.000002</td>\n",
       "    </tr>\n",
       "    <tr>\n",
       "      <th>1</th>\n",
       "      <td>0.018316</td>\n",
       "      <td>1.000000</td>\n",
       "      <td>0.135335</td>\n",
       "      <td>0.000123</td>\n",
       "    </tr>\n",
       "    <tr>\n",
       "      <th>2</th>\n",
       "      <td>0.000045</td>\n",
       "      <td>0.135335</td>\n",
       "      <td>1.000000</td>\n",
       "      <td>0.006738</td>\n",
       "    </tr>\n",
       "    <tr>\n",
       "      <th>3</th>\n",
       "      <td>0.000002</td>\n",
       "      <td>0.000123</td>\n",
       "      <td>0.006738</td>\n",
       "      <td>1.000000</td>\n",
       "    </tr>\n",
       "  </tbody>\n",
       "</table>\n",
       "</div>"
      ],
      "text/plain": [
       "          0         1         2         3\n",
       "0  1.000000  0.018316  0.000045  0.000002\n",
       "1  0.018316  1.000000  0.135335  0.000123\n",
       "2  0.000045  0.135335  1.000000  0.006738\n",
       "3  0.000002  0.000123  0.006738  1.000000"
      ]
     },
     "execution_count": 286,
     "metadata": {},
     "output_type": "execute_result"
    }
   ],
   "source": [
    "df_affinity_rbf"
   ]
  },
  {
   "cell_type": "markdown",
   "metadata": {},
   "source": [
    "#### Affinity Matrix using `nearest_neighbors`\n",
    "The default number of neighbors to use when constructing the affinity matrix using the nearest neighbors method is [10](https://scikit-learn.org/stable/modules/generated/sklearn.cluster.SpectralClustering.html). As this example only contains 6 elements, 10 cannot be chosen. Instead `n_neighbors` was set to 4. "
   ]
  },
  {
   "cell_type": "code",
   "execution_count": 287,
   "metadata": {},
   "outputs": [
    {
     "name": "stdout",
     "output_type": "stream",
     "text": [
      "The Affinity Matrix is:\n",
      "      0    1    2    3\n",
      "0  1.0  0.5  0.0  0.0\n",
      "1  0.5  1.0  1.0  0.0\n",
      "2  0.0  1.0  1.0  0.5\n",
      "3  0.0  0.0  0.5  1.0\n"
     ]
    }
   ],
   "source": [
    "# Perform Clustering\n",
    "clustering = SpectralClustering(n_clusters=2,\n",
    "                                affinity='nearest_neighbors',\n",
    "                                assign_labels='discretize',\n",
    "                                n_neighbors = 2,\n",
    "                                random_state=0).fit(X)\n",
    "\n",
    "# Show the Affinity Matrix\n",
    "index = list(range(0, len(X)))\n",
    "columns = list(range(0, len(X)))\n",
    "df_affinity = pd.DataFrame(clustering.affinity_matrix_.toarray(), index = index, columns = columns)\n",
    "print('The Affinity Matrix is:\\n', round(df_affinity, 4))"
   ]
  },
  {
   "cell_type": "markdown",
   "metadata": {},
   "source": [
    "`1.0` indicates that when calculating the closest k-datapoints, both datapoints were amongst the respectivve nearest k-datapoints, e.g. when calculating the closest four datapoints for datapoint indexed 0, datapoint indexed 1 was among the nearest four datapoints. At the same time, when calculating the closest four datapoints for datapoint indexed 1, datapoint indexed 0 was also among the nearest four datapoints. `0.5`indicates that this was only true for one datapoint, e.g. when calculating the four nearest datapoints for datapoint indexed 0, the datapoint indexed four was included, but not the other way around. For datapoint indexed 4, the datapoint indexed 0 was not among the four nearest datapoints. \n",
    "`0.0` indicates that in both calculations, the other respective datapoint wa not among the k-nearest. \n",
    "\n",
    "\n",
    "Scikit-Learn's `SpectralClustering` uses the method `kneighbors_graph`, which computes the (weighted) graph of k-Neighbors for points in the [dataset](https://scikit-learn.org/stable/modules/generated/sklearn.neighbors.kneighbors_graph.html):  \n",
    "`connectivity = kneighbors_graph(X, n_neighbors=n_neigbors, mode='connectivity', include_self=True)`.  \n",
    "The affinity matrix is then calculated by \n",
    "$$\n",
    "{Affinity Matrix} = 0.5 * (connectivity + connectivity^T)\n",
    "$$ "
   ]
  },
  {
   "cell_type": "code",
   "execution_count": 288,
   "metadata": {},
   "outputs": [
    {
     "name": "stdout",
     "output_type": "stream",
     "text": [
      "The Affinity Matrix is:\n",
      "      0    1    2    3\n",
      "0  1.0  0.5  0.0  0.0\n",
      "1  0.5  1.0  1.0  0.0\n",
      "2  0.0  1.0  1.0  0.5\n",
      "3  0.0  0.0  0.5  1.0\n"
     ]
    }
   ],
   "source": [
    "from sklearn.neighbors import kneighbors_graph\n",
    "connectivity = kneighbors_graph(X, n_neighbors=2, include_self=True)\n",
    "affinity_matrix_kn = 0.5 * (connectivity + connectivity.T)\n",
    "\n",
    "# Show the Affinity Matrix using nearest_neighbors\n",
    "index = list(range(0, len(X)))\n",
    "columns = list(range(0, len(X)))\n",
    "df_affinity = pd.DataFrame(affinity_matrix_kn.toarray(), index = index, columns = columns)\n",
    "print('The Affinity Matrix is:\\n', round(df_affinity, 4))"
   ]
  },
  {
   "cell_type": "code",
   "execution_count": 289,
   "metadata": {},
   "outputs": [
    {
     "data": {
      "text/html": [
       "<div>\n",
       "<style scoped>\n",
       "    .dataframe tbody tr th:only-of-type {\n",
       "        vertical-align: middle;\n",
       "    }\n",
       "\n",
       "    .dataframe tbody tr th {\n",
       "        vertical-align: top;\n",
       "    }\n",
       "\n",
       "    .dataframe thead th {\n",
       "        text-align: right;\n",
       "    }\n",
       "</style>\n",
       "<table border=\"1\" class=\"dataframe\">\n",
       "  <thead>\n",
       "    <tr style=\"text-align: right;\">\n",
       "      <th></th>\n",
       "      <th>0</th>\n",
       "      <th>1</th>\n",
       "      <th>2</th>\n",
       "      <th>3</th>\n",
       "    </tr>\n",
       "  </thead>\n",
       "  <tbody>\n",
       "    <tr>\n",
       "      <th>0</th>\n",
       "      <td>1.0</td>\n",
       "      <td>1.0</td>\n",
       "      <td>0.0</td>\n",
       "      <td>0.0</td>\n",
       "    </tr>\n",
       "    <tr>\n",
       "      <th>1</th>\n",
       "      <td>0.0</td>\n",
       "      <td>1.0</td>\n",
       "      <td>1.0</td>\n",
       "      <td>0.0</td>\n",
       "    </tr>\n",
       "    <tr>\n",
       "      <th>2</th>\n",
       "      <td>0.0</td>\n",
       "      <td>1.0</td>\n",
       "      <td>1.0</td>\n",
       "      <td>0.0</td>\n",
       "    </tr>\n",
       "    <tr>\n",
       "      <th>3</th>\n",
       "      <td>0.0</td>\n",
       "      <td>0.0</td>\n",
       "      <td>1.0</td>\n",
       "      <td>1.0</td>\n",
       "    </tr>\n",
       "  </tbody>\n",
       "</table>\n",
       "</div>"
      ],
      "text/plain": [
       "     0    1    2    3\n",
       "0  1.0  1.0  0.0  0.0\n",
       "1  0.0  1.0  1.0  0.0\n",
       "2  0.0  1.0  1.0  0.0\n",
       "3  0.0  0.0  1.0  1.0"
      ]
     },
     "execution_count": 289,
     "metadata": {},
     "output_type": "execute_result"
    }
   ],
   "source": [
    "df_connectivity = pd.DataFrame(connectivity.toarray(), index = index, columns = columns)\n",
    "df_connectivity"
   ]
  },
  {
   "cell_type": "code",
   "execution_count": 290,
   "metadata": {},
   "outputs": [
    {
     "data": {
      "text/html": [
       "<div>\n",
       "<style scoped>\n",
       "    .dataframe tbody tr th:only-of-type {\n",
       "        vertical-align: middle;\n",
       "    }\n",
       "\n",
       "    .dataframe tbody tr th {\n",
       "        vertical-align: top;\n",
       "    }\n",
       "\n",
       "    .dataframe thead th {\n",
       "        text-align: right;\n",
       "    }\n",
       "</style>\n",
       "<table border=\"1\" class=\"dataframe\">\n",
       "  <thead>\n",
       "    <tr style=\"text-align: right;\">\n",
       "      <th></th>\n",
       "      <th>0</th>\n",
       "      <th>1</th>\n",
       "      <th>2</th>\n",
       "      <th>3</th>\n",
       "    </tr>\n",
       "  </thead>\n",
       "  <tbody>\n",
       "    <tr>\n",
       "      <th>0</th>\n",
       "      <td>1.0</td>\n",
       "      <td>0.5</td>\n",
       "      <td>0.0</td>\n",
       "      <td>0.0</td>\n",
       "    </tr>\n",
       "    <tr>\n",
       "      <th>1</th>\n",
       "      <td>0.5</td>\n",
       "      <td>1.0</td>\n",
       "      <td>1.0</td>\n",
       "      <td>0.0</td>\n",
       "    </tr>\n",
       "    <tr>\n",
       "      <th>2</th>\n",
       "      <td>0.0</td>\n",
       "      <td>1.0</td>\n",
       "      <td>1.0</td>\n",
       "      <td>0.5</td>\n",
       "    </tr>\n",
       "    <tr>\n",
       "      <th>3</th>\n",
       "      <td>0.0</td>\n",
       "      <td>0.0</td>\n",
       "      <td>0.5</td>\n",
       "      <td>1.0</td>\n",
       "    </tr>\n",
       "  </tbody>\n",
       "</table>\n",
       "</div>"
      ],
      "text/plain": [
       "     0    1    2    3\n",
       "0  1.0  0.5  0.0  0.0\n",
       "1  0.5  1.0  1.0  0.0\n",
       "2  0.0  1.0  1.0  0.5\n",
       "3  0.0  0.0  0.5  1.0"
      ]
     },
     "execution_count": 290,
     "metadata": {},
     "output_type": "execute_result"
    }
   ],
   "source": [
    "df_affinity"
   ]
  },
  {
   "cell_type": "markdown",
   "metadata": {},
   "source": [
    "### Step 2 - Spectral Embedding"
   ]
  },
  {
   "cell_type": "markdown",
   "metadata": {},
   "source": [
    "Spectral embedding for non-linear dimensionality reduction.\n",
    "\n",
    "Forms an affinity matrix given by the specified function and applies spectral decomposition to the corresponding graph laplacian. The resulting transformation is given by the value of the eigenvectors for each data point.\n",
    "\n",
    "Note : Laplacian Eigenmaps is the actual algorithm implemented here.\n",
    "\n",
    "Project the sample on the first eigenvectors of the graph Laplacian.\n",
    "    The adjacency matrix is used to compute a normalized graph Laplacian\n",
    "    whose spectrum (especially the eigenvectors associated to the\n",
    "    smallest eigenvalues) has an interpretation in terms of minimal\n",
    "    number of cuts necessary to split the graph into comparably sized\n",
    "    components.\n",
    "    This embedding can also 'work' even if the ``adjacency`` variable is\n",
    "    not strictly the adjacency matrix of a graph but more generally\n",
    "    an affinity or similarity matrix between samples (for instance the\n",
    "    heat kernel of a euclidean distance matrix or a k-NN matrix).\n",
    "    However care must taken to always make the affinity matrix symmetric\n",
    "    so that the eigenvector decomposition works as expected.\n",
    "    Note : Laplacian Eigenmaps is the actual algorithm implemented here."
   ]
  },
  {
   "cell_type": "markdown",
   "metadata": {},
   "source": [
    "To perform the spectral embedding, the function `spectral_embedding` is called. It takes the following inputs.\n",
    "\n",
    "- **adjacency:** The adjacency or affinity matrix of the graph to embed.\n",
    "- **n_components:** The dimension of the projection subspace.\n",
    "- **eigen_solver:** The eigenvalue decomposition strategy to use.\n",
    "- **eigen_tol:** Stopping criterion for eigendecomposition of the Laplacian matrix when using arpack eigen_solver.\n",
    "- **drop_first:** Whether to drop the first eigenvector. For spectral embedding, this should be True as the first eigenvector should be constant vector for connected graph, but for spectral clustering, this should be kept as False to retain the first eigenvector.\n",
    "\n",
    "Within the function `spectral_embedding`, the function `csgraph_laplacian`is called, which returns the Laplacian matrix of a directed [graph](https://docs.scipy.org/doc/scipy/reference/generated/scipy.sparse.csgraph.laplacian.html). Furthermore, it returns the diagonal of the Laplacian matrix of length N. The eigendecomposition of the laplacian matrix can give insight into many properties of the graph.\n",
    "\n",
    "In general, the (unnormalized) Laplacian Matrix is calculated as such:\n",
    "\n",
    "$$\n",
    "L = D - A\n",
    "$$\n",
    "\n",
    "where: \n",
    "- L: Laplacian Matrix\n",
    "- D: Degree Matrix\n",
    "- A: Affinity or Adjacency Matrix\n",
    "\n",
    "The Degree Matrix is a diagonal matrix, where the degree of a node (i.e. values) of the diagonal is given by the number of edges connected to it. The degree of the nodes is obtained by taking the sum of each row in the affinity / adjacency matrix."
   ]
  },
  {
   "cell_type": "markdown",
   "metadata": {},
   "source": [
    "#### Step 2.1 Laplacian Matrix"
   ]
  },
  {
   "cell_type": "code",
   "execution_count": 291,
   "metadata": {},
   "outputs": [
    {
     "name": "stdout",
     "output_type": "stream",
     "text": [
      "The Degree Matrix is:\n",
      "         0       1       2       3\n",
      "0  1.0184  0.0000  0.0000  0.0000\n",
      "1  0.0000  1.1538  0.0000  0.0000\n",
      "2  0.0000  0.0000  1.1421  0.0000\n",
      "3  0.0000  0.0000  0.0000  1.0069\n"
     ]
    }
   ],
   "source": [
    "# Construct Empty Degree Matrix\n",
    "degree_matrix_rbf = np.zeros(shape)\n",
    "# Update entries of Degree matrix\n",
    "i = 0\n",
    "for i in range (0, shape[0]):\n",
    "    sum_row = affinity_matrix_rbf[i, :].sum()\n",
    "    # Update Degree Matrix\n",
    "    degree_matrix_rbf[i][i] = sum_row\n",
    "    \n",
    "# Transform Degree Matrix into DataFrame\n",
    "df_degree = pd.DataFrame(degree_matrix_rbf, index = index, columns = columns)\n",
    "print('The Degree Matrix is:\\n', round(df_degree, 4))"
   ]
  },
  {
   "cell_type": "code",
   "execution_count": 292,
   "metadata": {},
   "outputs": [
    {
     "data": {
      "text/html": [
       "<div>\n",
       "<style scoped>\n",
       "    .dataframe tbody tr th:only-of-type {\n",
       "        vertical-align: middle;\n",
       "    }\n",
       "\n",
       "    .dataframe tbody tr th {\n",
       "        vertical-align: top;\n",
       "    }\n",
       "\n",
       "    .dataframe thead th {\n",
       "        text-align: right;\n",
       "    }\n",
       "</style>\n",
       "<table border=\"1\" class=\"dataframe\">\n",
       "  <thead>\n",
       "    <tr style=\"text-align: right;\">\n",
       "      <th></th>\n",
       "      <th>0</th>\n",
       "      <th>1</th>\n",
       "      <th>2</th>\n",
       "      <th>3</th>\n",
       "    </tr>\n",
       "  </thead>\n",
       "  <tbody>\n",
       "    <tr>\n",
       "      <th>0</th>\n",
       "      <td>1.018363</td>\n",
       "      <td>0.000000</td>\n",
       "      <td>0.000000</td>\n",
       "      <td>0.000000</td>\n",
       "    </tr>\n",
       "    <tr>\n",
       "      <th>1</th>\n",
       "      <td>0.000000</td>\n",
       "      <td>1.153774</td>\n",
       "      <td>0.000000</td>\n",
       "      <td>0.000000</td>\n",
       "    </tr>\n",
       "    <tr>\n",
       "      <th>2</th>\n",
       "      <td>0.000000</td>\n",
       "      <td>0.000000</td>\n",
       "      <td>1.142119</td>\n",
       "      <td>0.000000</td>\n",
       "    </tr>\n",
       "    <tr>\n",
       "      <th>3</th>\n",
       "      <td>0.000000</td>\n",
       "      <td>0.000000</td>\n",
       "      <td>0.000000</td>\n",
       "      <td>1.006864</td>\n",
       "    </tr>\n",
       "  </tbody>\n",
       "</table>\n",
       "</div>"
      ],
      "text/plain": [
       "          0         1         2         3\n",
       "0  1.018363  0.000000  0.000000  0.000000\n",
       "1  0.000000  1.153774  0.000000  0.000000\n",
       "2  0.000000  0.000000  1.142119  0.000000\n",
       "3  0.000000  0.000000  0.000000  1.006864"
      ]
     },
     "execution_count": 292,
     "metadata": {},
     "output_type": "execute_result"
    }
   ],
   "source": [
    "df_degree"
   ]
  },
  {
   "cell_type": "code",
   "execution_count": 296,
   "metadata": {},
   "outputs": [
    {
     "name": "stdout",
     "output_type": "stream",
     "text": [
      "The Laplacian Matrix is:\n",
      "         0       1       2       3\n",
      "0  0.0184 -0.0183 -0.0000 -0.0000\n",
      "1 -0.0183  0.1538 -0.1353 -0.0001\n",
      "2 -0.0000 -0.1353  0.1421 -0.0067\n",
      "3 -0.0000 -0.0001 -0.0067  0.0069\n"
     ]
    }
   ],
   "source": [
    "# Calculate Laplacian Matrix manually\n",
    "laplacian_rbf_manuell = degree_matrix_rbf - affinity_matrix_rbf\n",
    "# Transform Laplacian Matrix into DataFrame\n",
    "index = list(range(0, len(X)))\n",
    "columns = list(range(0, len(X)))\n",
    "df_laplacian_rbf_manuell = pd.DataFrame(laplacian_rbf_manuell, index = index, columns = columns)\n",
    "print('The Laplacian Matrix is:\\n', round(df_laplacian_rbf_manuell, 4))"
   ]
  },
  {
   "cell_type": "code",
   "execution_count": 297,
   "metadata": {},
   "outputs": [
    {
     "data": {
      "text/html": [
       "<div>\n",
       "<style scoped>\n",
       "    .dataframe tbody tr th:only-of-type {\n",
       "        vertical-align: middle;\n",
       "    }\n",
       "\n",
       "    .dataframe tbody tr th {\n",
       "        vertical-align: top;\n",
       "    }\n",
       "\n",
       "    .dataframe thead th {\n",
       "        text-align: right;\n",
       "    }\n",
       "</style>\n",
       "<table border=\"1\" class=\"dataframe\">\n",
       "  <thead>\n",
       "    <tr style=\"text-align: right;\">\n",
       "      <th></th>\n",
       "      <th>0</th>\n",
       "      <th>1</th>\n",
       "      <th>2</th>\n",
       "      <th>3</th>\n",
       "    </tr>\n",
       "  </thead>\n",
       "  <tbody>\n",
       "    <tr>\n",
       "      <th>0</th>\n",
       "      <td>0.018363</td>\n",
       "      <td>-0.018316</td>\n",
       "      <td>-0.000045</td>\n",
       "      <td>-0.000002</td>\n",
       "    </tr>\n",
       "    <tr>\n",
       "      <th>1</th>\n",
       "      <td>-0.018316</td>\n",
       "      <td>0.153774</td>\n",
       "      <td>-0.135335</td>\n",
       "      <td>-0.000123</td>\n",
       "    </tr>\n",
       "    <tr>\n",
       "      <th>2</th>\n",
       "      <td>-0.000045</td>\n",
       "      <td>-0.135335</td>\n",
       "      <td>0.142119</td>\n",
       "      <td>-0.006738</td>\n",
       "    </tr>\n",
       "    <tr>\n",
       "      <th>3</th>\n",
       "      <td>-0.000002</td>\n",
       "      <td>-0.000123</td>\n",
       "      <td>-0.006738</td>\n",
       "      <td>0.006864</td>\n",
       "    </tr>\n",
       "  </tbody>\n",
       "</table>\n",
       "</div>"
      ],
      "text/plain": [
       "          0         1         2         3\n",
       "0  0.018363 -0.018316 -0.000045 -0.000002\n",
       "1 -0.018316  0.153774 -0.135335 -0.000123\n",
       "2 -0.000045 -0.135335  0.142119 -0.006738\n",
       "3 -0.000002 -0.000123 -0.006738  0.006864"
      ]
     },
     "execution_count": 297,
     "metadata": {},
     "output_type": "execute_result"
    }
   ],
   "source": [
    "df_laplacian_rbf_manuell "
   ]
  },
  {
   "cell_type": "markdown",
   "metadata": {},
   "source": [
    "The function `csgraph_laplacian` performs the same calculation as can be seen below. The resulting laplacian matrices are identical."
   ]
  },
  {
   "cell_type": "code",
   "execution_count": 298,
   "metadata": {},
   "outputs": [
    {
     "name": "stdout",
     "output_type": "stream",
     "text": [
      "The Laplacian Matrix is:\n",
      "         0       1       2       3\n",
      "0  0.0184 -0.0183 -0.0000 -0.0000\n",
      "1 -0.0183  0.1538 -0.1353 -0.0001\n",
      "2 -0.0000 -0.1353  0.1421 -0.0067\n",
      "3 -0.0000 -0.0001 -0.0067  0.0069\n"
     ]
    }
   ],
   "source": [
    "# Imports\n",
    "from scipy.sparse.csgraph import laplacian as csgraph_laplacian\n",
    "\n",
    "# Calculate Laplacian Matrix\n",
    "adjacency = affinity_matrix_rbf\n",
    "laplacian, diagonal = csgraph_laplacian(adjacency, return_diag=True)\n",
    "\n",
    "# Transform Laplacian Matrix into DataFrame\n",
    "df_laplacian_rbf = pd.DataFrame(laplacian, index = index, columns = columns)\n",
    "print('The Laplacian Matrix is:\\n', round(df_laplacian_rbf, 4))"
   ]
  },
  {
   "cell_type": "code",
   "execution_count": 299,
   "metadata": {},
   "outputs": [
    {
     "data": {
      "text/html": [
       "<div>\n",
       "<style scoped>\n",
       "    .dataframe tbody tr th:only-of-type {\n",
       "        vertical-align: middle;\n",
       "    }\n",
       "\n",
       "    .dataframe tbody tr th {\n",
       "        vertical-align: top;\n",
       "    }\n",
       "\n",
       "    .dataframe thead th {\n",
       "        text-align: right;\n",
       "    }\n",
       "</style>\n",
       "<table border=\"1\" class=\"dataframe\">\n",
       "  <thead>\n",
       "    <tr style=\"text-align: right;\">\n",
       "      <th></th>\n",
       "      <th>0</th>\n",
       "      <th>1</th>\n",
       "      <th>2</th>\n",
       "      <th>3</th>\n",
       "    </tr>\n",
       "  </thead>\n",
       "  <tbody>\n",
       "    <tr>\n",
       "      <th>0</th>\n",
       "      <td>True</td>\n",
       "      <td>True</td>\n",
       "      <td>True</td>\n",
       "      <td>True</td>\n",
       "    </tr>\n",
       "    <tr>\n",
       "      <th>1</th>\n",
       "      <td>True</td>\n",
       "      <td>True</td>\n",
       "      <td>True</td>\n",
       "      <td>True</td>\n",
       "    </tr>\n",
       "    <tr>\n",
       "      <th>2</th>\n",
       "      <td>True</td>\n",
       "      <td>True</td>\n",
       "      <td>True</td>\n",
       "      <td>True</td>\n",
       "    </tr>\n",
       "    <tr>\n",
       "      <th>3</th>\n",
       "      <td>True</td>\n",
       "      <td>True</td>\n",
       "      <td>True</td>\n",
       "      <td>True</td>\n",
       "    </tr>\n",
       "  </tbody>\n",
       "</table>\n",
       "</div>"
      ],
      "text/plain": [
       "      0     1     2     3\n",
       "0  True  True  True  True\n",
       "1  True  True  True  True\n",
       "2  True  True  True  True\n",
       "3  True  True  True  True"
      ]
     },
     "execution_count": 299,
     "metadata": {},
     "output_type": "execute_result"
    }
   ],
   "source": [
    "# Check for identical results\n",
    "round(df_laplacian_rbf_manuell, 4) == round(df_laplacian_rbf, 4)"
   ]
  },
  {
   "cell_type": "markdown",
   "metadata": {},
   "source": [
    "#### 2.2 Eigenvalues and Eigenvectors of Laplacian Matrix"
   ]
  },
  {
   "cell_type": "markdown",
   "metadata": {},
   "source": [
    "In the next step, the eigenvalues of the laplacian matrix are calculated. If the `eigen_solver`is set to `arpack`(default), then the function `eigsh` is called, which finds k eigenvalues and eigenvectors of a real symmetric square [matrix](https://docs.scipy.org/doc/scipy/reference/generated/scipy.sparse.linalg.eigsh.html).\n",
    "\n",
    "The function returns an array of k eigenvalues and an array representing the k eigenvectors."
   ]
  },
  {
   "cell_type": "code",
   "execution_count": 308,
   "metadata": {},
   "outputs": [
    {
     "name": "stderr",
     "output_type": "stream",
     "text": [
      "/opt/anaconda3/lib/python3.8/site-packages/scipy/sparse/linalg/eigen/arpack/arpack.py:1590: RuntimeWarning: k >= N for N * N square matrix. Attempting to use scipy.linalg.eigh instead.\n",
      "  warnings.warn(\"k >= N for N * N square matrix. \"\n"
     ]
    }
   ],
   "source": [
    "from scipy.sparse.linalg import eigsh\n",
    "laplacian = laplacian\n",
    "# Determine number of components\n",
    "n_components = 4 \n",
    "# Determine which eigenvalues to find\n",
    "which = 'LM' #‘LM’: Largest (in magnitude) eigenvalues\n",
    "# Relative accuracy for eigenvalues (stopping criterion). The default value of 0 implies machine precision.\n",
    "eigen_tol = 0\n",
    "# Calculate Eigenvalues and Eigenvectors\n",
    "eigenvalues_rbf, eigenvectors_rbf = eigsh(laplacian, k=n_components, sigma=1.0, which=which, tol=eigen_tol)\n",
    "# Determine diffusion_map\n",
    "diffusion_map_rbf = eigenvectors_rbf\n",
    "# Spectral Embedding\n",
    "embedding_rbf = diffusion_map_rbf.T[n_components::-1]"
   ]
  },
  {
   "cell_type": "code",
   "execution_count": 313,
   "metadata": {},
   "outputs": [
    {
     "data": {
      "text/plain": [
       "array([-0.    ,  0.0084,  0.0286,  0.2841])"
      ]
     },
     "execution_count": 313,
     "metadata": {},
     "output_type": "execute_result"
    }
   ],
   "source": [
    "np.round(eigenvalues_rbf, 4)"
   ]
  },
  {
   "cell_type": "markdown",
   "metadata": {},
   "source": [
    "### Plot Eigenvalues\n",
    "In general, we often look for the first large gap between eigenvalues in order to find the number of clusters expressed in our data. "
   ]
  },
  {
   "cell_type": "code",
   "execution_count": 316,
   "metadata": {},
   "outputs": [
    {
     "data": {
      "text/plain": [
       "<matplotlib.collections.PathCollection at 0x7fe718ff4130>"
      ]
     },
     "execution_count": 316,
     "metadata": {},
     "output_type": "execute_result"
    },
    {
     "data": {
      "image/png": "[encoded data removed]",
      "text/plain": [
       "<Figure size 432x288 with 1 Axes>"
      ]
     },
     "metadata": {
      "needs_background": "light"
     },
     "output_type": "display_data"
    }
   ],
   "source": [
    "x_axis = list(range(0, len(eigenvalues_rbf)))\n",
    "y_axis = eigenvalues_rbf\n",
    "plt.scatter(x_axis, y_axis)"
   ]
  },
  {
   "cell_type": "code",
   "execution_count": 309,
   "metadata": {},
   "outputs": [
    {
     "ename": "IndexError",
     "evalue": "list index out of range",
     "output_type": "error",
     "traceback": [
      "\u001b[0;31m---------------------------------------------------------------------------\u001b[0m",
      "\u001b[0;31mIndexError\u001b[0m                                Traceback (most recent call last)",
      "\u001b[0;32m<ipython-input-309-df227bd34841>\u001b[0m in \u001b[0;36m<module>\u001b[0;34m\u001b[0m\n\u001b[1;32m     14\u001b[0m \u001b[0membedding_matrix\u001b[0m \u001b[0;34m=\u001b[0m \u001b[0mnp\u001b[0m\u001b[0;34m.\u001b[0m\u001b[0mhstack\u001b[0m\u001b[0;34m(\u001b[0m\u001b[0;34m(\u001b[0m\u001b[0meigen_pairs\u001b[0m\u001b[0;34m[\u001b[0m\u001b[0;36m0\u001b[0m\u001b[0;34m]\u001b[0m\u001b[0;34m[\u001b[0m\u001b[0;36m1\u001b[0m\u001b[0;34m]\u001b[0m\u001b[0;34m[\u001b[0m\u001b[0;34m:\u001b[0m\u001b[0;34m,\u001b[0m \u001b[0mnp\u001b[0m\u001b[0;34m.\u001b[0m\u001b[0mnewaxis\u001b[0m\u001b[0;34m]\u001b[0m\u001b[0;34m,\u001b[0m \u001b[0meigen_pairs\u001b[0m\u001b[0;34m[\u001b[0m\u001b[0;36m1\u001b[0m\u001b[0;34m]\u001b[0m\u001b[0;34m[\u001b[0m\u001b[0;36m1\u001b[0m\u001b[0;34m]\u001b[0m\u001b[0;34m[\u001b[0m\u001b[0;34m:\u001b[0m\u001b[0;34m,\u001b[0m \u001b[0mnp\u001b[0m\u001b[0;34m.\u001b[0m\u001b[0mnewaxis\u001b[0m\u001b[0;34m]\u001b[0m\u001b[0;34m)\u001b[0m\u001b[0;34m)\u001b[0m\u001b[0;34m\u001b[0m\u001b[0;34m\u001b[0m\u001b[0m\n\u001b[1;32m     15\u001b[0m \u001b[0;32mfor\u001b[0m \u001b[0mi\u001b[0m \u001b[0;32min\u001b[0m \u001b[0mrange\u001b[0m \u001b[0;34m(\u001b[0m\u001b[0;36m2\u001b[0m\u001b[0;34m,\u001b[0m \u001b[0mn_components\u001b[0m\u001b[0;34m)\u001b[0m\u001b[0;34m:\u001b[0m\u001b[0;34m\u001b[0m\u001b[0;34m\u001b[0m\u001b[0m\n\u001b[0;32m---> 16\u001b[0;31m     \u001b[0membedding_matrix\u001b[0m \u001b[0;34m=\u001b[0m \u001b[0mnp\u001b[0m\u001b[0;34m.\u001b[0m\u001b[0mhstack\u001b[0m\u001b[0;34m(\u001b[0m\u001b[0;34m(\u001b[0m\u001b[0membedding_matrix\u001b[0m\u001b[0;34m,\u001b[0m \u001b[0meigen_pairs\u001b[0m\u001b[0;34m[\u001b[0m\u001b[0mi\u001b[0m\u001b[0;34m]\u001b[0m\u001b[0;34m[\u001b[0m\u001b[0;36m1\u001b[0m\u001b[0;34m]\u001b[0m\u001b[0;34m[\u001b[0m\u001b[0;34m:\u001b[0m\u001b[0;34m,\u001b[0m \u001b[0mnp\u001b[0m\u001b[0;34m.\u001b[0m\u001b[0mnewaxis\u001b[0m\u001b[0;34m]\u001b[0m\u001b[0;34m)\u001b[0m\u001b[0;34m)\u001b[0m\u001b[0;34m\u001b[0m\u001b[0;34m\u001b[0m\u001b[0m\n\u001b[0m\u001b[1;32m     17\u001b[0m \u001b[0membedding_rbf_manuell\u001b[0m \u001b[0;34m=\u001b[0m \u001b[0membedding_matrix\u001b[0m\u001b[0;34m.\u001b[0m\u001b[0mT\u001b[0m\u001b[0;34m\u001b[0m\u001b[0;34m\u001b[0m\u001b[0m\n",
      "\u001b[0;31mIndexError\u001b[0m: list index out of range"
     ]
    }
   ],
   "source": [
    "import numpy as np\n",
    "n_components = 6\n",
    "# Calculate Eigenvalues and Eigenvectors\n",
    "eigenvalues, eigenvectors = np.linalg.eig(laplacian)\n",
    "\n",
    "# Make a list of (eigenvalue, eigenvector) tuples\n",
    "eigen_pairs = [(np.abs(eigenvalues[i]), eigenvectors[:, i]) for i in range(len(eigenvalues))]\n",
    "\n",
    "# Sort the (eigenvalues, eigenvalues) tuples from high to low (reverse), key=EV\n",
    "eigen_pairs.sort(key=lambda k: k[0], reverse=True)\n",
    "\n",
    "# Spectral Embedding\n",
    "# Construct the Embedding Matrix out of the n-vectors based on n_components\n",
    "embedding_matrix = np.hstack((eigen_pairs[0][1][:, np.newaxis], eigen_pairs[1][1][:, np.newaxis]))\n",
    "for i in range (2, n_components):\n",
    "    embedding_matrix = np.hstack((embedding_matrix, eigen_pairs[i][1][:, np.newaxis]))\n",
    "embedding_rbf_manuell = embedding_matrix.T"
   ]
  },
  {
   "cell_type": "code",
   "execution_count": 310,
   "metadata": {},
   "outputs": [
    {
     "name": "stdout",
     "output_type": "stream",
     "text": [
      "Eigenvalues using \"eigsh\" equal Eigenvalues using \"linal.eig :\n",
      " [ True  True  True  True]\n",
      "Embedding Matrix using \"eigsh\" equal Embedding Matrix using \"linal.eig\":\n",
      " False\n"
     ]
    },
    {
     "name": "stderr",
     "output_type": "stream",
     "text": [
      "<ipython-input-310-a8b41b90a617>:5: DeprecationWarning: elementwise comparison failed; this will raise an error in the future.\n",
      "  np.round(abs(embedding_rbf), 8) == np.round(abs(embedding_rbf_manuell), 8))\n"
     ]
    }
   ],
   "source": [
    "# Comparison\n",
    "print('Eigenvalues using \"eigsh\" equal Eigenvalues using \"linal.eig :\\n', \n",
    "      np.round(eigenvalues_rbf, 8) == np.round(sorted(eigenvalues)[-n_components:], 8))\n",
    "print('Embedding Matrix using \"eigsh\" equal Embedding Matrix using \"linal.eig\":\\n', \n",
    "      np.round(abs(embedding_rbf), 8) == np.round(abs(embedding_rbf_manuell), 8))"
   ]
  },
  {
   "cell_type": "markdown",
   "metadata": {},
   "source": [
    "#### 2.3 Sign-Flip of Embedding Matrix\n",
    "In the next step, the sign of the elements of all the vectors in the embedding matrix are flipped such that\n",
    "the absolute maximum element of each vector is positive."
   ]
  },
  {
   "cell_type": "code",
   "execution_count": 311,
   "metadata": {},
   "outputs": [
    {
     "name": "stdout",
     "output_type": "stream",
     "text": [
      "The maximum value along each axis is now positive :\n",
      " [[ 0.8165 -0.4082 -0.4082  0.      0.     -0.    ]\n",
      " [ 0.      0.     -0.     -0.4082 -0.4082  0.8165]\n",
      " [ 0.      0.7071 -0.7071  0.     -0.     -0.    ]\n",
      " [-0.      0.     -0.     -0.7071  0.7071  0.    ]\n",
      " [-0.4082 -0.4082 -0.4082  0.4082  0.4082  0.4082]\n",
      " [ 0.4082  0.4082  0.4082  0.4082  0.4082  0.4082]]\n"
     ]
    }
   ],
   "source": [
    "# np.argmax returns the indices of the maximum values along an axis.\n",
    "max_abs_rows = np.argmax(np.abs(embedding_rbf_manuell), axis=1)\n",
    "# np.sign returns an element-wise indication of the sign of a the maximum value along each axis\n",
    "signs = np.sign(embedding_rbf_manuell[range(embedding_rbf_manuell.shape[0]), max_abs_rows])\n",
    "# the sign of all the vectors in the embedding matrixs are flipped\n",
    "embedding_rbf_manuell *= signs[:, np.newaxis]\n",
    "print('The maximum value along each axis is now positive :\\n', \n",
    "      np.round(embedding_rbf_manuell, 4))"
   ]
  },
  {
   "cell_type": "markdown",
   "metadata": {},
   "source": [
    "#### Step 3 Assign Lables"
   ]
  },
  {
   "cell_type": "code",
   "execution_count": 306,
   "metadata": {},
   "outputs": [
    {
     "data": {
      "text/plain": [
       "array([1, 0, 0, 1, 0, 1], dtype=int32)"
      ]
     },
     "execution_count": 306,
     "metadata": {},
     "output_type": "execute_result"
    }
   ],
   "source": [
    "#k_means\n",
    "from sklearn.cluster import KMeans\n",
    "maps = embedding_rbf_manuell[:n_components].T\n",
    "n_clusters = 2\n",
    "random_state = 0\n",
    "k = KMeans(n_clusters=n_clusters, random_state=random_state, verbose=False).fit(maps)\n",
    "\n",
    "k.labels_\n",
    "# _, labels, _ = KMeans(maps, n_clusters, random_state=random_state)"
   ]
  },
  {
   "cell_type": "code",
   "execution_count": 307,
   "metadata": {},
   "outputs": [
    {
     "data": {
      "text/plain": [
       "array([1, 1, 1, 0], dtype=int32)"
      ]
     },
     "execution_count": 307,
     "metadata": {},
     "output_type": "execute_result"
    }
   ],
   "source": [
    "clustering = SpectralClustering(n_clusters=2,\n",
    "                                affinity = 'rbf',\n",
    "                                assign_labels='kmeans',\n",
    "                                random_state=0).fit(X)\n",
    "\n",
    "clustering.labels_"
   ]
  },
  {
   "cell_type": "code",
   "execution_count": null,
   "metadata": {},
   "outputs": [],
   "source": []
  }
 ],
 "metadata": {
  "kernelspec": {
   "display_name": "Python 3",
   "language": "python",
   "name": "python3"
  },
  "language_info": {
   "codemirror_mode": {
    "name": "ipython",
    "version": 3
   },
   "file_extension": ".py",
   "mimetype": "text/x-python",
   "name": "python",
   "nbconvert_exporter": "python",
   "pygments_lexer": "ipython3",
   "version": "3.8.3"
  }
 },
 "nbformat": 4,
 "nbformat_minor": 4
}
