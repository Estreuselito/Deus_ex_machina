{
 "cells": [
  {
   "cell_type": "markdown",
   "metadata": {},
   "source": [
    "# Machine Learning II - Assignment 1\n",
    "Due: April 18, 2021 \\\n",
    "Group Members: Debasmita Duta, Skyler MacGowan, Yannik Suhre, Sebastian Sydow"
   ]
  },
  {
   "cell_type": "markdown",
   "metadata": {},
   "source": [
    "## Part 1"
   ]
  },
  {
   "cell_type": "code",
   "execution_count": 37,
   "metadata": {},
   "outputs": [
    {
     "data": {
      "text/markdown": [
       "<b>Testing out use of markdown mode within a cell that is otherwise not at all markdown</b>"
      ],
      "text/plain": [
       "<IPython.core.display.Markdown object>"
      ]
     },
     "metadata": {},
     "output_type": "display_data"
    },
    {
     "name": "stdout",
     "output_type": "stream",
     "text": [
      "Population size: 3000\n",
      "Infected at t=0: 1\n",
      "R0= 2.6\n",
      "R_eff=1 at t= 39 d\n"
     ]
    },
    {
     "data": {
      "image/png": "[encoded data removed]",
      "text/plain": [
       "<Figure size 432x288 with 1 Axes>"
      ]
     },
     "metadata": {
      "filenames": {
       "image/png": "/home/frankfurt/gacela/git-repos/Deus_ex_machina/_build/jupyter_execute/SIR Model/Skyler MacGowan - Assignment 1_2_2.png"
      }
     },
     "output_type": "display_data"
    }
   ],
   "source": [
    "import numpy as np\n",
    "import pandas as pd\n",
    "import matplotlib as plt\n",
    "import math\n",
    "from scipy.integrate import odeint\n",
    "import matplotlib.pyplot as plt\n",
    "from IPython.display import display, Markdown\n",
    "%matplotlib inline\n",
    "\n",
    "display(Markdown('<b>Testing out use of markdown mode within a cell that is otherwise not at all markdown</b>'))\n",
    "\n",
    "# Initial conditions: 1 Infected, no Recovered individuals\n",
    "I0, R0, D0 = 1, 0, 0 #case zero\n",
    "\n",
    "# All others, S=N-I-R susceptible, initially S0=N-I0-R0\n",
    "S0 = N - I0 - R0 - D0 #normalization\n",
    "\n",
    "# Contact rate, beta; recovery rate, gamma; mortality rate, mu\n",
    "beta, gamma, mu = 0.39, 0.15, 0.02\n",
    "\n",
    "# Basic reproduction number R0 (speak R nought), average number of individuals that get infected over\n",
    "# the period where an infected person is infectious at time 0 where no one is infected \n",
    "R_nought = beta / gamma\n",
    "\n",
    "# by pure logic, or following the literature\n",
    "# https://www.healthknowledge.org.uk/public-health-textbook/research-methods/1a-epidemiology/epidemic-theory\n",
    "# R_effective = R_nought * S/N, as used in the plot\n",
    "\n",
    "print(\"Population size:\", N)\n",
    "print(\"Infected at t=0:\", I0)\n",
    "print (\"R0=\",R_nought)\n",
    "\n",
    "# A grid of time points (in days)\n",
    "t = np.linspace(0, 150, 150)\n",
    "\n",
    "# SIR model (coupled nonlinear system of ODEs)\n",
    "def deriv(y, t, N, beta, gamma, mu):\n",
    "    S, I, R, D = y\n",
    "    dSdt = -beta * S * I / N\n",
    "    dIdt = beta * S * I / N - gamma * I - mu * I\n",
    "    dRdt = gamma * I\n",
    "    dDdt = mu * I\n",
    "    return dSdt, dIdt, dRdt, dDdt\n",
    "\n",
    "#1/gamma average time to recover\n",
    "\n",
    "# Initial conditions vector\n",
    "y0 = S0, I0, R0, D0\n",
    "\n",
    "# Integrate the SIRD equations over the time grid, t.\n",
    "ret = odeint(deriv, y0, t, args=(N, beta, gamma, mu))\n",
    "S, I, R, D = ret.T # return vector\n",
    "\n",
    "#find R_effective = 1 time\n",
    "t_1 = 0\n",
    "for time in range(0,len(S)):\n",
    "    if R_nought*S[time]/N < 1: \n",
    "        t_1 = time\n",
    "        break\n",
    "print(\"R_eff=1 at t=\", t_1, \"d\")\n",
    "\n",
    "\n",
    "# Plot the data on three separate curves for S(t), I(t) and R(t)\n",
    "fig = plt.figure(facecolor='w')\n",
    "ax = fig.add_subplot(111, axisbelow=True)\n",
    "ax.plot(t, S/N, 'b', alpha=0.5, lw=2, label='S/usceptible')\n",
    "ax.plot(t, I/N, 'r', alpha=0.5, lw=2, label='I/nfected')\n",
    "ax.plot(t, R/N, 'g', alpha=0.5, lw=2, label='R/ecovered')\n",
    "ax.plot(t, D/N, 'k', alpha=0.5, lw=2, label='Dead')\n",
    "ax.plot(t, R_nought*S/N, 'gray', alpha=0.5, lw=2, label='R_effective')\n",
    "ax.set_xlabel('Time / days')\n",
    "ax.set_ylabel('Fraction')\n",
    "ax.set_ylim(0,2.2)\n",
    "ax.vlines(t_1, 0, 1, colors='k', linestyles='dashed')\n",
    "ax.yaxis.set_tick_params(length=0)\n",
    "ax.xaxis.set_tick_params(length=0)\n",
    "ax.grid(b=True, which='major', c='w', lw=2, ls='-')\n",
    "legend = ax.legend()\n",
    "legend.get_frame().set_alpha(0.5)\n",
    "for spine in ('top', 'right', 'bottom', 'left'):\n",
    "    ax.spines[spine].set_visible(False)\n",
    "plt.show()"
   ]
  },
  {
   "cell_type": "markdown",
   "metadata": {},
   "source": [
    "## Misc Schenanigans (DELETE BEFORE SUBMISSION)"
   ]
  },
  {
   "cell_type": "code",
   "execution_count": 3,
   "metadata": {},
   "outputs": [
    {
     "data": {
      "text/plain": [
       "array([5. , 4.5, 4. ])"
      ]
     },
     "execution_count": 3,
     "metadata": {},
     "output_type": "execute_result"
    }
   ],
   "source": [
    "a = np.linspace(5,4,3)\n",
    "a"
   ]
  },
  {
   "cell_type": "code",
   "execution_count": 4,
   "metadata": {},
   "outputs": [
    {
     "data": {
      "text/plain": [
       "<function matplotlib.pyplot.figure(num=None, figsize=None, dpi=None, facecolor=None, edgecolor=None, frameon=True, FigureClass=<class 'matplotlib.figure.Figure'>, clear=False, **kwargs)>"
      ]
     },
     "execution_count": 4,
     "metadata": {},
     "output_type": "execute_result"
    }
   ],
   "source": [
    "y = plt.figure\n",
    "y"
   ]
  },
  {
   "cell_type": "code",
   "execution_count": 12,
   "metadata": {},
   "outputs": [
    {
     "name": "stdout",
     "output_type": "stream",
     "text": [
      "0\n",
      "10\n",
      "20\n",
      "30\n",
      "40\n",
      "50\n",
      "60\n",
      "70\n",
      "80\n",
      "90\n"
     ]
    },
    {
     "data": {
      "text/plain": [
       "450"
      ]
     },
     "execution_count": 12,
     "metadata": {},
     "output_type": "execute_result"
    }
   ],
   "source": [
    "z = range(0, 100, 10)\n",
    "def tester(x):\n",
    "    R = 0\n",
    "    for i in z:\n",
    "        print(i)\n",
    "        R += x*i\n",
    "    return R\n",
    "tester(1)"
   ]
  },
  {
   "cell_type": "code",
   "execution_count": 25,
   "metadata": {},
   "outputs": [
    {
     "name": "stdout",
     "output_type": "stream",
     "text": [
      "[ 0  1  2  3  4  5  6  7  8  9 10 11 12 13 14 15 16 17 18 19 20 21 22 23\n",
      " 24 25 26 27 28 29 30 31]\n"
     ]
    },
    {
     "data": {
      "image/png": "[encoded data removed]",
      "text/plain": [
       "<Figure size 432x288 with 1 Axes>"
      ]
     },
     "metadata": {
      "filenames": {
       "image/png": "/home/frankfurt/gacela/git-repos/Deus_ex_machina/_build/jupyter_execute/SIR Model/Skyler MacGowan - Assignment 1_7_1.png"
      },
      "needs_background": "light"
     },
     "output_type": "display_data"
    }
   ],
   "source": [
    "data = np.arange(32)\n",
    "print(data)\n",
    "y = 2 * data + 5\n",
    "\n",
    "plt.title(\"Matplotlib demo\") \n",
    "plt.xlabel(\"x axis\") \n",
    "plt.ylabel(\"y axis\") \n",
    "plt.plot(data,y) \n",
    "plt.show()"
   ]
  },
  {
   "cell_type": "code",
   "execution_count": 21,
   "metadata": {},
   "outputs": [
    {
     "data": {
      "text/plain": [
       "array([[ 0,  1,  2,  3],\n",
       "       [ 4,  5,  6,  7],\n",
       "       [ 8,  9, 10, 11],\n",
       "       [12, 13, 14, 15],\n",
       "       [16, 17, 18, 19],\n",
       "       [20, 21, 22, 23],\n",
       "       [24, 25, 26, 27],\n",
       "       [28, 29, 30, 31]])"
      ]
     },
     "execution_count": 21,
     "metadata": {},
     "output_type": "execute_result"
    }
   ],
   "source": [
    "data = np.arange(32).reshape(8,4)\n",
    "data"
   ]
  },
  {
   "cell_type": "markdown",
   "metadata": {},
   "source": [
    "### Questions\n",
    "\n",
    "<b>Question</b>: \n",
    "\n",
    "<i> [INSERT ANSWER HERE] </i>"
   ]
  }
 ],
 "metadata": {
  "kernelspec": {
   "display_name": "Python 3",
   "language": "python",
   "name": "python3"
  },
  "language_info": {
   "codemirror_mode": {
    "name": "ipython",
    "version": 3
   },
   "file_extension": ".py",
   "mimetype": "text/x-python",
   "name": "python",
   "nbconvert_exporter": "python",
   "pygments_lexer": "ipython3",
   "version": "3.8.3"
  }
 },
 "nbformat": 4,
 "nbformat_minor": 2
}