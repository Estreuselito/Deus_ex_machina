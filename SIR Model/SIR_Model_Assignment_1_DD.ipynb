{
 "cells": [
  {
   "cell_type": "code",
   "execution_count": 8,
   "metadata": {},
   "outputs": [
    {
     "name": "stdout",
     "output_type": "stream",
     "text": [
      "Population size: 3000\n",
      "Infected at t=0: 7\n",
      "R0= 1.95\n",
      "R_eff=1 at t= 31 d\n",
      "Deceased= 587.6239673013062\n"
     ]
    },
    {
     "data": {
      "image/png": "[encoded data removed]",
      "text/plain": [
       "<Figure size 432x288 with 1 Axes>"
      ]
     },
     "metadata": {},
     "output_type": "display_data"
    }
   ],
   "source": [
    "# Basic SIRD model (adapted)\n",
    "###### (a)\n",
    "import numpy as np\n",
    "import pandas as pd\n",
    "import math\n",
    "from scipy.integrate import odeint\n",
    "import matplotlib.pyplot as plt\n",
    "%matplotlib inline\n",
    "\n",
    "# Population size\n",
    "N = 3000\n",
    "\n",
    "# Initial conditions: 1 Infected, no Recovered individuals\n",
    "I0, R0, D0 = 7, 0, 0 #case zero\n",
    "\n",
    "#N = S0 + I0 + R0 + D0\n",
    "S0 = N - I0 - R0 - D0 #normalization\n",
    "\n",
    "# Contact rate, beta; recovery rate, gamma; mortality rate mu\n",
    "beta, gamma, mu = 0.39, 0.15, 0.05\n",
    "\n",
    "# Basic reproduction number R0 (R nought), average number of individuals that can get infected which will not change over time.\n",
    "R_nought = beta / (gamma + mu)\n",
    "\n",
    "# R_effective = R_nought * S/N\n",
    "\n",
    "print(\"Population size:\", N)\n",
    "print(\"Infected at t=0:\", I0)\n",
    "print (\"R0=\",R_nought)\n",
    "\n",
    "# A grid of time points (in days)\n",
    "t = np.linspace(0, 370, 370)\n",
    "\n",
    "# SIRD model (coupled nonlinear system of ODEs)\n",
    "def deriv(y, t, N, beta, gamma,mu):\n",
    "    S, I, R, D = y\n",
    "    dSdt = -beta * S * I / N\n",
    "    dIdt = beta * S * I / N - gamma * I - mu * I\n",
    "    dRdt = gamma * I\n",
    "    dDdt = mu * I\n",
    "    return dSdt, dIdt, dRdt, dDdt\n",
    "\n",
    "#1/gamma average time to recover\n",
    "\n",
    "# Initial conditions vector\n",
    "y0 = S0, I0, R0, D0\n",
    "\n",
    "# Integrate the SIRD equations over the time grid, t.\n",
    "ret = odeint(deriv, y0, t, args=(N, beta, gamma, mu))\n",
    "S, I, R, D = ret.T # return vector\n",
    "\n",
    "#find R_effective = 1 time\n",
    "t_1 = 0\n",
    "for time in range(0,len(S)):\n",
    "    if R_nought*S[time]/N < 1: \n",
    "        t_1 = time\n",
    "        break\n",
    "print(\"R_eff=1 at t=\", t_1, \"d\")\n",
    "print(\"Deceased=\", D[-1])\n",
    "\n",
    "# Plot the data on four separate curves for S(t), I(t), R(t) and D(t)\n",
    "fig = plt.figure(facecolor='w')\n",
    "ax = fig.add_subplot(111, axisbelow=True)\n",
    "ax.plot(t, S/N, 'b', alpha=0.5, lw=2, label='S/usceptible')\n",
    "ax.plot(t, I/N, 'r', alpha=0.5, lw=2, label='I/nfected')\n",
    "ax.plot(t, R/N, 'g', alpha=0.5, lw=2, label='R/ecovered')\n",
    "ax.plot(t, D/N, 'y', alpha=0.5, lw=2, label='D/eceased')\n",
    "ax.plot(t, R_nought*S/N, 'gray', alpha=0.5, lw=2, label='R_effective')\n",
    "ax.set_xlabel('Time / days')\n",
    "ax.set_ylabel('Fraction')\n",
    "ax.set_ylim(0,2.2)\n",
    "ax.vlines(t_1, 0, 1, colors='k', linestyles='dashed')\n",
    "ax.yaxis.set_tick_params(length=0)\n",
    "ax.xaxis.set_tick_params(length=0)\n",
    "ax.grid(b=True, which='major', c='w', lw=2, ls='-')\n",
    "legend = ax.legend()\n",
    "legend.get_frame().set_alpha(0.5)\n",
    "for spine in ('top', 'right', 'bottom', 'left'):\n",
    "    ax.spines[spine].set_visible(False)\n",
    "plt.show()"
   ]
  },
  {
   "cell_type": "code",
   "execution_count": null,
   "metadata": {},
   "outputs": [],
   "source": []
  },
  {
   "cell_type": "code",
   "execution_count": 14,
   "metadata": {},
   "outputs": [
    {
     "name": "stdout",
     "output_type": "stream",
     "text": [
      "beta= 0.46199999999999997\n",
      "Deceased= 73.29730633124336\n",
      "beta= 0.5700000000000001\n",
      "Deceased= 594.0939576633357\n",
      "beta= 0.616\n",
      "Deceased= 76.38100022285931\n",
      "beta= 0.76\n",
      "Deceased= 619.0881070441977\n"
     ]
    }
   ],
   "source": [
    "# Basic SIRD model (adapted)\n",
    "# (b)\n",
    "# Population size\n",
    "N = 3000\n",
    "\n",
    "# Initial conditions: 1 Infected, no Recovered individuals\n",
    "I0, R0, D0 = 7, 0, 0 #case zero\n",
    "\n",
    "S0 = N - I0 - R0 - D0 #normalization\n",
    "\n",
    "# SIRD model (coupled nonlinear system of ODEs)\n",
    "def deriv(y, t, N, beta, gamma,mu):\n",
    "    S, I, R, D = y\n",
    "    dSdt = -beta * S * I / N\n",
    "    dIdt = beta * S * I / N - gamma * I - mu * I\n",
    "    dRdt = gamma * I\n",
    "    dDdt = mu * I\n",
    "    return dSdt, dIdt, dRdt, dDdt\n",
    "\n",
    "# Contact rate, beta; recovery rate, gamma; mortality rate mu\n",
    "gamma = 0.15\n",
    "R_nought = [3.0,4.0]\n",
    "mu = [0.004, 0.04]\n",
    "\n",
    "# at 365 day\n",
    "t = np.linspace(0, 365, 365)\n",
    "\n",
    "# Initial conditions vector\n",
    "y0 = S0, I0, R0, D0\n",
    "#R_effctive = np.zeros(len(t))\n",
    "R_effctive = []\n",
    "# Integrate the SIRD equations over the time grid, t.\n",
    "for  basic_repr_nr in R_nought:\n",
    "    for mortality_rate in mu:\n",
    "        beta = basic_repr_nr*(gamma + mortality_rate)\n",
    "        print(\"beta=\", beta)\n",
    "        ret = odeint(deriv, y0, t, args=(N, beta, gamma, mortality_rate))\n",
    "        S, I, R, D = ret.T # return vector\n",
    "        print(\"Deceased=\", D[-1])\n",
    "        R_effctive.append(basic_repr_nr*S/N)"
   ]
  },
  {
   "cell_type": "code",
   "execution_count": 4,
   "metadata": {},
   "outputs": [
    {
     "name": "stdout",
     "output_type": "stream",
     "text": [
      "gamma= 0.015000000000000001\n",
      "Deceased= 1174.2792132937568\n",
      "gamma= 0.16499999999999998\n",
      "Deceased= 168.0382004889669\n"
     ]
    }
   ],
   "source": [
    "# Basic SIRD model (adapted)\n",
    "# (c)\n",
    "# Population size\n",
    "N = 3000\n",
    "\n",
    "# Initial conditions: 1 Infected, no Recovered individuals\n",
    "I0, R0, D0 = 7, 0, 0 #case zero\n",
    "\n",
    "S0 = N - I0 - R0 - D0 #normalization\n",
    "\n",
    "# SIRD model (coupled nonlinear system of ODEs)\n",
    "def deriv(y, t, N, beta, gamma,mu):\n",
    "    S, I, R, D = y\n",
    "    dSdt = -beta * S * I / N\n",
    "    dIdt = beta * S * I / N - gamma * I - mu * I\n",
    "    dRdt = gamma * I\n",
    "    dDdt = mu * I\n",
    "    return dSdt, dIdt, dRdt, dDdt\n",
    "\n",
    "# Contact rate, beta; recovery rate, gamma; mortality rate mu\n",
    "R_nought = 4.0\n",
    "mu = 0.01\n",
    "beta = [.1,.7]\n",
    "# at 365 day\n",
    "t = np.linspace(0, 365, 365)\n",
    "\n",
    "# Initial conditions vector\n",
    "y0 = S0, I0, R0, D0\n",
    "\n",
    "# Integrate the SIRD equations over the time grid, t.\n",
    "for  infection_rate in beta:\n",
    "        gamma = (infection_rate/R_nought) - mu\n",
    "        print(\"gamma=\", gamma)\n",
    "        ret = odeint(deriv, y0, t, args=(N, infection_rate, gamma, mu))\n",
    "        S, I, R, D = ret.T # return vector\n",
    "        print(\"Deceased=\", D[-1])"
   ]
  },
  {
   "cell_type": "code",
   "execution_count": null,
   "metadata": {},
   "outputs": [],
   "source": [
    "#\n",
    "\n",
    "R_effctive = R_nought*S/N"
   ]
  }
 ],
 "metadata": {
  "kernelspec": {
   "display_name": "Python 3",
   "language": "python",
   "name": "python3"
  },
  "language_info": {
   "codemirror_mode": {
    "name": "ipython",
    "version": 3
   },
   "file_extension": ".py",
   "mimetype": "text/x-python",
   "name": "python",
   "nbconvert_exporter": "python",
   "pygments_lexer": "ipython3",
   "version": "3.8.3"
  }
 },
 "nbformat": 4,
 "nbformat_minor": 2
}
