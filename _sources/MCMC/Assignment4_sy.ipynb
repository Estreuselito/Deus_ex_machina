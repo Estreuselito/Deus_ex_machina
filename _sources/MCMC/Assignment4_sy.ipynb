{
 "cells": [
  {
   "cell_type": "markdown",
   "metadata": {},
   "source": [
    "Assignment 4 (Due: Wed, May 12, 2021)\n",
    "\n",
    "The devised program estimates robustly, given very noisy and very sparse data of infected and recovered of a past epidemic, the basic reproduction number of the SIR model. To keep computation in limit, we assume gamma=1. The SIR model is implemented in a minimal and optimal way, using scaled variables and a scaled time. Only the ODE part is numerically integrated that needs to be integrated. The noisy number of infected and the number of recovered are highly correlated. This relationship helps MCMC infer the parameters. \n",
    "\n",
    "Get familiar with the commented MCMC code below.\n",
    "\n",
    "Task:\n",
    "Change the program to the SIRD model, by including (D)eaths, with rate $\\mu$. Fix not only $\\gamma=1$ but also $\\beta=2.5$ (or to a higher value of your choice). \n",
    "Infer the death rate $\\mu$, given noisy $S(t)$, $I(t)$, $R(t)$, $D(t)$ input curves.\n",
    "If you want, you can try to optimze the code (optional, very very hard). \n",
    "Also optional is: Does the inference for $\\mu$ work, if $S(t)$ and/or $R(t)$ are not given ?\n",
    "You may use these (initial) conditions/parameters: $$i0 = 0.01, s0 = 0.99, r0 = 0, d0 = 0, f = 3.0, timestep = 0.5.$$\n",
    "You may assume values for the respective $\\sigma$'s (log-normal noises) in the range of $0.2-0.4$, but not lower than $0.1$. Good luck and have fun."
   ]
  },
  {
   "cell_type": "markdown",
   "metadata": {},
   "source": [
    "# Imports"
   ]
  },
  {
   "cell_type": "code",
   "execution_count": 1,
   "metadata": {},
   "outputs": [],
   "source": [
    "# Assignment 4: SIR model, MCMC for R0\n",
    "# Jan Nagler\n",
    "import numpy as np\n",
    "import matplotlib.pyplot as plt\n",
    "%precision 4 \n",
    "%matplotlib inline\n",
    "import pymc3 as pm #install if necessary\n",
    "from pymc3.ode import DifferentialEquation\n",
    "from scipy.integrate import odeint\n",
    "import warnings\n",
    "warnings.filterwarnings(\"ignore\") \n",
    "from warnings import simplefilter\n",
    "# ignore all future warnings\n",
    "simplefilter(action='ignore', category=FutureWarning)\n",
    "np.random.seed(42)"
   ]
  },
  {
   "cell_type": "markdown",
   "metadata": {},
   "source": [
    "# Initialization"
   ]
  },
  {
   "cell_type": "code",
   "execution_count": 2,
   "metadata": {},
   "outputs": [],
   "source": [
    "# Define initial conditions of SIR model\n",
    "i0 = 0.01 #fractions infected at time t0=0 (1%)\n",
    "r0 = 0.00 #fraction of recovered at time t0=0\n",
    "d0 = 0.00 # fraction of dead at time t0=0\n",
    "f = 3.0 # time factor, defines total time window range\n",
    "timestep_data = 0.5 # dt for data (e.g., weekly)\n",
    "times = np.arange(0,5*f,timestep_data) #np.array from 0 to 15 with steps of 0.5\n",
    "#ground truth (fixed gamma=1, then R0=beta, time scale to t/gamma)\n",
    "beta = 2.5\n",
    "#Mortality Rate\n",
    "mu = 0.1"
   ]
  },
  {
   "cell_type": "markdown",
   "metadata": {},
   "source": [
    "### SIR Model Nagler"
   ]
  },
  {
   "cell_type": "code",
   "execution_count": 3,
   "metadata": {},
   "outputs": [],
   "source": [
    "# ODE SIR system, only parameter p[0]=R0, for scaled time t/gamma (optimized, and 1=gamma)\n",
    "def SIR(y, t, p):\n",
    "    #ds = -p[0]*y[0]*y[1] # we do not need susceptibles as S=1-I-R is determ dependent on i and r\n",
    "    #dr = y[1] #component 0 = recovered, gamma=1 (will be returned directly)\n",
    "    di = p[0]*(1-y[0]-y[1])*y[1] - y[1] #component 1 = infected, gamma=1 (SIR in one line)\n",
    "    return [y[1], di] # return r(ecov) and i(nfect)"
   ]
  },
  {
   "cell_type": "code",
   "execution_count": 4,
   "metadata": {},
   "outputs": [],
   "source": [
    "# Create SIR curves\n",
    "y = odeint(SIR, t=times, y0=[r0, i0], args=([beta],), rtol=1e-8) # r0 recovered, i0 infected  at t0\n",
    "\n",
    "# Observational model for muliplicative noise\n",
    "yobs = np.random.lognormal(mean=np.log(y[1::]), sigma=[0.20, 0.60]) # noise is multiplicative (makes sense here)\n",
    "#yobs = np.random.normal(loc=(y[1::]), scale=[0.030, 0.060]) # noise is additive (wrong here)"
   ]
  },
  {
   "cell_type": "code",
   "execution_count": 5,
   "metadata": {},
   "outputs": [
    {
     "data": {
      "image/png": "[encoded data removed]",
      "text/plain": [
       "<Figure size 432x288 with 1 Axes>"
      ]
     },
     "metadata": {
      "needs_background": "light"
     },
     "output_type": "display_data"
    }
   ],
   "source": [
    "# Plotting\n",
    "# Plot the deterministic curves, and those with multiplicative noise\n",
    "plt.plot(times[1::],yobs, marker='o', linestyle='none')\n",
    "plt.plot(times, y[:,0], color='C0', alpha=0.5, label=f'$R(t)$')\n",
    "plt.plot(times, y[:,1], color ='C1', alpha=0.5, label=f'$I(t)$')\n",
    "plt.legend()\n",
    "plt.show()"
   ]
  },
  {
   "cell_type": "markdown",
   "metadata": {},
   "source": [
    "### SIRD Model"
   ]
  },
  {
   "cell_type": "code",
   "execution_count": 6,
   "metadata": {},
   "outputs": [],
   "source": [
    "def SIRD(y, t, beta, mu):\n",
    "    \"\"\"\"This function alters the SIR model from Epidemiology in order to incorporate the deaths \n",
    "    caused by the disease.\n",
    "    \n",
    "    Parameters:\n",
    "    ----------\n",
    "    y: np.array\n",
    "        This array contains the initial values of r0, i0 an d0. The parameter r0 represents the fraction of \n",
    "        recovered people at time t0=0, whereas i0 and d0 representes the fraction of infected and dead \n",
    "        people at time t0=0 .\n",
    "    t: np.array\n",
    "        This array contains the points in time, where i0, r0 and d0 are modelled.\n",
    "    beta: float\n",
    "        The contact rate, more specifically the number of lengthy\n",
    "        contacts a person has per day.\n",
    "    mu: float\n",
    "        The mortaltiy rate.\n",
    "    \"\"\"\n",
    "    # Unpack y to Initial values for the recovered, infected and dead\n",
    "    R, I, D = y\n",
    "    # Calculate S\n",
    "    S = 1 - R - I - D\n",
    "    # Gamma is set to equal 1\n",
    "    gamma = 1 \n",
    "    # Change of Infections\n",
    "    dIdt = beta[0] * S * I - gamma * I - mu * I\n",
    "    # Change in Recovered\n",
    "    dRdt = gamma * I\n",
    "    # Change in Deaths\n",
    "    dDdt = mu * I\n",
    "    # Return Recovered, Infected and Death\n",
    "    return [dRdt, dIdt, dDdt]"
   ]
  },
  {
   "cell_type": "code",
   "execution_count": 7,
   "metadata": {},
   "outputs": [],
   "source": [
    "# Create SIRD curves\n",
    "y = odeint(SIRD, t=times, y0=[r0, i0, d0], args=([beta],mu), rtol=1e-8) # r0 recovered, i0 infected  at t0\n",
    "\n",
    "# Observational model for muliplicative noise\n",
    "sigma_R = 0.20\n",
    "sigma_I = 0.30\n",
    "sigma_D = 0.40\n",
    "sigma = [sigma_R, sigma_I, sigma_D]\n",
    "yobs = np.random.lognormal(mean=np.log(y[1::]), sigma=sigma) # noise is multiplicative (makes sense here)\n",
    "#yobs = np.random.normal(loc=(y[1::]), scale=[0.030, 0.060]) # noise is additive (wrong here)"
   ]
  },
  {
   "cell_type": "code",
   "execution_count": 8,
   "metadata": {},
   "outputs": [
    {
     "data": {
      "image/png": "[encoded data removed]",
      "text/plain": [
       "<Figure size 432x288 with 1 Axes>"
      ]
     },
     "metadata": {
      "needs_background": "light"
     },
     "output_type": "display_data"
    }
   ],
   "source": [
    "# Plotting\n",
    "# Plot the deterministic curves, and those with multiplicative noise\n",
    "plt.plot(times[1::],yobs, marker='o', linestyle='none')\n",
    "plt.plot(times, y[:,0], color='C0', alpha=0.5, label=f'$R(t)$')\n",
    "plt.plot(times, y[:,1], color ='C1', alpha=0.5, label=f'$I(t)$')\n",
    "plt.plot(times, y[:,2], color ='C2', alpha=0.5, label=f'$D(t)$')\n",
    "plt.title('$beta$: ' + str(beta) + ' $\\mu$: ' + str(mu) + ' $\\sigma_R$: ' + str(sigma[0]) + ' $\\sigma_I$: ' +str(sigma[1]) + ' $\\sigma_D$: ' +str(sigma[2]))\n",
    "plt.legend()\n",
    "plt.show()"
   ]
  },
  {
   "cell_type": "markdown",
   "metadata": {},
   "source": [
    "## MCMC"
   ]
  },
  {
   "cell_type": "code",
   "execution_count": 28,
   "metadata": {},
   "outputs": [
    {
     "ename": "TypeError",
     "evalue": "__init__() got an unexpected keyword argument 'mu'",
     "output_type": "error",
     "traceback": [
      "\u001b[0;31m---------------------------------------------------------------------------\u001b[0m",
      "\u001b[0;31mTypeError\u001b[0m                                 Traceback (most recent call last)",
      "\u001b[0;32m<ipython-input-28-7643540b8655>\u001b[0m in \u001b[0;36m<module>\u001b[0;34m\u001b[0m\n\u001b[1;32m      1\u001b[0m \u001b[0;31m# ODE system container\u001b[0m\u001b[0;34m\u001b[0m\u001b[0;34m\u001b[0m\u001b[0;34m\u001b[0m\u001b[0m\n\u001b[0;32m----> 2\u001b[0;31m sird_model = DifferentialEquation(\n\u001b[0m\u001b[1;32m      3\u001b[0m     \u001b[0mfunc\u001b[0m \u001b[0;34m=\u001b[0m \u001b[0mSIRD\u001b[0m\u001b[0;34m,\u001b[0m\u001b[0;34m\u001b[0m\u001b[0;34m\u001b[0m\u001b[0m\n\u001b[1;32m      4\u001b[0m     \u001b[0mtimes\u001b[0m \u001b[0;34m=\u001b[0m \u001b[0mnp\u001b[0m\u001b[0;34m.\u001b[0m\u001b[0marange\u001b[0m\u001b[0;34m(\u001b[0m\u001b[0mtimestep_data\u001b[0m\u001b[0;34m,\u001b[0m\u001b[0;36m5\u001b[0m\u001b[0;34m*\u001b[0m\u001b[0mf\u001b[0m\u001b[0;34m,\u001b[0m\u001b[0mtimestep_data\u001b[0m\u001b[0;34m)\u001b[0m\u001b[0;34m,\u001b[0m\u001b[0;31m#start at t=t_1 (and not t0=0, where log(R=0)=undef)\u001b[0m\u001b[0;34m\u001b[0m\u001b[0;34m\u001b[0m\u001b[0m\n\u001b[1;32m      5\u001b[0m     \u001b[0mmu\u001b[0m \u001b[0;34m=\u001b[0m \u001b[0;36m0.1\u001b[0m\u001b[0;34m,\u001b[0m\u001b[0;34m\u001b[0m\u001b[0;34m\u001b[0m\u001b[0m\n",
      "\u001b[0;31mTypeError\u001b[0m: __init__() got an unexpected keyword argument 'mu'"
     ]
    }
   ],
   "source": [
    "# ODE system container\n",
    "sird_model = DifferentialEquation(\n",
    "    func = SIRD,\n",
    "    times = np.arange(timestep_data,5*f,timestep_data),#start at t=t_1 (and not t0=0, where log(R=0)=undef)\n",
    "    mu = 0.1,\n",
    "    n_states = 3, #r(ecovered) and i(nfected) and d(ead) are states\n",
    "    n_theta = 2, # beta=R0 and mu only parameter\n",
    "    t0 = 0 # start from zero\n",
    ")\n",
    "\n",
    "# Define and perform MCMC\n",
    "with pm.Model() as basic_model:\n",
    "\n",
    "    # Distribution of variances, sigma[0] and sigma[1], some good choice, pos. chauchy  \n",
    "    sigma = pm.HalfCauchy( 'sigma', 1, shape=2 )\n",
    "\n",
    "    # Prior: R0 is bounded from below (lower=1), (R0, mu=2, sigma=3)\n",
    "    R0 = pm.Bound(pm.Normal, lower=1)( 'R0', 2, 3 ) # guess of how R0 distribution looks like = Guassian, mean>1\n",
    "    \n",
    "    # Our deterministic curves\n",
    "    sir_curves = sird_model( y0=[r0, i0, d0], theta=[R0, mu] ) # assume gamma = 1, then beta=R0\n",
    "\n",
    "    # Likelihood function choice: our sampling distribution for multiplicative noise around the I and R curves\n",
    "    Y = pm.Lognormal('Y', mu=pm.math.log(sir_curves), sd=sigma, observed=yobs) # variances via sigmas, data=yobs\n",
    "    \n",
    "    start = pm.find_MAP()\n",
    "    \n",
    "    step = pm.NUTS()\n",
    "    \n",
    "    trace = pm.sample(400, step=step, random_seed=44)\n",
    "\n",
    "# Plot results (takes a while, be patient)\n",
    "pm.traceplot(trace)\n",
    "pm.summary(trace).round(2)"
   ]
  },
  {
   "cell_type": "code",
   "execution_count": 25,
   "metadata": {},
   "outputs": [
    {
     "ename": "NameError",
     "evalue": "name 'trace' is not defined",
     "output_type": "error",
     "traceback": [
      "\u001b[0;31m---------------------------------------------------------------------------\u001b[0m",
      "\u001b[0;31mNameError\u001b[0m                                 Traceback (most recent call last)",
      "\u001b[0;32m<ipython-input-25-e736550328e6>\u001b[0m in \u001b[0;36m<module>\u001b[0;34m\u001b[0m\n\u001b[0;32m----> 1\u001b[0;31m \u001b[0mpm\u001b[0m\u001b[0;34m.\u001b[0m\u001b[0mpairplot\u001b[0m\u001b[0;34m(\u001b[0m\u001b[0mtrace\u001b[0m\u001b[0;34m)\u001b[0m\u001b[0;34m\u001b[0m\u001b[0;34m\u001b[0m\u001b[0m\n\u001b[0m",
      "\u001b[0;31mNameError\u001b[0m: name 'trace' is not defined"
     ]
    }
   ],
   "source": [
    "pm.pairplot(trace)"
   ]
  },
  {
   "cell_type": "code",
   "execution_count": null,
   "metadata": {},
   "outputs": [],
   "source": []
  }
 ],
 "metadata": {
  "kernelspec": {
   "display_name": "Python 3",
   "language": "python",
   "name": "python3"
  },
  "language_info": {
   "codemirror_mode": {
    "name": "ipython",
    "version": 3
   },
   "file_extension": ".py",
   "mimetype": "text/x-python",
   "name": "python",
   "nbconvert_exporter": "python",
   "pygments_lexer": "ipython3",
   "version": "3.9.4"
  }
 },
 "nbformat": 4,
 "nbformat_minor": 2
}
