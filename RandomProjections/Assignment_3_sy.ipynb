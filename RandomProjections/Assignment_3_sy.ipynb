{
 "cells": [
  {
   "cell_type": "markdown",
   "metadata": {},
   "source": [
    "# Task\n",
    "Based on the program developed in the lecture (SparseRandomProjections), analyze 2 databases of your choice (but not exactly the same digits data as in the lecture) using random projections.\n",
    "Study the accuracy (or a score of your choice that makes most sense for your data) as a function of the number of dimensions / features that survived the random projection.\n",
    "Try to avoid a zick-zack curve below or around the baseline accuracy curve as your final result for both datasets. At least for one dataset the score is expected to be a smooth-ish curve as a function of the kept number of features. Provide a take-home statement and explain every step.\n",
    "You will find that data that is embedded in Eukledian spaces (such as digits) may be more appropriate than data for which Eukledian distances are not an excellent distance measure."
   ]
  },
  {
   "cell_type": "code",
   "execution_count": 2,
   "metadata": {},
   "outputs": [],
   "source": [
    "## Random projections of high-dimensional data\n",
    "from sklearn.random_projection import johnson_lindenstrauss_min_dim\n",
    "from sklearn.random_projection import SparseRandomProjection\n",
    "from sklearn.svm import LinearSVC\n",
    "from sklearn.svm import SVC\n",
    "from sklearn.model_selection import train_test_split\n",
    "from sklearn import metrics\n",
    "from sklearn import datasets\n",
    "\n",
    "import warnings\n",
    "warnings.filterwarnings('ignore') # works\n",
    "\n",
    "import matplotlib.pyplot as plt\n",
    "%matplotlib inline\n",
    "import numpy as np\n",
    "import pandas as pd\n",
    "from sklearn.preprocessing import StandardScaler\n",
    "from sklearn.model_selection import GridSearchCV"
   ]
  },
  {
   "cell_type": "markdown",
   "metadata": {},
   "source": [
    "# Concept of Johnson-Lindenstrauss"
   ]
  },
  {
   "cell_type": "markdown",
   "metadata": {},
   "source": [
    "The minimum number of components to guarantee the eps-embedding is given by:\n",
    "\n",
    "$$\n",
    "n\\_components >= \\frac{4 * log(n\\_samples)}{(\\frac{\\epsilon^2}{2} - \\frac{\\epsilon^3}{3})}\n",
    "$$"
   ]
  },
  {
   "cell_type": "markdown",
   "metadata": {},
   "source": [
    "# Implementation of Random Projections"
   ]
  },
  {
   "cell_type": "code",
   "execution_count": 41,
   "metadata": {},
   "outputs": [],
   "source": [
    "def random_projection (classifier, dataset, eps, metric, average):\n",
    "    # Data Cleaning - Drop n/a\n",
    "    data = dataset.dropna()\n",
    "    \n",
    "    # Split Data and Target\n",
    "    X, y = data.iloc[:, :-1], data.iloc[:, -1]\n",
    "    \n",
    "    # Perfom train and test split\n",
    "    X_train, X_test, y_train, y_test = train_test_split(X, y, test_size = 0.3, random_state = 0)\n",
    "    \n",
    "    # Standardize the Data\n",
    "    sc = StandardScaler()\n",
    "    X_train = sc.fit_transform(X_train)\n",
    "    X_test = sc.transform(X_test)\n",
    "    \n",
    "    #######################################################################\n",
    "    # Concept of Johnson-Lindenstrauss\n",
    "    n = data.shape[0]\n",
    "    # Print what the theory says for k, given an eps(ilon)\n",
    "    print (\"Professors Johnson and Lindenstrauss say: k >=\", johnson_lindenstrauss_min_dim(n,eps=eps))\n",
    "    \n",
    "    #######################################################################\n",
    "    # Classification\n",
    "    # Initialize the model\n",
    "    model = classifier\n",
    "\n",
    "    # Train the Model\n",
    "    model.fit(X_train, y_train)\n",
    "\n",
    "    # Determine the baseline Score\n",
    "    if metric == 'Accuracy': \n",
    "        baseline = metrics.accuracy_score(model.predict(X_test), y_test)\n",
    "    else:\n",
    "        baseline = metrics.f1_score(model.predict(X_test), y_test, average = average)\n",
    "\n",
    "    # Create empty list to store the performance results\n",
    "    results = []\n",
    "\n",
    "    # determine the number of features in the dataset\n",
    "    m = data.shape[1]\n",
    "    \n",
    "    # Create an evenly spaced list\n",
    "    dims = np.int32(np.linspace(2, m, int(m/3)))\n",
    "    \n",
    "    # Loop over the projection sizes, k\n",
    "    for dim in dims:\n",
    "        # Create random projection\n",
    "        sp = SparseRandomProjection(n_components = dim)\n",
    "        X_train_transformed = sp.fit_transform(X_train)\n",
    "\n",
    "        # Train classifier of your choice on the sparse random projection\n",
    "        model = classifier\n",
    "        model.fit(X_train_transformed, y_train)\n",
    "\n",
    "        # Evaluate model and update accuracies\n",
    "        X_test_transformed = sp.transform(X_test)\n",
    "        if metric == 'Accuracy': \n",
    "            results.append(metrics.accuracy_score(model.predict(X_test_transformed), y_test))\n",
    "        else:\n",
    "            results.append(metrics.f1_score(model.predict(X_test_transformed), y_test, average = average))\n",
    "\n",
    "    #######################################################################\n",
    "    # Plotting\n",
    "    # Create figure\n",
    "    plt.figure()\n",
    "    plt.title('Classifier: ' + str(classifier))\n",
    "    plt.xlabel(\"# of dimensions k\")\n",
    "    plt.ylabel(metric)\n",
    "    plt.xlim([2, m])\n",
    "    plt.ylim([0, 1])\n",
    " \n",
    "    # Plot baseline and random projection accuracies\n",
    "    plt.plot(dims, [baseline] * len(results), color = \"r\")\n",
    "    plt.plot(dims, results)\n",
    "\n",
    "    plt.show()"
   ]
  },
  {
   "cell_type": "markdown",
   "metadata": {},
   "source": [
    "### Application and Analysis"
   ]
  },
  {
   "cell_type": "markdown",
   "metadata": {},
   "source": [
    "URLs for Different Datasets:\n",
    "\n",
    "**Wine Quality (Red):**\n",
    "https://archive.ics.uci.edu/ml/machine-learning-databases/wine-quality/winequality-red.csv  \n",
    "**Default of credit card clients:**\n",
    "https://archive.ics.uci.edu/ml/machine-learning-databases/00350/default%20of%20credit%20card%20clients.xls"
   ]
  },
  {
   "cell_type": "code",
   "execution_count": 48,
   "metadata": {},
   "outputs": [
    {
     "name": "stdout",
     "output_type": "stream",
     "text": [
      "The class label frequency is:\n",
      " 0    23364\n",
      "1     6636\n",
      "Name: default payment next month, dtype: int64\n",
      "The shape of the dataset is:\n",
      " (30000, 25)\n"
     ]
    }
   ],
   "source": [
    "# load dataset\n",
    "data_url = 'https://archive.ics.uci.edu/ml/machine-learning-databases/00350/default%20of%20credit%20card%20clients.xls'\n",
    "\n",
    "if data_url[-4:] == '.csv':\n",
    "    df_dataset = pd.read_csv(data_url, sep=';')\n",
    "if data_url[-4:] == '.xls':\n",
    "    df_dataset = pd.read_excel(data_url, header = 1) # header = 1 to indicate that the first row is the column name\n",
    "\n",
    "print('The class label frequency is:\\n', df_dataset.iloc[:, -1].value_counts())\n",
    "\n",
    "print('The shape of the dataset is:\\n', df_dataset.shape)"
   ]
  },
  {
   "cell_type": "code",
   "execution_count": 59,
   "metadata": {},
   "outputs": [
    {
     "name": "stdout",
     "output_type": "stream",
     "text": [
      "Professors Johnson and Lindenstrauss say: k >= 7300\n"
     ]
    },
    {
     "data": {
      "image/png": "[encoded data removed]",
      "text/plain": [
       "<Figure size 432x288 with 1 Axes>"
      ]
     },
     "metadata": {
      "needs_background": "light"
     },
     "output_type": "display_data"
    }
   ],
   "source": [
    "# Determine Classifier\n",
    "classifier = SVC(kernel='rbf', random_state = 0)\n",
    "\n",
    "# Determine eps\n",
    "eps = 0.1\n",
    "\n",
    "# Determine performance metric\n",
    "metric = 'f1'\n",
    "\n",
    "# Determine average for score evaluation\n",
    "# for binary classification use 'binary', for mutliclass use 'weighted'\n",
    "average = 'binary'\n",
    "\n",
    "# Call function\n",
    "random_projection(classifier, df_dataset[:5000], eps, metric, average)"
   ]
  },
  {
   "cell_type": "markdown",
   "metadata": {},
   "source": [
    "# <span style=\"color:red\"> Old Code for GridSearchCV - To be deleted if not needed at a later stage </span>"
   ]
  },
  {
   "cell_type": "code",
   "execution_count": null,
   "metadata": {},
   "outputs": [],
   "source": [
    "def preprocessing (dataset):\n",
    "    # Data Cleaning - Drop n/a\n",
    "    data = dataset.dropna()\n",
    "    \n",
    "    # Split Data and Target\n",
    "    X, y = data.iloc[:, :-1], data.iloc[:, -1]\n",
    "    \n",
    "    # Perfom train and test split\n",
    "    X_train, X_test, y_train, y_test = train_test_split(X, y, test_size = 0.3, random_state = 0)\n",
    "    \n",
    "    # Standardize the Data\n",
    "    sc = StandardScaler()\n",
    "    X_train = sc.fit_transform(X_train)\n",
    "    X_test = sc.transform(X_test)\n",
    "    \n",
    "    return X_train, X_test, y_train, y_test"
   ]
  },
  {
   "cell_type": "markdown",
   "metadata": {},
   "source": [
    "## Initial GridSearch to find best parameters"
   ]
  },
  {
   "cell_type": "code",
   "execution_count": null,
   "metadata": {},
   "outputs": [],
   "source": [
    "# load dataset\n",
    "df_dataset = pd.read_csv('XXX')\n",
    "\n",
    "# Preprocessing and Train-Test-Split\n",
    "X_train, X_test, y_train, y_test = preprocessing(df_dataset[:10000])\n",
    "\n",
    "# Perform GridSearchCV\n",
    "model = SVC(random_state=0)\n",
    "# param_grid = {'kernel' : ['poly', 'rbf', 'linear', 'sigmoid'],\n",
    "              # 'C' : [1, 10, 25, 50, 75, 100]}\n",
    "              # 'gamma' : [0.01, 0.1, 1],\n",
    "              # 'degree' : [2, 3, 4, 5, 6, 7]}\n",
    "            \n",
    "param_grid = {'kernel' : ['poly', 'rbf'],\n",
    "              'C' : [1, 10, 25, 50, 75, 100]}\n",
    "              # 'gamma' : [0.01, 0.1, 1],\n",
    "              # 'degree' : [2, 3, 4, 5, 6, 7]}\n",
    "\n",
    "scoring = {'f1' : 'f1'}\n",
    "\n",
    "CV_model = GridSearchCV(estimator=model, param_grid=param_grid, scoring = scoring, refit = 'f1', cv=5)\n",
    "\n",
    "CV_model.fit(X_train, y_train)\n",
    "\n",
    "best_params = CV_model.best_params_\n",
    "print('Best Parameters:\\n', best_params)"
   ]
  },
  {
   "cell_type": "code",
   "execution_count": null,
   "metadata": {},
   "outputs": [],
   "source": []
  }
 ],
 "metadata": {
  "kernelspec": {
   "display_name": "Python 3",
   "language": "python",
   "name": "python3"
  },
  "language_info": {
   "codemirror_mode": {
    "name": "ipython",
    "version": 3
   },
   "file_extension": ".py",
   "mimetype": "text/x-python",
   "name": "python",
   "nbconvert_exporter": "python",
   "pygments_lexer": "ipython3",
   "version": "3.8.3"
  }
 },
 "nbformat": 4,
 "nbformat_minor": 2
}
