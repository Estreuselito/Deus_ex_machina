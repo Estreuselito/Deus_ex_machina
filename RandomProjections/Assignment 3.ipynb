{
 "cells": [
  {
   "cell_type": "markdown",
   "id": "2f15b42a",
   "metadata": {},
   "source": [
    "\\begin{titlepage}\n",
    "\n",
    "% Photo of FS\n",
    "\\centering\n",
    "\\vspace{-40pt}\n",
    "\\includegraphics[width=0.8\\textwidth]{Frankfurt_School_Logo.jpg}\\par\n",
    "\\vspace{2.5cm}\n",
    "\n",
    "% Course\n",
    "{\\scshape\\huge Assignment 3 \\par}\n",
    "\\vspace{2.5cm}\n",
    "\n",
    "% Title\n",
    "{\\Huge\\bfseries Sparse Random Projection \\par}\n",
    "{\\scshape\\large Jan's birthday edition \\par}\n",
    "\n",
    "\\vspace{2cm} % If signature is taken might have to add space.\n",
    "\n",
    "\n",
    "{\\Large Yannik Suhre \\par}\n",
    "{\\Large Skyler MacGowan \\par}\n",
    "{\\Large Debasmita Dutta \\par}\n",
    "{\\Large Sebastian Sydow \\par}\n",
    "\\vspace{0.5cm}\n",
    "\n",
    "% Date\n",
    "\\vfill\n",
    "{\\large \\today\\par}\n",
    "\\end{titlepage}\n",
    "\n",
    "\n",
    "\\newpage\n",
    "\n",
    "\\hypersetup{linkcolor=black}\n",
    "\\tableofcontents\n",
    "\n",
    "\\newpage"
   ]
  },
  {
   "cell_type": "markdown",
   "id": "5c74575a",
   "metadata": {},
   "source": [
    "# The Johnson-Lindenstrauss Lemma\n",
    "The Johnson-Lindenstrauss (JL) Lemma is the math behind Euclidean Distance/Space; it is what proves the “*approximate maintenance of distance between the data points in different dimensions*” property to be true. The lemma states that a small set of points in a high-dimensional space can be embedded into a space of much lower dimension in such a way that distances between the points are nearly preserved. The function `johnson_lindenstrauss_min_dim` of [scikit-learn](https://scikit-learn.org/stable/modules/generated/sklearn.random_projection.johnson_lindenstrauss_min_dim.html)\n",
    "calculates the  minimum number of components $k$, i.e. the number of dimensions in which distances between \n",
    "the points are nearly preserved, by the following formula:\n",
    "\n",
    "\\begin{equation}\n",
    "k >= \\frac{4 * log(n\\_samples)} {(\\frac{\\epsilon^2}{2} - \\frac{\\epsilon^3}{3})}\n",
    "\\end{equation}\n",
    "\n",
    "Nevertheless, this only holds if the correct $k$ dimensions are chosen and not just any $k$ dimensions.\n",
    "\n",
    "The following outlines the key components of the JL Lemma and what they represent. \n",
    "\n",
    "- $k$: This represents the minimum number of dimensions to which the dataset can be reduced to without a substantive decrease in accuracy, down from the original *d* dimensions. This *k* is in effect the result obtained from the JL Lemma formula, based on the parameters provided thereto. \n",
    "- $\\epsilon$: This represents the error term. Namely, in the context of conducting random projections in Euclidean space it is the **approximate** distance that is maintained, i.e. there is some error involved during this process. Naturally, that error could result in either an increase or a decrease in the distance, which is portrayed by the inequality below. In this inequality, 1 represents the original distance, $\\epsilon$ represents the error the user is willing to accept (range from 0 to 1, with lower values indicating a lower tolerance for error), the superscript indicates that this inequality applies to Euclidean Space (and hence the L2 norm), the distance of the transformed vectors is portrayed by the middle term ($f(x_i) - f(x_j)$), while the outer terms represent the two possible boundaries, i.e. that the new distance is somewhat smaller or greater by $\\epsilon$ than the original distance.\n",
    "\n",
    "\\begin{equation}\n",
    "(1 - \\epsilon) ||x_i - x_j||^2_2 \\leq ||f(x_i) - f(x_j)||^2_2 \\leq (1 + \\epsilon) ||x_i - x_j||^2_2\n",
    "\\end{equation}\n",
    "\n",
    "- $n\\_samples$: This refers to the number of observations in the dataset.\n",
    "\n",
    "**Note**: The number of dimensions is independent of the original number of features but instead depends on the size of the dataset: the larger the dataset, the higher is the minimal dimensionality of an $\\epsilon$-embedding.\n",
    "\n",
    "**Note**: In the context of dimensionality reduction, random projections are typically used when one is unable to reliably calculate the covariance matrix (due to data sparsity for example), whereas when the covariance can be reliably calculated then **P**rincipal **C**omponent **A**nalysis (PCA) is used. Both PCA and random projections require the dataset to be in Euclidean Space in order to function properly (more on Euclidean Space below). PCA is computionally more expensive which also factors into the choice of dimensionalty reduction method selected."
   ]
  },
  {
   "cell_type": "markdown",
   "id": "be3ddbe5",
   "metadata": {},
   "source": [
    "# Euclidean Space/Data\n",
    "\n",
    "When a given dataset is said to be in \"Euclidean Space\", that means that the distance between the observations in the dataset is linearly defined. Essentially, you can draw a line between each vector pair, and this line represents the distance between each pair. Distance, in turn, is a measure of similarity, with lesser distances indicating greater similarity and vice versa. \n",
    "\n",
    "How is one to know whether a given dataset is in Euclidean Space? Well essentially anything embedded in physical space could reliaby said to be in Euclidean Space, because in such circumstances one can draw a line between two points and trust that that accurately represents the distance or similarity between them. In a geographical context for example, the distance *as the crow flies* between the Frankfurt School to the Abdeen Palace Museum in Cairo is 2,922.37 km whereas that between the Frankfurt School and the Church of the Holy Sepulchre in Jerusalem is 2,993.46 km; these are examples of euclidean distances, and from them we can determine that Frankfurt School is 71.12 km closer to the Abdeen Palace Museum than it is to the Church of the Holy Sepulchre. "
   ]
  },
  {
   "cell_type": "markdown",
   "id": "940fbb1a",
   "metadata": {},
   "source": [
    "# Non-Euclidean Space/Data\n",
    "\n",
    "In Non-Euclidean Space, the \"linearity\" property described above in reference to Euclidean space does not hold; one cannot simply draw a line between the constituent vector pairs and trust that this is an accurate measure of the similarity thereof (it isn't). Instead, in non-euclidean spaces the degree of similarity of the vectors should be measured using another (non-linear) scale, e.g. logarithmic, exponential, etc. \n",
    "\n",
    "For example, we define the loudness of a given sound via the decibel (dB) measure. In this measure, an increase of three decibels corresponds to a doubling of the overall loudness. Another fairly well-known example would be the moment-magnitude scale, which is the principal measure now used when assessing the strength and destructive potential of earthquakes. This scale goes from one to ten, with each step representing a 32 times larger release of energy than the preceeding step. For example, a 8.0 earthquake (\"Great\", occurs roughly once a year) releases 31,623 times as much energy as does a 5.0 earthquake (\"Moderate\", occurs roughly 1250 times per year).\n",
    "\n",
    "United States Geographical Survey Earthquake Magnitude Comparison Calculator: https://earthquake.usgs.gov/education/calculator.php"
   ]
  },
  {
   "cell_type": "code",
   "execution_count": 1,
   "id": "989b670a",
   "metadata": {},
   "outputs": [],
   "source": [
    "# Group 10 - Skyler MacGowan, Sebastian Sydow, Debasmita Dutta, Yannik Suhre\n",
    "from sklearn.svm import LinearSVC, SVC\n",
    "from RandomProjectionClass import RandomSparseRepresentation\n",
    "import matplotlib.pyplot as plt\n",
    "\n",
    "%matplotlib inline\n",
    "\n",
    "import warnings\n",
    "warnings.filterwarnings('ignore')"
   ]
  },
  {
   "cell_type": "markdown",
   "id": "e21487dd",
   "metadata": {},
   "source": [
    "# Introduction to the Datasets\n",
    "\n",
    "For this assignment, two datasets from the [UCI Machine Learning Repository](https://archive.ics.uci.edu/ml/index.php.) were chosen. Below is an overview of these datasets.  \n",
    "\n",
    "## Classification of Frogs\n",
    "The dataset is used to classify the species of frogs. As the dataset encompasses ten different classes, i.e. `Species`, it is a multi-class classification. The dataset contains 7,195 observations and 23 features, one of which is the target-feature (`Species`, after deleting the columns `Family`, `Genus` and `RecordID`). It is an imbalanced dataset, as some classes are much more frequent than others. Thus, the performance of the classifier will be evaluated using the `f1_score` with the parameter settings `average = weighted`. This dataset is already standardized.  \n",
    "\n",
    "Data Source: https://archive.ics.uci.edu/ml/datasets/Anuran+Calls+%28MFCCs%29\n",
    "\n",
    "## Classification of Dry Beans  \n",
    "The dataset is used to classify dry beans into seven different classes; it is a multi-class classification. The dataset contains 13,611 observations and 17 features, one of which is the target-feature (`Class`).As with the first dataset, the performance of the classifier will be evaluated using the `f1_score` with the parameter settings `average = weighted` as this dataset is also imbalanced. This dataset is not yet standardized.\n",
    "\n",
    "Data Source: https://archive.ics.uci.edu/ml/datasets/Dry+Bean+Dataset"
   ]
  },
  {
   "cell_type": "code",
   "execution_count": 2,
   "id": "4f81d366",
   "metadata": {},
   "outputs": [
    {
     "data": {
      "text/markdown": [
       "\n",
       "# Welcome to the interface of **RandomSparseRepresentation**!\n",
       "        \n",
       "You have now instantiated an object, with which you can create a RandomSparseRepresentation.\n",
       "The function ```get_data()``` retrieves the data, which was previously downloaded from the sources outlined above."
      ],
      "text/plain": [
       "<IPython.core.display.Markdown object>"
      ]
     },
     "metadata": {},
     "output_type": "display_data"
    }
   ],
   "source": [
    "data = RandomSparseRepresentation(birthday_version=False)"
   ]
  },
  {
   "cell_type": "code",
   "execution_count": 3,
   "id": "adea2d4c",
   "metadata": {},
   "outputs": [
    {
     "data": {
      "text/markdown": [
       "You successfully loaded your dataset to the object!\n",
       "\n",
       "Now we can go ahead and split the data.\n",
       "Please call the `split_data()` function for it. You can pass it the `test_size` parameter, to split your\n",
       "data into test and train sets, the default value is `0.3`. Here are the first 5 rows of our data:"
      ],
      "text/plain": [
       "<IPython.core.display.Markdown object>"
      ]
     },
     "metadata": {},
     "output_type": "display_data"
    },
    {
     "data": {
      "text/html": [
       "<div>\n",
       "<style scoped>\n",
       "    .dataframe tbody tr th:only-of-type {\n",
       "        vertical-align: middle;\n",
       "    }\n",
       "\n",
       "    .dataframe tbody tr th {\n",
       "        vertical-align: top;\n",
       "    }\n",
       "\n",
       "    .dataframe thead th {\n",
       "        text-align: right;\n",
       "    }\n",
       "</style>\n",
       "<table border=\"1\" class=\"dataframe\">\n",
       "  <thead>\n",
       "    <tr style=\"text-align: right;\">\n",
       "      <th></th>\n",
       "      <th>MFCCs_ 1</th>\n",
       "      <th>MFCCs_ 2</th>\n",
       "      <th>MFCCs_ 3</th>\n",
       "      <th>MFCCs_ 4</th>\n",
       "      <th>MFCCs_ 5</th>\n",
       "      <th>MFCCs_ 6</th>\n",
       "      <th>MFCCs_ 7</th>\n",
       "      <th>MFCCs_ 8</th>\n",
       "      <th>MFCCs_ 9</th>\n",
       "      <th>MFCCs_10</th>\n",
       "      <th>...</th>\n",
       "      <th>MFCCs_17</th>\n",
       "      <th>MFCCs_18</th>\n",
       "      <th>MFCCs_19</th>\n",
       "      <th>MFCCs_20</th>\n",
       "      <th>MFCCs_21</th>\n",
       "      <th>MFCCs_22</th>\n",
       "      <th>Family</th>\n",
       "      <th>Genus</th>\n",
       "      <th>Species</th>\n",
       "      <th>RecordID</th>\n",
       "    </tr>\n",
       "  </thead>\n",
       "  <tbody>\n",
       "    <tr>\n",
       "      <th>0</th>\n",
       "      <td>1.0</td>\n",
       "      <td>0.152936</td>\n",
       "      <td>-0.105586</td>\n",
       "      <td>0.200722</td>\n",
       "      <td>0.317201</td>\n",
       "      <td>0.260764</td>\n",
       "      <td>0.100945</td>\n",
       "      <td>-0.150063</td>\n",
       "      <td>-0.171128</td>\n",
       "      <td>0.124676</td>\n",
       "      <td>...</td>\n",
       "      <td>-0.108351</td>\n",
       "      <td>-0.077623</td>\n",
       "      <td>-0.009568</td>\n",
       "      <td>0.057684</td>\n",
       "      <td>0.118680</td>\n",
       "      <td>0.014038</td>\n",
       "      <td>Leptodactylidae</td>\n",
       "      <td>Adenomera</td>\n",
       "      <td>AdenomeraAndre</td>\n",
       "      <td>1</td>\n",
       "    </tr>\n",
       "    <tr>\n",
       "      <th>1</th>\n",
       "      <td>1.0</td>\n",
       "      <td>0.171534</td>\n",
       "      <td>-0.098975</td>\n",
       "      <td>0.268425</td>\n",
       "      <td>0.338672</td>\n",
       "      <td>0.268353</td>\n",
       "      <td>0.060835</td>\n",
       "      <td>-0.222475</td>\n",
       "      <td>-0.207693</td>\n",
       "      <td>0.170883</td>\n",
       "      <td>...</td>\n",
       "      <td>-0.090974</td>\n",
       "      <td>-0.056510</td>\n",
       "      <td>-0.035303</td>\n",
       "      <td>0.020140</td>\n",
       "      <td>0.082263</td>\n",
       "      <td>0.029056</td>\n",
       "      <td>Leptodactylidae</td>\n",
       "      <td>Adenomera</td>\n",
       "      <td>AdenomeraAndre</td>\n",
       "      <td>1</td>\n",
       "    </tr>\n",
       "    <tr>\n",
       "      <th>2</th>\n",
       "      <td>1.0</td>\n",
       "      <td>0.152317</td>\n",
       "      <td>-0.082973</td>\n",
       "      <td>0.287128</td>\n",
       "      <td>0.276014</td>\n",
       "      <td>0.189867</td>\n",
       "      <td>0.008714</td>\n",
       "      <td>-0.242234</td>\n",
       "      <td>-0.219153</td>\n",
       "      <td>0.232538</td>\n",
       "      <td>...</td>\n",
       "      <td>-0.050691</td>\n",
       "      <td>-0.023590</td>\n",
       "      <td>-0.066722</td>\n",
       "      <td>-0.025083</td>\n",
       "      <td>0.099108</td>\n",
       "      <td>0.077162</td>\n",
       "      <td>Leptodactylidae</td>\n",
       "      <td>Adenomera</td>\n",
       "      <td>AdenomeraAndre</td>\n",
       "      <td>1</td>\n",
       "    </tr>\n",
       "    <tr>\n",
       "      <th>3</th>\n",
       "      <td>1.0</td>\n",
       "      <td>0.224392</td>\n",
       "      <td>0.118985</td>\n",
       "      <td>0.329432</td>\n",
       "      <td>0.372088</td>\n",
       "      <td>0.361005</td>\n",
       "      <td>0.015501</td>\n",
       "      <td>-0.194347</td>\n",
       "      <td>-0.098181</td>\n",
       "      <td>0.270375</td>\n",
       "      <td>...</td>\n",
       "      <td>-0.136009</td>\n",
       "      <td>-0.177037</td>\n",
       "      <td>-0.130498</td>\n",
       "      <td>-0.054766</td>\n",
       "      <td>-0.018691</td>\n",
       "      <td>0.023954</td>\n",
       "      <td>Leptodactylidae</td>\n",
       "      <td>Adenomera</td>\n",
       "      <td>AdenomeraAndre</td>\n",
       "      <td>1</td>\n",
       "    </tr>\n",
       "    <tr>\n",
       "      <th>4</th>\n",
       "      <td>1.0</td>\n",
       "      <td>0.087817</td>\n",
       "      <td>-0.068345</td>\n",
       "      <td>0.306967</td>\n",
       "      <td>0.330923</td>\n",
       "      <td>0.249144</td>\n",
       "      <td>0.006884</td>\n",
       "      <td>-0.265423</td>\n",
       "      <td>-0.172700</td>\n",
       "      <td>0.266434</td>\n",
       "      <td>...</td>\n",
       "      <td>-0.048885</td>\n",
       "      <td>-0.053074</td>\n",
       "      <td>-0.088550</td>\n",
       "      <td>-0.031346</td>\n",
       "      <td>0.108610</td>\n",
       "      <td>0.079244</td>\n",
       "      <td>Leptodactylidae</td>\n",
       "      <td>Adenomera</td>\n",
       "      <td>AdenomeraAndre</td>\n",
       "      <td>1</td>\n",
       "    </tr>\n",
       "  </tbody>\n",
       "</table>\n",
       "<p>5 rows × 26 columns</p>\n",
       "</div>"
      ],
      "text/plain": [
       "   MFCCs_ 1  MFCCs_ 2  MFCCs_ 3  MFCCs_ 4  MFCCs_ 5  MFCCs_ 6  MFCCs_ 7  \\\n",
       "0       1.0  0.152936 -0.105586  0.200722  0.317201  0.260764  0.100945   \n",
       "1       1.0  0.171534 -0.098975  0.268425  0.338672  0.268353  0.060835   \n",
       "2       1.0  0.152317 -0.082973  0.287128  0.276014  0.189867  0.008714   \n",
       "3       1.0  0.224392  0.118985  0.329432  0.372088  0.361005  0.015501   \n",
       "4       1.0  0.087817 -0.068345  0.306967  0.330923  0.249144  0.006884   \n",
       "\n",
       "   MFCCs_ 8  MFCCs_ 9  MFCCs_10  ...  MFCCs_17  MFCCs_18  MFCCs_19  MFCCs_20  \\\n",
       "0 -0.150063 -0.171128  0.124676  ... -0.108351 -0.077623 -0.009568  0.057684   \n",
       "1 -0.222475 -0.207693  0.170883  ... -0.090974 -0.056510 -0.035303  0.020140   \n",
       "2 -0.242234 -0.219153  0.232538  ... -0.050691 -0.023590 -0.066722 -0.025083   \n",
       "3 -0.194347 -0.098181  0.270375  ... -0.136009 -0.177037 -0.130498 -0.054766   \n",
       "4 -0.265423 -0.172700  0.266434  ... -0.048885 -0.053074 -0.088550 -0.031346   \n",
       "\n",
       "   MFCCs_21  MFCCs_22           Family      Genus         Species  RecordID  \n",
       "0  0.118680  0.014038  Leptodactylidae  Adenomera  AdenomeraAndre         1  \n",
       "1  0.082263  0.029056  Leptodactylidae  Adenomera  AdenomeraAndre         1  \n",
       "2  0.099108  0.077162  Leptodactylidae  Adenomera  AdenomeraAndre         1  \n",
       "3 -0.018691  0.023954  Leptodactylidae  Adenomera  AdenomeraAndre         1  \n",
       "4  0.108610  0.079244  Leptodactylidae  Adenomera  AdenomeraAndre         1  \n",
       "\n",
       "[5 rows x 26 columns]"
      ]
     },
     "metadata": {},
     "output_type": "display_data"
    }
   ],
   "source": [
    "data.get_data(\"./data/Frogs_MFCCs.csv\",\n",
    "              data_type = \".csv\")"
   ]
  },
  {
   "cell_type": "code",
   "execution_count": 4,
   "id": "5a94e1bb",
   "metadata": {
    "scrolled": true,
    "tags": []
   },
   "outputs": [
    {
     "data": {
      "text/markdown": [
       "The first thing we need to do, is to determine which of the columns shall be our target variable.\n",
       "Hence they are all printed out in the next step.\n",
       "\n",
       "['MFCCs_ 1', 'MFCCs_ 2', 'MFCCs_ 3', 'MFCCs_ 4', 'MFCCs_ 5', 'MFCCs_ 6', 'MFCCs_ 7', 'MFCCs_ 8', 'MFCCs_ 9', 'MFCCs_10', 'MFCCs_11', 'MFCCs_12', 'MFCCs_13', 'MFCCs_14', 'MFCCs_15', 'MFCCs_16', 'MFCCs_17', 'MFCCs_18', 'MFCCs_19', 'MFCCs_20', 'MFCCs_21', 'MFCCs_22', 'Family', 'Genus', 'Species', 'RecordID']\n",
       "\n",
       "In the next step please input a column name, which contains your target variable."
      ],
      "text/plain": [
       "<IPython.core.display.Markdown object>"
      ]
     },
     "metadata": {},
     "output_type": "display_data"
    },
    {
     "name": "stdout",
     "output_type": "stream",
     "text": [
      "Please input your target variable here: Species\n"
     ]
    },
    {
     "data": {
      "text/markdown": [
       "Your data has now be split into a train and test set by a factor of `0.3`.\n",
       "This was done by selecting the column `Species` as the target column and the rest as independent variables."
      ],
      "text/plain": [
       "<IPython.core.display.Markdown object>"
      ]
     },
     "metadata": {},
     "output_type": "display_data"
    }
   ],
   "source": [
    "data.split_data(standardize = False, columns_to_drop = [\"RecordID\", \"Family\", \"Genus\"])"
   ]
  },
  {
   "cell_type": "code",
   "execution_count": 5,
   "id": "da0561c7",
   "metadata": {
    "tags": []
   },
   "outputs": [
    {
     "data": {
      "text/markdown": [
       "In general, the theory of Professor Johnson and Professor Lindenstrauss posits\n",
       "the amount of columns to which we can reduce our dataset without losing any distance related information.\n",
       "We can specify a parameter called `epsilon` which determines the margin in which the distance is contained.\n",
       "\n",
       "Our current dataset has 7195 observations and 26 dimensions. Using the JL algorithm $k$ = \n",
       "7612 dimensions."
      ],
      "text/plain": [
       "<IPython.core.display.Markdown object>"
      ]
     },
     "metadata": {},
     "output_type": "display_data"
    },
    {
     "data": {
      "text/markdown": [
       "Nevertheless, dimensionality reduction can still work with lower dimensions."
      ],
      "text/plain": [
       "<IPython.core.display.Markdown object>"
      ]
     },
     "metadata": {},
     "output_type": "display_data"
    },
    {
     "data": {
      "text/markdown": [
       "The next step is to set a baseline metric, which can be used to evaluate the algorithm with\n",
       "the reduced dataset. For this please call the function `baseline()`."
      ],
      "text/plain": [
       "<IPython.core.display.Markdown object>"
      ]
     },
     "metadata": {},
     "output_type": "display_data"
    }
   ],
   "source": [
    "data.JL_lemma()"
   ]
  },
  {
   "cell_type": "code",
   "execution_count": 6,
   "id": "222a0289",
   "metadata": {},
   "outputs": [
    {
     "data": {
      "text/markdown": [
       "In order to assess the performance of a classifier, it is important to incorporate a numerical evaluation of the algorithm. \n",
       "For this, a variety of performance measures are available. It is essential to make use of an adequate performance measure as \n",
       "their applicability and significance depend on the dataset as well as the specific classification task.\n",
       "There are a few metrics we can choose from, the needed API (which you need to input next) can be viewed\n",
       "[here](https://scikit-learn.org/stable/modules/model_evaluation.html). For the task at hand, the performance \n",
       "measures used are either *accuracy* or the $f_1$ *score*.\n",
       "\n",
       "\\begin{equation}\n",
       "Accuracy = \\frac{True\\ Positives + True\\ Negatives }{True\\ Positives + False\\ Positives + True\\ Negatives + False\\ Negatives}\n",
       "\\end{equation}\n",
       "\n",
       "*Accuracy* measures the performance of a classification model as the number of correct \n",
       "predictions divided by the total number of predictions. Its main advantage is its easy interpretability. \n",
       "Nevertheless, *accuracy* should only be used for balanced datasets. When dealing with imbalanced datasets,\n",
       "i.e. when some classes are much more frequent than others, *accuracy* is not a reliable performance measure. \n",
       "\n",
       "\\begin{equation}\n",
       "f_1 = 2 * \\frac{Precision * Recall}{Precision + Recall}\n",
       "\\end{equation}\n",
       "\n",
       "The $f_1$ Score is the harmonic mean of *precision* and *recall*, i.e. it applys equal weight to both. \n",
       "The $f_1$ Score represents a meaningful evaluation for imbalanced datasets. As such, we recommend to\n",
       "choose `accuracy_score` for balanced datasets and `f1_score` for imbalanced datasets.\n",
       "\n",
       "Additionally, for imbalanced datasets, i.e. situations in which the `f1_score` is chosen, the user should differentiate\n",
       "between binary and multi-class classification. For multi-class classification, the \n",
       "parameter *average* ought to be specified, as its default is only applicable if targets are\n",
       "[binary](https://scikit-learn.org/stable/modules/generated/sklearn.metrics.f1_score.html#sklearn.metrics.f1_score).\n",
       "Four other parameter values are possible: *micro*, *macro*, *weighted* and *samples*. *Samples* is only \n",
       "meaningful for multilabel classification, which will not be in the scope of this assignment. Thus, we will \n",
       "only examine *micro*, *macro* and *weighted*. \n",
       "\n",
       "The *macro* $f_1$ *score* is computed as a simple arithmetic mean of the per-class $f_1$ *scores*. \n",
       "It does not take label imbalance into account.\n",
       "\n",
       "The *weighted* $f_1$ *score* alters *macro* to account for label imbalance. The weight is applied by \n",
       "the number of true instances for each label.\n",
       "\n",
       "The *micro* $f_1$ *score* is calculated counting the total true positives, false negatives and false positives.\n",
       "Thus, the *micro* $f_1$ *score* is equal to total number of true positives over the total number of all observations.\n",
       "Further explanations can be found\n",
       "[here](https://scikit-learn.org/stable/modules/model_evaluation.html#multiclass-and-multilabel-classification.).\n",
       "\n",
       "In conclusion, we recommend to chose `average = weighted` for the performance metric `f1_score` for the \n",
       "purpose of this assignment as this will account for the imbalance in the dataset. \n",
       "\n",
       "The chosen metric used for our baseline should be inputted in the following prompt. Be sure to insert it \n",
       "like `accuracy_score` if you want to use `accuracy_score` or respective for all other metrics."
      ],
      "text/plain": [
       "<IPython.core.display.Markdown object>"
      ]
     },
     "metadata": {},
     "output_type": "display_data"
    },
    {
     "name": "stdout",
     "output_type": "stream",
     "text": [
      "Please insert your metric here: f1_score\n"
     ]
    },
    {
     "data": {
      "text/markdown": [
       "You have selected the `f1_score`. Since the `f1_score` can have different\n",
       "                usages as described earlier, depending on its inputs please input some keyword-arguments into\n",
       "                the next prompt.\n",
       "                Please be advised, that this is done via `average=\"weighted\", ...`, meaning with a = as separator."
      ],
      "text/plain": [
       "<IPython.core.display.Markdown object>"
      ]
     },
     "metadata": {},
     "output_type": "display_data"
    },
    {
     "name": "stdout",
     "output_type": "stream",
     "text": [
      "Please enter your keyword arguments here: average=\"weighted\"\n"
     ]
    },
    {
     "data": {
      "text/markdown": [
       "Awesome, you have set your baseline! Now call the function `apply_random_projection` to check out,\n",
       "    how good your model performs when we reduce its dimensions."
      ],
      "text/plain": [
       "<IPython.core.display.Markdown object>"
      ]
     },
     "metadata": {},
     "output_type": "display_data"
    }
   ],
   "source": [
    "data.baseline(model = SVC, kernel='rbf', gamma = 0.1, C=5, random_state = 0)"
   ]
  },
  {
   "cell_type": "code",
   "execution_count": 7,
   "id": "f9eff403",
   "metadata": {},
   "outputs": [
    {
     "data": {
      "text/markdown": [
       "\n",
       "Random Projection is a dimensionality reduction technique which is based on the **Johnson-Lindenstrauss lemma**.\n",
       "This method projects or transforms the higher dimensional data to a lower dimensional subspace.\n",
       "It approximately preserves the pairwise distances of the data points. \n",
       "It uses a random matrix to perform the projection and hence the name random projection. \n",
       "This matrix is also sometimes refered to as map.\n",
       "\n",
       "If the original dimension of data is $d$ and the target or projected dimension is $k$, where $k<<d$ \n",
       "then the random matrix is of size $k,\\ d$. The random projection is explained below.\n",
       "\n",
       "\\begin{equation}\n",
       "X_{k,\\ N}^{RP} = R_{k,\\ d} X_{d,\\ N}\n",
       "\\end{equation}\n",
       "\n",
       "Where\n",
       "\n",
       "$X_{k,\\ N}^{RP}$ is the random projected N observations in $k$ dimensions,\n",
       "\n",
       "$R_{k,\\ d}$ is the random matrix used for the projection or transformation,\n",
       "\n",
       "$X_{d,\\ N}$ is the original $N$ observations in d-dimension.\n",
       "\n",
       "There are a few techniques to create the random matrix. Gaussian and Sparse are just 2 among them.\n",
       "\n",
       "**Gaussian** – The random matrix is created in such a way that each entry is independently drawn from\n",
       "the standard normal distribution $N(0, \\frac{1}{n_{components}})$. Where $n_{components}$ is the dimensionality\n",
       "of the target projection space.\n",
       "\n",
       "**Sparse** – When a sparse matrix is used for the random projection to reduce the computational complexity, then this \n",
       "is a sparse projection. This is an alternate approach to Gaussian random projection matrix which ensures that a similar distance\n",
       "between the observations is preserved while reducing the dimensions.\n",
       "\n",
       "If the sparse projection matrix has $c$ nonzero entries per column, then the complexity of the operation \n",
       "is of order $O(ckN)$ instead of $O(dkN)$.\n",
       "\n",
       "Now we can perform the same actions for our second dataset."
      ],
      "text/plain": [
       "<IPython.core.display.Markdown object>"
      ]
     },
     "metadata": {},
     "output_type": "display_data"
    }
   ],
   "source": [
    "data.apply_random_projection(model = SVC, kernel='rbf', gamma = 0.1, C=5, random_state = 0)"
   ]
  },
  {
   "cell_type": "code",
   "execution_count": 8,
   "id": "8cd74c24",
   "metadata": {},
   "outputs": [],
   "source": [
    "dry_beans = RandomSparseRepresentation(text = False)"
   ]
  },
  {
   "cell_type": "code",
   "execution_count": 9,
   "id": "85e21748",
   "metadata": {},
   "outputs": [
    {
     "data": {
      "text/markdown": [
       "The columns of this dataset are: ['Area', 'Perimeter', 'MajorAxisLength', 'MinorAxisLength', 'AspectRation', 'Eccentricity', 'ConvexArea', 'EquivDiameter', 'Extent', 'Solidity', 'roundness', 'Compactness', 'ShapeFactor1', 'ShapeFactor2', 'ShapeFactor3', 'ShapeFactor4', 'Class']"
      ],
      "text/plain": [
       "<IPython.core.display.Markdown object>"
      ]
     },
     "metadata": {},
     "output_type": "display_data"
    },
    {
     "name": "stdout",
     "output_type": "stream",
     "text": [
      "Please input your target variable here: Class\n",
      "Please insert your metric here: f1_score\n"
     ]
    },
    {
     "data": {
      "text/markdown": [
       "You have selected the `f1_score`. Since the `f1_score` can have different\n",
       "                usages as described earlier, depending on its inputs please input some keyword-arguments into\n",
       "                the next prompt.\n",
       "                Please be advised, that this is done via `average=\"weighted\", ...`, meaning with a = as separator."
      ],
      "text/plain": [
       "<IPython.core.display.Markdown object>"
      ]
     },
     "metadata": {},
     "output_type": "display_data"
    },
    {
     "name": "stdout",
     "output_type": "stream",
     "text": [
      "Please enter your keyword arguments here: average=\"weighted\"\n"
     ]
    }
   ],
   "source": [
    "# Plot explained variances\n",
    "dry_beans.prepare_fit(url = \"./data/Dry_Bean_Dataset.xlsx\", data_type = \".xlsx\",\n",
    "                     standardize = True,\n",
    "                     model = SVC, kernel='rbf', gamma = 0.1, C=5, random_state = 0)"
   ]
  },
  {
   "cell_type": "code",
   "execution_count": 10,
   "id": "d7b57a09",
   "metadata": {},
   "outputs": [
    {
     "data": {
      "image/png": "[encoded data removed]",
      "text/plain": [
       "<Figure size 1152x720 with 2 Axes>"
      ]
     },
     "metadata": {
      "needs_background": "light"
     },
     "output_type": "display_data"
    }
   ],
   "source": [
    "font = {'family' : 'DejaVu Sans',\n",
    "        'weight' : 'bold',\n",
    "        'size'   : 13}\n",
    "\n",
    "plt.rc('font', **font)\n",
    "\n",
    "fig, ax = plt.subplots(1,2, figsize = (16,10))\n",
    "ax[0].set_ylim([0,1])\n",
    "ax[0].plot(data.dims, [data.baseline] * len(data.accuracies), color = \"r\")\n",
    "ax[0].plot(data.dims, data.accuracies)\n",
    "ax[0].set_title(\"Sparse Random Projection with Frog data\")\n",
    "ax[0].set_xlabel('# of dimensions')\n",
    "ax[0].set_ylabel(f\"{data.metric}\")\n",
    "ax[1].plot(dry_beans.dims, [dry_beans.baseline] * len(dry_beans.accuracies), color = \"r\")\n",
    "ax[1].plot(dry_beans.dims, dry_beans.accuracies)\n",
    "ax[1].set_title(\"Sparse Random Projection with Dry Beans Data\")\n",
    "ax[1].set_ylim([0,1])\n",
    "ax[1].set_xlabel('# of dimensions')\n",
    "ax[1].set_ylabel(f\"{dry_beans.metric}\")\n",
    "plt.show() "
   ]
  },
  {
   "cell_type": "markdown",
   "id": "5a519818",
   "metadata": {},
   "source": [
    "# Takeaway to go\n",
    "As can be inferred from both graphs above, the random dimensionality reduction worked for both datasets, even for smaller dimensions than those obtained from the JL Lemma. In both cases, we see how initially the performance following a reduction in dimensionality stays at or just slightly below the baseline. At a certain point however, the new performance drops off substantially, again in both datasets. This point (where the new performance decreases substantially), represents the number of dimensions that should be maintained when conducting the dimensionality reductions. Furthermore, both classifiers perform very well as can be seen by the high `f1_score`s.\n"
   ]
  }
 ],
 "metadata": {
  "kernelspec": {
   "display_name": "Python 3",
   "language": "python",
   "name": "python3"
  },
  "language_info": {
   "codemirror_mode": {
    "name": "ipython",
    "version": 3
   },
   "file_extension": ".py",
   "mimetype": "text/x-python",
   "name": "python",
   "nbconvert_exporter": "python",
   "pygments_lexer": "ipython3",
   "version": "3.9.4"
  }
 },
 "nbformat": 4,
 "nbformat_minor": 5
}
