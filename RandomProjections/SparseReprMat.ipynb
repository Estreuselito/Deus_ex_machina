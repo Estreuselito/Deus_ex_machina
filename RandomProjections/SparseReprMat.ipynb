{
 "cells": [
  {
   "cell_type": "markdown",
   "id": "c710f4c4",
   "metadata": {},
   "source": [
    "# Sparse Matrix Projections"
   ]
  },
  {
   "cell_type": "markdown",
   "id": "9c8cf167",
   "metadata": {},
   "source": [
    "## ToDo's\n",
    "1. I need some datasets\n",
    "2. Create a plot where you plot a metric (e.g. accuracy) w.r.t. number of dimensions / number of features that survived\n",
    "3. Can I log in to Wharton using Jupyter Notebook and can I use their resources?\n",
    "\n",
    "## Questions\n",
    "1. What does it mean that data is \"embedded in euclidean spaces\"?"
   ]
  },
  {
   "cell_type": "markdown",
   "id": "3a4cccad",
   "metadata": {},
   "source": [
    "# Euclidean space\n",
    "A euclidean space is defined by the linearty of the data. This means that the differences between the different observations are equidistance (i.e. the difference between $x_1$ and $x_2$ is the same as the difference between $x_n$ and $x_{n+1}$)\n",
    "- Outline what is Euclidean space and what are the properties thereof.\n",
    "- Make some plots and maybe a SVM (euclidean based) data"
   ]
  },
  {
   "cell_type": "markdown",
   "id": "8773fe78",
   "metadata": {},
   "source": [
    "# Non euclidean space\n",
    "In difference to the aforestated Eulicdean space, is the non euclidean space. This means, that the distances between $x_n$ and $x_{n+1}$ is not the same as from $x_{n+2}$ to $x_{n+3}$. An example is the measure of Lautstärke (dB). An increase of 3 dB makes the music double as loud.\n",
    "- dB\n",
    "- What are the differences\n",
    "- Plots and maybe a SVM with the same data- "
   ]
  },
  {
   "cell_type": "code",
   "execution_count": 1,
   "id": "78c62986",
   "metadata": {},
   "outputs": [],
   "source": [
    "## Random projections of high-dimensional data\n",
    "# for database example: digits\n",
    "# Jan Nagler (adapted, Rosebrock), April 21\n",
    "from sklearn.svm import LinearSVC\n",
    "from RandomProjectionClass import RandomSparseRepresentation\n",
    "\n",
    "%matplotlib inline\n",
    "\n",
    "import warnings\n",
    "warnings.filterwarnings('ignore') # works\n",
    "#warnings.filterwarnings(action='once') #does not work"
   ]
  },
  {
   "cell_type": "code",
   "execution_count": 2,
   "id": "b980bf1e",
   "metadata": {},
   "outputs": [
    {
     "data": {
      "text/markdown": [
       "Welcome to the interface of **RandomSparseRepresentation**! :) \n",
       "\n",
       "You have now instantiated an object, with which you can create a RandomSparseRepresentation. In order to do so, please first pick a dataset from this website [UCI ML](https://archive.ics.uci.edu/ml/index.php). \n",
       "\n",
       "Once you have done so, please use the function ```get_data()``` on your object to download that data. This function takes one necessary parameter and an optional one. The necessary one is the URL to the dataset you obtain when you right click in the data folder on the dataset and copy that link. Should the dataset not be a .csv within the datafolder on the UCI website, but rather a `.data` please also provide the column names as a list, which you can find in the `.names` file at UCI."
      ],
      "text/plain": [
       "<IPython.core.display.Markdown object>"
      ]
     },
     "metadata": {},
     "output_type": "display_data"
    }
   ],
   "source": [
    "data = RandomSparseRepresentation()"
   ]
  },
  {
   "cell_type": "code",
   "execution_count": 3,
   "id": "400f847a",
   "metadata": {},
   "outputs": [
    {
     "data": {
      "text/markdown": [
       "You successfully downloaded your dataset to the object! \n",
       "\n",
       "Now we can go ahead and split the data. Please call the `split_data()` function for it. You can pass it the `test_size` parameter, to split your data into test and train sets, the default value is `0.3`. Here are the first 5 rows of our data:"
      ],
      "text/plain": [
       "<IPython.core.display.Markdown object>"
      ]
     },
     "metadata": {},
     "output_type": "display_data"
    },
    {
     "data": {
      "text/html": [
       "<div>\n",
       "<style scoped>\n",
       "    .dataframe tbody tr th:only-of-type {\n",
       "        vertical-align: middle;\n",
       "    }\n",
       "\n",
       "    .dataframe tbody tr th {\n",
       "        vertical-align: top;\n",
       "    }\n",
       "\n",
       "    .dataframe thead th {\n",
       "        text-align: right;\n",
       "    }\n",
       "</style>\n",
       "<table border=\"1\" class=\"dataframe\">\n",
       "  <thead>\n",
       "    <tr style=\"text-align: right;\">\n",
       "      <th></th>\n",
       "      <th>sepal length in cm</th>\n",
       "      <th>sepal width in cm</th>\n",
       "      <th>petal length in cm</th>\n",
       "      <th>petal width in cm</th>\n",
       "      <th>class</th>\n",
       "    </tr>\n",
       "  </thead>\n",
       "  <tbody>\n",
       "    <tr>\n",
       "      <th>0</th>\n",
       "      <td>5.1</td>\n",
       "      <td>3.5</td>\n",
       "      <td>1.4</td>\n",
       "      <td>0.2</td>\n",
       "      <td>Iris-setosa</td>\n",
       "    </tr>\n",
       "    <tr>\n",
       "      <th>1</th>\n",
       "      <td>4.9</td>\n",
       "      <td>3.0</td>\n",
       "      <td>1.4</td>\n",
       "      <td>0.2</td>\n",
       "      <td>Iris-setosa</td>\n",
       "    </tr>\n",
       "    <tr>\n",
       "      <th>2</th>\n",
       "      <td>4.7</td>\n",
       "      <td>3.2</td>\n",
       "      <td>1.3</td>\n",
       "      <td>0.2</td>\n",
       "      <td>Iris-setosa</td>\n",
       "    </tr>\n",
       "    <tr>\n",
       "      <th>3</th>\n",
       "      <td>4.6</td>\n",
       "      <td>3.1</td>\n",
       "      <td>1.5</td>\n",
       "      <td>0.2</td>\n",
       "      <td>Iris-setosa</td>\n",
       "    </tr>\n",
       "    <tr>\n",
       "      <th>4</th>\n",
       "      <td>5.0</td>\n",
       "      <td>3.6</td>\n",
       "      <td>1.4</td>\n",
       "      <td>0.2</td>\n",
       "      <td>Iris-setosa</td>\n",
       "    </tr>\n",
       "  </tbody>\n",
       "</table>\n",
       "</div>"
      ],
      "text/plain": [
       "   sepal length in cm  sepal width in cm  petal length in cm  \\\n",
       "0                 5.1                3.5                 1.4   \n",
       "1                 4.9                3.0                 1.4   \n",
       "2                 4.7                3.2                 1.3   \n",
       "3                 4.6                3.1                 1.5   \n",
       "4                 5.0                3.6                 1.4   \n",
       "\n",
       "   petal width in cm        class  \n",
       "0                0.2  Iris-setosa  \n",
       "1                0.2  Iris-setosa  \n",
       "2                0.2  Iris-setosa  \n",
       "3                0.2  Iris-setosa  \n",
       "4                0.2  Iris-setosa  "
      ]
     },
     "metadata": {},
     "output_type": "display_data"
    }
   ],
   "source": [
    "data.get_data(\"https://archive.ics.uci.edu/ml/machine-learning-databases/iris/iris.data\",\n",
    "              names = [\"sepal length in cm\", \"sepal width in cm\", \"petal length in cm\", \"petal width in cm\", \"class\"] )"
   ]
  },
  {
   "cell_type": "code",
   "execution_count": 4,
   "id": "8a590413",
   "metadata": {},
   "outputs": [
    {
     "data": {
      "text/markdown": [
       "The first thing we need to do, is to determine which of the columns shall be our target variable. Hence they are all printed out in the next step. \n",
       "\n",
       "['sepal length in cm', 'sepal width in cm', 'petal length in cm', 'petal width in cm', 'class'] \n",
       "\n",
       "In the next step please input a column name, which is contains your target variable."
      ],
      "text/plain": [
       "<IPython.core.display.Markdown object>"
      ]
     },
     "metadata": {},
     "output_type": "display_data"
    },
    {
     "name": "stdout",
     "output_type": "stream",
     "text": [
      "Please input your target variable here: class\n"
     ]
    },
    {
     "data": {
      "text/markdown": [
       "Your data has now be splitted into a train and test set by a ratio of `0.3`. This was done, by selecting the column `class` as target column and the rest as independent variables."
      ],
      "text/plain": [
       "<IPython.core.display.Markdown object>"
      ]
     },
     "metadata": {},
     "output_type": "display_data"
    }
   ],
   "source": [
    "data.split_data()"
   ]
  },
  {
   "cell_type": "code",
   "execution_count": 5,
   "id": "6ea77504",
   "metadata": {},
   "outputs": [
    {
     "data": {
      "text/markdown": [
       "In general, the theory of Professor Johnson and Professor Lindenstrauss posits the amount of columns to which we can reduce our dataset without losing any distance related information. We can specify a parameter called `epsilon` which determines the margin in which the distance is contained. \n",
       "\n",
       "Our current dataset has 150 observations. Using the JL algorithm, we could reduce it to 4294 dimensions."
      ],
      "text/plain": [
       "<IPython.core.display.Markdown object>"
      ]
     },
     "metadata": {},
     "output_type": "display_data"
    },
    {
     "data": {
      "text/markdown": [
       "The JL also works, if we have a smaller dataset... Ask group!"
      ],
      "text/plain": [
       "<IPython.core.display.Markdown object>"
      ]
     },
     "metadata": {},
     "output_type": "display_data"
    },
    {
     "data": {
      "text/markdown": [
       "The next step is to set a define a baseline metric, on which we want to evaluate our algorithm with our later reduced dataset. For this please call the function `baseline()`."
      ],
      "text/plain": [
       "<IPython.core.display.Markdown object>"
      ]
     },
     "metadata": {},
     "output_type": "display_data"
    }
   ],
   "source": [
    "data.JL_lemma()"
   ]
  },
  {
   "cell_type": "code",
   "execution_count": 8,
   "id": "4584ccd8",
   "metadata": {},
   "outputs": [
    {
     "ename": "TypeError",
     "evalue": "'numpy.float64' object is not callable",
     "output_type": "error",
     "traceback": [
      "\u001b[1;31m---------------------------------------------------------------------------\u001b[0m",
      "\u001b[1;31mTypeError\u001b[0m                                 Traceback (most recent call last)",
      "\u001b[1;32m<ipython-input-8-78f16e286014>\u001b[0m in \u001b[0;36m<module>\u001b[1;34m\u001b[0m\n\u001b[1;32m----> 1\u001b[1;33m \u001b[0mdata\u001b[0m\u001b[1;33m.\u001b[0m\u001b[0mbaseline\u001b[0m\u001b[1;33m(\u001b[0m\u001b[0mmodel\u001b[0m \u001b[1;33m=\u001b[0m \u001b[0mLinearSVC\u001b[0m\u001b[1;33m)\u001b[0m\u001b[1;33m\u001b[0m\u001b[1;33m\u001b[0m\u001b[0m\n\u001b[0m",
      "\u001b[1;31mTypeError\u001b[0m: 'numpy.float64' object is not callable"
     ]
    }
   ],
   "source": [
    "data.baseline(model = LinearSVC)"
   ]
  },
  {
   "cell_type": "code",
   "execution_count": 9,
   "id": "5f004c95",
   "metadata": {},
   "outputs": [
    {
     "data": {
      "text/markdown": [
       "Now we can apply our random project onto our dataset, we loaded earlier. Once that function is done you can head over to the next function which is called `plot`. That function will plot the baseline and your chose metric over the different dimensions."
      ],
      "text/plain": [
       "<IPython.core.display.Markdown object>"
      ]
     },
     "metadata": {},
     "output_type": "display_data"
    }
   ],
   "source": [
    "data.apply_random_projection()"
   ]
  },
  {
   "cell_type": "code",
   "execution_count": 10,
   "id": "d3161cdc",
   "metadata": {},
   "outputs": [
    {
     "data": {
      "image/png": "[encoded data removed]",
      "text/plain": [
       "<Figure size 432x288 with 1 Axes>"
      ]
     },
     "metadata": {
      "needs_background": "light"
     },
     "output_type": "display_data"
    }
   ],
   "source": [
    "data.plot()"
   ]
  },
  {
   "cell_type": "code",
   "execution_count": null,
   "id": "1c2c79cc",
   "metadata": {},
   "outputs": [],
   "source": []
  }
 ],
 "metadata": {
  "kernelspec": {
   "display_name": "Python 3",
   "language": "python",
   "name": "python3"
  },
  "language_info": {
   "codemirror_mode": {
    "name": "ipython",
    "version": 3
   },
   "file_extension": ".py",
   "mimetype": "text/x-python",
   "name": "python",
   "nbconvert_exporter": "python",
   "pygments_lexer": "ipython3",
   "version": "3.9.4"
  }
 },
 "nbformat": 4,
 "nbformat_minor": 5
}
