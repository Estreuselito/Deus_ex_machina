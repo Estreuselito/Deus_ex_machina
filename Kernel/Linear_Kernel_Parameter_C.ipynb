{
 "cells": [
  {
   "cell_type": "markdown",
   "metadata": {},
   "source": [
    "# Imports"
   ]
  },
  {
   "cell_type": "code",
   "execution_count": 1,
   "metadata": {},
   "outputs": [],
   "source": [
    "import numpy as np\n",
    "import pandas as pd\n",
    "import matplotlib.pyplot as plt\n",
    "from sklearn.preprocessing import StandardScaler\n",
    "from sklearn.svm import SVC"
   ]
  },
  {
   "cell_type": "markdown",
   "metadata": {},
   "source": [
    "# Datasetcreation"
   ]
  },
  {
   "cell_type": "code",
   "execution_count": 2,
   "metadata": {},
   "outputs": [],
   "source": [
    "# Create Dataset\n",
    "dataset = np.array([[1, 3, 0], \n",
    "                    [2, 4, 0], \n",
    "                    [3, 5, 0],\n",
    "                    [3, 4, 0], \n",
    "                    [3.5, 3, 0], \n",
    "                    [4, 4, 0],\n",
    "                    [4, 3, 0], \n",
    "                    [1, 1, 1], \n",
    "                    [9, 3, 1],\n",
    "                    [10, 5, 1],\n",
    "                    [12, 2, 1], \n",
    "                    [11, 4, 1],\n",
    "                    [8, 5, 1],\n",
    "                    [19, 3, 1]])\n",
    "X = dataset[:14, 0:2]\n",
    "y = dataset[:14, -1]\n",
    "\n",
    "# Standardize Dataset\n",
    "sc = StandardScaler()\n",
    "X_std = sc.fit_transform(X)"
   ]
  },
  {
   "cell_type": "markdown",
   "metadata": {},
   "source": [
    "# Analysis of the Regularization Parameter: *C*"
   ]
  },
  {
   "cell_type": "code",
   "execution_count": 3,
   "metadata": {},
   "outputs": [
    {
     "data": {
      "image/png": "[encoded data removed]",
      "text/plain": [
       "<Figure size 1152x360 with 2 Axes>"
      ]
     },
     "metadata": {
      "needs_background": "light"
     },
     "output_type": "display_data"
    }
   ],
   "source": [
    "# Initialize the model and Training the model\n",
    "# For C, coef0 and gamma: Default Values are chosen\n",
    "model_dictionary = {}\n",
    "list_C = [1, 1000]\n",
    "for i in list_C:\n",
    "    model_dictionary[\"model%s\" %i] = SVC(kernel='linear',  \n",
    "                                          C=i).fit(X_std, y)\n",
    "\n",
    "h = .02  # step size in the mesh\n",
    "# create a mesh to plot in\n",
    "x_min, x_max = X_std[:, 0].min() - 1, X_std[:, 0].max() + 1\n",
    "y_min, y_max = X_std[:, 1].min() - 1, X_std[:, 1].max() + 1\n",
    "xx, yy = np.meshgrid(np.arange(x_min, x_max, h),\n",
    "                     np.arange(y_min, y_max, h))\n",
    "# title for the plots\n",
    "titles = list()\n",
    "for i in list_C:\n",
    "    titles.append('C: ' + str(i))\n",
    "\n",
    "# Determine the size of the figures\n",
    "fig=plt.figure(figsize=(16, 5))\n",
    "\n",
    "for i, clf in enumerate(model_dictionary.values()):\n",
    "    # Plot the decision boundary. For that, we will assign a color to each\n",
    "    # point in the mesh [x_min, x_max]x[y_min, y_max].\n",
    "    plt.subplot(int(len(model_dictionary.values())/2), 2, i + 1)\n",
    "    plt.subplots_adjust(wspace=0.4, hspace=0.7)\n",
    "\n",
    "    Z = clf.predict(np.c_[xx.ravel(), yy.ravel()])\n",
    "    \n",
    "    # Put the result into a color plot\n",
    "    Z = Z.reshape(xx.shape)\n",
    "    plt.contourf(xx, yy, Z, cmap=plt.cm.seismic, alpha=0.8)\n",
    "    \n",
    "    # Plot also the training points\n",
    "    plt.scatter(X_std[:, 0], X_std[:, 1], c=y, cmap=plt.cm.seismic)\n",
    "    plt.xlabel('X1')\n",
    "    plt.ylabel('X2')\n",
    "    plt.xlim(xx.min(), xx.max())\n",
    "    plt.ylim(yy.min(), yy.max())\n",
    "    plt.xticks()\n",
    "    plt.yticks()\n",
    "    plt.title(titles[i])\n",
    "plt.show()"
   ]
  },
  {
   "cell_type": "markdown",
   "metadata": {},
   "source": [
    "# Takeaway: \n",
    "The Linear Kernel is also affected by the Hyperparameter C, which is used for regularization. For larger values of C, a smaller margin will be accepted if the decision function is better at classifying all training points correctly. A lower C will encourage a larger margin, therefore a simpler decision function, at the cost of training accuracy. This can also be exhibited by this plot. Using a C=1, one sample is missclassified but the decision boundary looks likely to generalize well, i.e. no overfitting. In contrast, with a C=1000, no misclassifications during training occur, but the decision boundary does not seem not generalize well as it tries to classify the red dot at the bottem left correctly, which in reality is probably just an outlier. The model overfits."
   ]
  }
 ],
 "metadata": {
  "kernelspec": {
   "display_name": "Python 3",
   "language": "python",
   "name": "python3"
  },
  "language_info": {
   "codemirror_mode": {
    "name": "ipython",
    "version": 3
   },
   "file_extension": ".py",
   "mimetype": "text/x-python",
   "name": "python",
   "nbconvert_exporter": "python",
   "pygments_lexer": "ipython3",
   "version": "3.8.3"
  }
 },
 "nbformat": 4,
 "nbformat_minor": 4
}
