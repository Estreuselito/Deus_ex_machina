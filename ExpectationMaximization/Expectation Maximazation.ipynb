{
 "cells": [
  {
   "cell_type": "code",
   "execution_count": 1,
   "metadata": {},
   "outputs": [],
   "source": [
    "import numpy as np\n",
    "from IPython.display import clear_output, display, Markdown\n",
    "import time"
   ]
  },
  {
   "cell_type": "code",
   "execution_count": 2,
   "metadata": {},
   "outputs": [],
   "source": [
    "def em_algorithm(prior_a, prior_b, iterations, trials = 5):\n",
    "    # create some binomial data\n",
    "    n, p = 10, .5  # number of trials, probability of each trial\n",
    "    # s is an array of 1000 trials, where each number represents the number of heads, which was thrown with\n",
    "    # a probability of 0.5\n",
    "#     s = np.random.binomial(n, p, trials)\n",
    "    s = np.array([5, 9, 8, 4, 7])\n",
    "    for i in range(0,iterations):\n",
    "        probability_coin_a, probability_coin_b = [], []\n",
    "        display(Markdown(f\"We are currently at the {i} iteration. Our current probabilites for coin A & B are {prior_a} and {prior_b}.\"))\n",
    "        for heads in s:\n",
    "            coin_a = prior_a**heads * (1-prior_a)**(n-heads) / (prior_a**heads * (1-prior_a)**(n-heads) + 0.5**heads * 0.5**(n-heads))\n",
    "            display(Markdown(f\"We have {heads} appearences of heads and {n-heads} appearances of tails. Now we calculate \\\n",
    "            the probability that this data belongs to coin A using \\\n",
    "            $$\\\\frac{{{{{prior_a}^{heads}}}*{{{1-prior_a}^{n-heads}}}}}{{{{{{{prior_a}^{heads}}}*{{{1-prior_a}^{n-heads}}}}}+{{{{{0.5}^{heads}}}*{{{0.5}^{n-heads}}}}}}} = {round(coin_a,2)}$$\"))\n",
    "            display(Markdown(f\"Our probability that this dataset belongs to coin A is {round(coin_a,2)}, \\\n",
    "            that it belongs to coin b {round(1-coin_a,2)}.\"))\n",
    "            probability_coin_a.append(coin_a)\n",
    "            probability_coin_b.append(1-coin_a)\n",
    "        coin_a_sum_heads = np.sum(probability_coin_a * s)\n",
    "        coin_a_sum_tails = np.sum(probability_coin_a * (n-s))\n",
    "        coin_b_sum_heads = np.sum(probability_coin_b * s)\n",
    "        coin_b_sum_tails = np.sum(probability_coin_b * (n-s))\n",
    "        prior_a = round(coin_a_sum_heads / (coin_a_sum_heads + coin_a_sum_tails),2)\n",
    "        prior_b = round(coin_b_sum_heads / (coin_b_sum_heads + coin_b_sum_tails),2)\n",
    "        display(Markdown(f\"Now we updated our priors using the EM algorithm to coin A \\\n",
    "        {round(prior_a,2)} and coin B {round(prior_b,2)}.\"))\n",
    "        time.sleep(10)\n",
    "        clear_output()\n",
    "    return round(prior_a,2), round(prior_b,2)"
   ]
  },
  {
   "cell_type": "code",
   "execution_count": 3,
   "metadata": {},
   "outputs": [
    {
     "data": {
      "text/plain": [
       "(0.79, 0.51)"
      ]
     },
     "execution_count": 3,
     "metadata": {},
     "output_type": "execute_result"
    }
   ],
   "source": [
    "em_algorithm(0.6, 0.5, 10)"
   ]
  }
 ],
 "metadata": {
  "kernelspec": {
   "display_name": "Python 3",
   "language": "python",
   "name": "python3"
  },
  "language_info": {
   "codemirror_mode": {
    "name": "ipython",
    "version": 3
   },
   "file_extension": ".py",
   "mimetype": "text/x-python",
   "name": "python",
   "nbconvert_exporter": "python",
   "pygments_lexer": "ipython3",
   "version": "3.8.3"
  }
 },
 "nbformat": 4,
 "nbformat_minor": 4
}
