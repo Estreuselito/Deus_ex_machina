{
 "cells": [
  {
   "cell_type": "code",
   "execution_count": null,
   "id": "8581ded5",
   "metadata": {},
   "outputs": [],
   "source": [
    "import numpy as np\n",
    "import matplotlib.pyplot as plt\n",
    "import seaborn as sns         #seaborn is a data visualization library based on matplotlib\n",
    "import sklearn.cluster as cluster\n",
    "import time\n",
    "%matplotlib inline\n",
    "sns.set_context('poster')\n",
    "sns.set_color_codes()\n",
    "plot_kwds = {'alpha' : 0.25, 's' : 80, 'linewidths':0}"
   ]
  },
  {
   "cell_type": "markdown",
   "id": "6b2e2214",
   "metadata": {},
   "source": [
    "## Prominent Clustering Algorithms\n",
    "### K-means\n",
    "K-means is going to throw points into clusters whether they belong or not; it also assumes you clusters are globular. K-Means scores very poorly on this point. **Intuitive parameters**: If you have a good intuition for how many clusters the dataset your exploring has then great, otherwise you might have a problem. **Stability**: Hopefully the clustering is stable for your data. Best to have many runs and check though. **Performance**: This is K-Means's big win. It’s a simple algorithm and with the right tricks and optimizations can be made exceptionally efficient. There are few algorithms that can compete with K-Means for performance. If you have truly huge data then K-Means might be your only option.\n",
    "\n",
    "### Affinity Propogation\n",
    "\n",
    "### Mean Shift\n",
    "\n",
    "### Spectral Clustering\n",
    "\n",
    "### Agglomerative Clustering\n",
    "\n",
    "### DBSCAN\n",
    "\n",
    "### HDBSCAN\n",
    "\n",
    "\n",
    "\n",
    "**Source**: https://hdbscan.readthedocs.io/en/latest/comparing_clustering_algorithms.html"
   ]
  },
  {
   "cell_type": "markdown",
   "id": "5b1dc945",
   "metadata": {},
   "source": [
    "## Questions\n",
    "### May 22\n",
    "1. Is there a particular type of clustering algorithm we want to work with, e.g. k-means?"
   ]
  },
  {
   "cell_type": "markdown",
   "id": "29340b91",
   "metadata": {},
   "source": [
    "## Ideas\n",
    "1. Do something with our class's Whatsapp data? Maybe some people wouldn't like it but could be interesting. Or even just the data from our own group (just the four of us), the idea being that there would be clusters that approximately represent the due dates of the assignments. \n",
    "2. Use clustering for a natural language translation task. Potential dataset is and language pairs are: French-English, Spanish-English, German-English, and Czech-English. Link: http://statmt.org/wmt11/translation-task.html#download.\n",
    "3. Use clustering to determine words commonly used together in GitHib commit messages. Link: https://github.com/src-d/datasets/tree/master/CommitMessages.\n",
    "4. Cluster analysis of yield estimates of select major crops (specifically wheat, maize, rice, and soybeans) worldwide for the period 1981-2016. Link: https://doi.pangaea.de/10.1594/PANGAEA.909132.\n",
    "5. Look at preliminary storm based data to see if some obvious patterns emerge. Dataset: https://console.cloud.google.com/marketplace/product/noaa-public/preliminary-storm-reports?filter=solution-type:dataset&filter=category:big-data&project=test1-314415. "
   ]
  },
  {
   "cell_type": "markdown",
   "id": "e5a8d33e",
   "metadata": {},
   "source": [
    "## Notes to Self\n",
    "- $\\underline{Remember}$: To enter math mode two dollar signs are required. \n",
    "- Alternatively, writing \"%%latex\" can make the entire cell be in math mode.\n",
    "- Just like there is hard and soft classification, there is also hard and soft clustering. Soft clustering is where a given point is both in Cluster A and Cluster B, likely in different (i.e. weighted proportions). One type of well-known soft clustering algorithm are Gaussian Mixture Models. "
   ]
  }
 ],
 "metadata": {
  "kernelspec": {
   "display_name": "Python 3",
   "language": "python",
   "name": "python3"
  },
  "language_info": {
   "codemirror_mode": {
    "name": "ipython",
    "version": 3
   },
   "file_extension": ".py",
   "mimetype": "text/x-python",
   "name": "python",
   "nbconvert_exporter": "python",
   "pygments_lexer": "ipython3",
   "version": "3.9.4"
  }
 },
 "nbformat": 4,
 "nbformat_minor": 5
}
